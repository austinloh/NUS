{
  "cells": [
    {
      "cell_type": "code",
      "execution_count": 1,
      "metadata": {
        "id": "kuzTFbwJJ3pR"
      },
      "outputs": [],
      "source": [
        "import numpy as np\n",
        "import matplotlib.pyplot as plt\n",
        "import tensorflow as tf"
      ]
    },
    {
      "cell_type": "markdown",
      "metadata": {
        "id": "qynNtMOXKRrx"
      },
      "source": [
        "# Programming Assignment 6\n",
        "\n",
        "---\n",
        "\n",
        "## **MNIST Classification with Keras**\n",
        "\n",
        "**Objective:**\n",
        "\n",
        "The objective of the assignment is to create and train a Neural Network for a given dataset. The dataset need to be preprocessed first. After training, we can evalute the model's performance by making predictions on the test set. After completing this assignment, you should be familiar with the following:\n",
        "\n",
        "* How to load a Keras dataset?\n",
        "\n",
        "* How to one-hot encode the labels?\n",
        "\n",
        "* How to reshape the dataset?\n",
        "\n",
        "* How to normalize the features in the dataset for better results?\n",
        "\n",
        "* How to create and train a Neural Network?\n",
        "\n",
        "* How to evaluate the results of the NN?\n",
        "\n",
        "We will load and process the MNIST dataset during this assignment. The MNIST dataset is developed for recognizing the 10 handwritten digits, with 60,000 images in the training set and 10,000 images in the test set. Images in the dataset are grayscaled and have 28x28 pixels.\n",
        "\n",
        "\n",
        "**Deliverables:**\n",
        "\n",
        "*   This colab notebook with python codes\n",
        "\n",
        "Total Marks: 25 = 2 + 2 + 2 + 2 + 8 + 4 + 2 + 3.\n",
        "---\n"
      ]
    },
    {
      "cell_type": "markdown",
      "metadata": {
        "id": "aZYw4DbuMEpz"
      },
      "source": [
        "##**Q1. Load the dataset**\n",
        "\n",
        "For this question, you need to implement the function `load_mnist_dataset` that does the followings (**2 marks**):\n",
        "\n",
        "* Load the MNIST dataset (Hint: see https://www.tensorflow.org/api_docs/python/tf/keras/datasets/mnist/load_data);\n",
        "* Separate the training data and labels, as well as test data and labels."
      ]
    },
    {
      "cell_type": "code",
      "execution_count": 2,
      "metadata": {
        "colab": {
          "base_uri": "https://localhost:8080/"
        },
        "id": "L7eDL4bALx9C",
        "outputId": "877c37bd-fdd3-49dc-cee2-da1b97296bfc"
      },
      "outputs": [
        {
          "name": "stdout",
          "output_type": "stream",
          "text": [
            "Downloading data from https://storage.googleapis.com/tensorflow/tf-keras-datasets/mnist.npz\n",
            "11490434/11490434 [==============================] - 0s 0us/step\n"
          ]
        }
      ],
      "source": [
        "def load_mnist_dataset():\n",
        "  '''\n",
        "  RETURN\n",
        "    x_train: numpy array\n",
        "    y_train: numpy array\n",
        "    x_test: numpy array\n",
        "    y_test: numpy array\n",
        "  '''\n",
        "  x_train, y_train, x_test, y_test = None, None, None, None\n",
        "  # START CODE HERE\n",
        "  data = tf.keras.datasets.mnist.load_data()\n",
        "  x_train, y_train, x_test, y_test = data[0][0], data[0][1], data[1][0], data[1][1]\n",
        "  \n",
        "  # END CODE HERE\n",
        "  return x_train, y_train, x_test, y_test\n",
        "\n",
        "x_train, y_train, x_test, y_test = load_mnist_dataset()"
      ]
    },
    {
      "cell_type": "markdown",
      "metadata": {
        "id": "X2kEIenkNboh"
      },
      "source": [
        "When you run this code, you should get the expected output as shown below:\n"
      ]
    },
    {
      "cell_type": "code",
      "execution_count": 3,
      "metadata": {
        "colab": {
          "base_uri": "https://localhost:8080/"
        },
        "id": "VTL_8LsHQFvR",
        "outputId": "e203f55f-636e-4972-b131-819f2b5980ff"
      },
      "outputs": [
        {
          "name": "stdout",
          "output_type": "stream",
          "text": [
            "Shape of training set:  (60000, 28, 28)\n",
            "Shape of testing set:  (10000, 28, 28)\n",
            "Shape of training labels:  (60000,)\n",
            "Shape of testing labels:  (10000,)\n"
          ]
        }
      ],
      "source": [
        "print(\"Shape of training set: \", x_train.shape)\n",
        "print(\"Shape of testing set: \", x_test.shape)\n",
        "print(\"Shape of training labels: \", y_train.shape)\n",
        "print(\"Shape of testing labels: \", y_test.shape)"
      ]
    },
    {
      "cell_type": "markdown",
      "metadata": {
        "id": "E2RT9HHkNpT0"
      },
      "source": [
        "Expected output :\n",
        "\n",
        "```\n",
        "Shape of training set:  (60000, 28, 28)\n",
        "Shape of testing set:  (10000, 28, 28)\n",
        "Shape of training labels:  (60000,)\n",
        "Shape of testing labels:  (10000,)\n",
        "```\n",
        "\n",
        "\n"
      ]
    },
    {
      "cell_type": "markdown",
      "metadata": {
        "id": "ZvURFnXUQRGw"
      },
      "source": [
        "And if you run this cell, it will show an image of the digit $5$."
      ]
    },
    {
      "cell_type": "code",
      "execution_count": 4,
      "metadata": {
        "colab": {
          "base_uri": "https://localhost:8080/",
          "height": 265
        },
        "id": "hIEwevCnQWJ6",
        "outputId": "8367f02c-16a2-48a4-8254-d0973b1a00e3"
      },
      "outputs": [
        {
          "data": {
            "image/png": "[encoded data removed]",
            "text/plain": [
              "<Figure size 432x288 with 1 Axes>"
            ]
          },
          "metadata": {
            "needs_background": "light"
          },
          "output_type": "display_data"
        }
      ],
      "source": [
        "plt.imshow(x_train[0])\n",
        "plt.show()"
      ]
    },
    {
      "cell_type": "markdown",
      "metadata": {
        "id": "sf4fr5f6LOyo"
      },
      "source": [
        "## **Q2. One-hot encoding of the dataset**\n",
        "The dataset contains images of handwritten digits. Hence, they belong to one of the 10 categories, 0 to 9, depending on the digit they represent. \n",
        "\n",
        "However, to be able to exploit the dataset more easily, we want the true labels to be encoded in the same format. Thus, we will do **one-hot encoding** for labels. That is, given label $i$, we will create a 10-dimensional binary vector $\\{0, 1\\}^{10}$ and set its $i$-th dimension to 1 and others to 0. For example, the one-hot encoding of label $7$ will be:\n",
        "\n",
        "$$ \\mathbf{y} = [0, 0, 0, 0, 0, 0, 0, 1, 0, 0] $$\n",
        "\n",
        "For this question, you need to implement a function to transform an array of labels to the corresponding one-hot encodings (**2 marks**). "
      ]
    },
    {
      "cell_type": "code",
      "execution_count": 19,
      "metadata": {
        "id": "wtNnd9d8S4Tb"
      },
      "outputs": [],
      "source": [
        "def one_hot_encoding(y_array):\n",
        "  '''\n",
        "  y_array: numpy array, shape = [N,]\n",
        "  RETURN\n",
        "    y_encoded_array: numpy array, shape = [N, 10]\n",
        "  '''\n",
        "  y_encoded_array = None\n",
        "  \n",
        "  #START CODE HERE\n",
        "  y_encoded_array = np.eye(10)[y_array]  \n",
        "\n",
        "  \n",
        "  #END CODE HERE\n",
        "  \n",
        "  return y_encoded_array\n",
        "  "
      ]
    },
    {
      "cell_type": "markdown",
      "metadata": {
        "id": "JL0wrsNtuC5K"
      },
      "source": [
        "When you run this code, you should get the expected output as shown below:\n"
      ]
    },
    {
      "cell_type": "code",
      "execution_count": 20,
      "metadata": {
        "colab": {
          "base_uri": "https://localhost:8080/"
        },
        "id": "J1euQRQ_trsa",
        "outputId": "85a60758-3fba-4864-acd5-fea366c449ae"
      },
      "outputs": [
        {
          "name": "stdout",
          "output_type": "stream",
          "text": [
            "1 becomes [0. 1. 0. 0. 0. 0. 0. 0. 0. 0.]\n",
            "5 becomes [0. 0. 0. 0. 0. 1. 0. 0. 0. 0.]\n"
          ]
        }
      ],
      "source": [
        "y_encoded_train = one_hot_encoding(y_train)\n",
        "y_encoded_test = one_hot_encoding(y_test)\n",
        "\n",
        "print(\"{} becomes {}\".format(y_train[3],y_encoded_train[3]))\n",
        "print(\"{} becomes {}\".format(y_test[45],y_encoded_test[45]))"
      ]
    },
    {
      "cell_type": "markdown",
      "metadata": {
        "id": "QpkR03fBuD6V"
      },
      "source": [
        "Expected output :\n",
        "\n",
        "```\n",
        "1 becomes [0. 1. 0. 0. 0. 0. 0. 0. 0. 0.]\n",
        "5 becomes [0. 0. 0. 0. 0. 1. 0. 0. 0. 0.]\n",
        "```\n",
        "\n"
      ]
    },
    {
      "cell_type": "markdown",
      "metadata": {
        "id": "W-oWZVhrSNlv"
      },
      "source": [
        "## **Q3. Reshape the data**\n",
        "\n",
        "The images are black and white of size $28 \\times 28$. We want to work with simple classification model, so we need to transform the array of the images from size $(28 \\times 28)$ to $(784)$.\n",
        "\n",
        "For this question, you need to implement the `reshape_x` function that transforms the images of size $(28\\times 28)$ to the size $(784)$. The function takes a numpy array of size $(N, 28, 28)$ as input, where $N$ is the dataset size and each row of the array corresponds to an image. You can use the numpy function ```np.reshape``` in your own function (**2 marks**)."
      ]
    },
    {
      "cell_type": "code",
      "execution_count": 35,
      "metadata": {
        "id": "M7TN-Li8S4-d"
      },
      "outputs": [],
      "source": [
        "def reshape_x(X):\n",
        "  '''\n",
        "  x: numpy array, shape = [N, 28, 28]\n",
        "  RETURN \n",
        "    x_reshape: numpy array, shape = [N, 784,]\n",
        "  '''\n",
        "  X_reshape = None\n",
        "  \n",
        "  # START CODE HERE\n",
        "  X_reshape = np.reshape(X,(len(X), 784))\n",
        "  \n",
        "  \n",
        "  \n",
        "  # END CODE HERE\n",
        "  \n",
        "  return X_reshape\n"
      ]
    },
    {
      "cell_type": "markdown",
      "metadata": {
        "id": "sH4HofXwVCsT"
      },
      "source": [
        "When you run this code, you should get the expected output as shown below:\n"
      ]
    },
    {
      "cell_type": "code",
      "execution_count": 36,
      "metadata": {
        "colab": {
          "base_uri": "https://localhost:8080/"
        },
        "id": "MWc1HuPGVDPH",
        "outputId": "c2d5549f-50da-468c-e3fa-b7ad8f0c3f4f"
      },
      "outputs": [
        {
          "name": "stdout",
          "output_type": "stream",
          "text": [
            "Shape of the reshaped training set images:  (60000, 784)\n",
            "Shapeh of the reshaped testing set images:  (10000, 784)\n"
          ]
        }
      ],
      "source": [
        "x_train_reshape = reshape_x(x_train)\n",
        "x_test_reshape = reshape_x(x_test)\n",
        "\n",
        "print(\"Shape of the reshaped training set images: \", x_train_reshape.shape)\n",
        "print(\"Shapeh of the reshaped testing set images: \", x_test_reshape.shape)"
      ]
    },
    {
      "cell_type": "markdown",
      "metadata": {
        "id": "36g8FqHpQAci"
      },
      "source": [
        "Expected output :\n",
        "\n",
        "```\n",
        "Shape of the reshaped training set images:  (60000, 784)\n",
        "Shapeh of the reshaped testing set images:  (10000, 784)\n",
        "\n",
        "```\n",
        "\n"
      ]
    },
    {
      "cell_type": "markdown",
      "metadata": {
        "id": "1SPPXqUYLJmN"
      },
      "source": [
        "##**Q4. `normalize_dataset()`**\n",
        "\n",
        "You need to implement this function to normalize the input values, i.e., `X` values. This function takes in the numpy array `X` and returns the normalized numpy array of `X`. This can be done in single line of code. (**2 marks**)"
      ]
    },
    {
      "cell_type": "code",
      "execution_count": 47,
      "metadata": {
        "id": "eSdVALMUK4w5"
      },
      "outputs": [],
      "source": [
        "def normalize_dataset(X):\n",
        "  '''\n",
        "  X: numpy array, shape = [N, D]\n",
        "  RETURN\n",
        "    X_norm: numpy array, shape = [N, D]\n",
        "  '''\n",
        "  X_norm = None\n",
        "  # START CODE HERE\n",
        "  #X_norm = (X-np.min(X,axis=0))/(np.max(X,axis=0)-np.min(X,axis=0))\n",
        "  X_norm = (X-np.mean(X))/(np.std(X))\n",
        "  \n",
        "  # END CODE HERE\n",
        "\n",
        "  return X_norm\n"
      ]
    },
    {
      "cell_type": "markdown",
      "metadata": {
        "id": "v50NBnA_x4M0"
      },
      "source": [
        "When you run this code, you should get the expected output as shown below:"
      ]
    },
    {
      "cell_type": "code",
      "execution_count": 48,
      "metadata": {
        "colab": {
          "base_uri": "https://localhost:8080/"
        },
        "id": "zTnMILN7Rndl",
        "outputId": "5a0a99ab-29c3-44e9-8585-5e6d7744eb74"
      },
      "outputs": [
        {
          "name": "stdout",
          "output_type": "stream",
          "text": [
            "(60000, 784)\n",
            "(10000, 784)\n",
            "-0.424073894391566 0.22504955362461426\n",
            "-0.42680526933869534 2.7687502268907367\n"
          ]
        }
      ],
      "source": [
        "x_train_norm = normalize_dataset(x_train_reshape)\n",
        "x_test_norm = normalize_dataset(x_test_reshape)\n",
        "print(x_train_reshape.shape)\n",
        "print(x_test_reshape.shape)\n",
        "print(x_train_norm[0][0], x_train_norm[1][127])\n",
        "print(x_test_norm[0][0], x_test_norm[1][127])"
      ]
    },
    {
      "cell_type": "markdown",
      "metadata": {
        "id": "nmmY8Jksxy00"
      },
      "source": [
        "Expected output :\n",
        "\n",
        "```\n",
        "(60000, 784)\n",
        "(10000, 784)\n",
        "-0.424073894391566 0.22504955362461426\n",
        "-0.42680526933869534 2.7687502268907367\n",
        "```\n",
        "\n"
      ]
    },
    {
      "cell_type": "markdown",
      "metadata": {
        "id": "ZaDYbaFoYIOk"
      },
      "source": [
        "## **Import packages for Implementing the Neural Network**\n",
        "\n",
        "Next, we will implement our Neural Networks for recogizing the digits in images. To make the implementation easier, we will use a deep learning framework. A deep learning framework can automatically do the very complex gradient backpropagation and gradient descent for us, saving us a lot of coding. In this assignment, we use the keras framework, which provides high-level building blocks for developing deep learning models. We now import the relevant packages for later usage."
      ]
    },
    {
      "cell_type": "code",
      "execution_count": 49,
      "metadata": {
        "colab": {
          "base_uri": "https://localhost:8080/"
        },
        "id": "VUKBJ4YqYDNk",
        "outputId": "2d25031b-fb50-4d89-b827-f064614284ea"
      },
      "outputs": [
        {
          "name": "stdout",
          "output_type": "stream",
          "text": [
            "Using tensorflow version 2.9.2\n",
            "Using keras version 2.9.0\n"
          ]
        }
      ],
      "source": [
        "# Importing the Keras main module forcing tensorflow 1.x backend\n",
        "import keras\n",
        "import tensorflow as tf\n",
        "from keras.datasets import mnist\n",
        "from keras.utils.np_utils import to_categorical\n",
        "from keras import optimizers\n",
        "from keras.models import Sequential\n",
        "from keras.layers import Dense, Activation, Flatten\n",
        "\n",
        "print(\"Using tensorflow version \" + str(tf.__version__))\n",
        "print(\"Using keras version \" + str(keras.__version__))"
      ]
    },
    {
      "cell_type": "markdown",
      "metadata": {
        "id": "sCaIUDThy-ZQ"
      },
      "source": [
        "##**Q5. Create a simple Neural Network with Keras**\n",
        "\n",
        "In this question, we will create our own Neural Network (NN). Specifically, **you need to implement a three-layer Neural Network with the architecture shown by the Figure below.** \n",
        "The NN should take a tensor the same shape as our digits as input. The first hidden layer should output 300 dimensional vector and use `sigmoid` as the activation function. The second hidden layer should also output 300 dimensional vector and use `relu` as the activation function. The third hidden layer (i.e., the output layer) should output the size of  prediction and use a softmax activation at the end for multi-class classification (**8 marks**). \n",
        "\n",
        "\n",
        "![flowchart](https://raw.githubusercontent.com/acharkq/IT1244/main/Assignment6/flowchar2.png)\n",
        "\n",
        "**<center>Figure1: Overall Architecture of our Neural Network.</center>**\n",
        "\n",
        "Looks a bit of complex, right? Luckily, these modules can be implemented by Keras with only a few lines of code, as long as you find the right functions and setup the parameters correctly. To know more about implementing Neural Networks with Keras, see exmaples at [https://keras.io/examples/](https://keras.io/examples/), guides at [https://keras.io/guides/](https://keras.io/guides/), and the API document at [https://keras.io/api/](https://keras.io/api/). \n",
        "\n",
        "To help you, here are some hints to create the Neural Network (Figure1):\n",
        "\n",
        "* Initialize the Neural Network as an instance of the `keras.models.Sequential` object. In Keras, a `Sequential` instance is a container of other Keras modules. When setup correctly, it consumes one input tensor and output one output tensor;\n",
        "* All the modules (i.e., the linear layers and the activation functions) in Figure1 have an implementation in Keras. You only need to add them into the `Sequential` instance;\n",
        "* Setup the modules' parameters. Although the modules are off-the-shelf, we still need to let the modules know \"what is the size of the input\", \"how many dimensions do we want for the intermediate layer\", etc.\n"
      ]
    },
    {
      "cell_type": "code",
      "execution_count": 59,
      "metadata": {
        "id": "9gkdtmNHvrEC"
      },
      "outputs": [],
      "source": [
        "# initialize the neural network under the name `model`\n",
        "model = None\n",
        "\n",
        "# START CODE HERE\n",
        "model = keras.models.Sequential()\n",
        "model.add(keras.layers.Input(784))\n",
        "model.add(keras.layers.Dense(300,activation=\"sigmoid\"))\n",
        "model.add(keras.layers.Dense(300,activation=\"relu\"))\n",
        "model.add(keras.layers.Dense(10,activation=\"softmax\"))\n",
        "\n",
        "\n",
        "# END CODE HERE"
      ]
    },
    {
      "cell_type": "markdown",
      "metadata": {
        "id": "S-KkQfnF0ztv"
      },
      "source": [
        "When you run this code, you should get the expected output as shown below:"
      ]
    },
    {
      "cell_type": "code",
      "execution_count": 60,
      "metadata": {
        "colab": {
          "base_uri": "https://localhost:8080/"
        },
        "id": "f89bGphuzVtx",
        "outputId": "fef4b527-a776-4fc9-cb29-a17596b3d15a"
      },
      "outputs": [
        {
          "name": "stdout",
          "output_type": "stream",
          "text": [
            "Model: \"sequential_2\"\n",
            "_________________________________________________________________\n",
            " Layer (type)                Output Shape              Param #   \n",
            "=================================================================\n",
            " dense_6 (Dense)             (None, 300)               235500    \n",
            "                                                                 \n",
            " dense_7 (Dense)             (None, 300)               90300     \n",
            "                                                                 \n",
            " dense_8 (Dense)             (None, 10)                3010      \n",
            "                                                                 \n",
            "=================================================================\n",
            "Total params: 328,810\n",
            "Trainable params: 328,810\n",
            "Non-trainable params: 0\n",
            "_________________________________________________________________\n"
          ]
        }
      ],
      "source": [
        "model.summary()"
      ]
    },
    {
      "cell_type": "markdown",
      "metadata": {
        "id": "bi875UoI0pet"
      },
      "source": [
        "Expected output (the number after the name of the layer can change) :\n",
        "\n",
        "```\n",
        "Model: \"sequential_2\"\n",
        "_________________________________________________________________\n",
        " Layer (type)                Output Shape              Param #   \n",
        "=================================================================\n",
        " dense_5 (Dense)             (None, 300)               235500    \n",
        "                                                                 \n",
        " activation_5 (Activation)   (None, 300)               0         \n",
        "                                                                 \n",
        " dense_6 (Dense)             (None, 300)               90300     \n",
        "                                                                 \n",
        " activation_6 (Activation)   (None, 300)               0         \n",
        "                                                                 \n",
        " dense_7 (Dense)             (None, 10)                3010      \n",
        "                                                                 \n",
        " activation_7 (Activation)   (None, 10)                0         \n",
        "                                                                 \n",
        "=================================================================\n",
        "Total params: 328,810\n",
        "Trainable params: 328,810\n",
        "Non-trainable params: 0\n",
        "_________________________________________________________________\n",
        "```\n",
        "\n"
      ]
    },
    {
      "cell_type": "markdown",
      "metadata": {
        "id": "MHN8xpciztuk"
      },
      "source": [
        "##**Q6. Training the network**\n",
        "\n",
        "For this question, you need train the neural network. We have chosen the Stochastic Gradient Descent (SGD) optimizer with learning rate $0.01$ and compiled the model for you. Now, you need to call the correct function (see the Keras guides and examples) to train the model with the training set for 10 epochs with a batch size of 10. You also need to use the test set to evaluate the performance of your neural network. Moreover, you need to store the training loss/accuracy and test lost/accuracy in some way (**4 marks**).\n",
        "\n",
        "*Hint: Although the question asks for a lot, you can implement all the requirements above with a single line of code in Keras!*\n",
        "\n",
        "(Under the Colab environment, the training should take no more than 10 minutes. Check your code if it takes too long.)"
      ]
    },
    {
      "cell_type": "code",
      "execution_count": 73,
      "metadata": {
        "colab": {
          "base_uri": "https://localhost:8080/"
        },
        "id": "vIeow_5L16Lz",
        "outputId": "91bf42c4-1065-497d-9324-e456c034e1ee"
      },
      "outputs": [
        {
          "name": "stdout",
          "output_type": "stream",
          "text": [
            "Epoch 1/10\n",
            "1875/1875 [==============================] - 14s 7ms/step - loss: 0.1317 - accuracy: 0.9625 - val_loss: 0.1355 - val_accuracy: 0.9592\n",
            "Epoch 2/10\n",
            "1875/1875 [==============================] - 11s 6ms/step - loss: 0.1228 - accuracy: 0.9653 - val_loss: 0.1275 - val_accuracy: 0.9629\n",
            "Epoch 3/10\n",
            "1875/1875 [==============================] - 11s 6ms/step - loss: 0.1150 - accuracy: 0.9674 - val_loss: 0.1219 - val_accuracy: 0.9638\n",
            "Epoch 4/10\n",
            "1875/1875 [==============================] - 11s 6ms/step - loss: 0.1077 - accuracy: 0.9693 - val_loss: 0.1158 - val_accuracy: 0.9653\n",
            "Epoch 5/10\n",
            "1875/1875 [==============================] - 10s 6ms/step - loss: 0.1014 - accuracy: 0.9714 - val_loss: 0.1124 - val_accuracy: 0.9657\n",
            "Epoch 6/10\n",
            "1875/1875 [==============================] - 11s 6ms/step - loss: 0.0957 - accuracy: 0.9730 - val_loss: 0.1077 - val_accuracy: 0.9680\n",
            "Epoch 7/10\n",
            "1875/1875 [==============================] - 11s 6ms/step - loss: 0.0903 - accuracy: 0.9746 - val_loss: 0.1052 - val_accuracy: 0.9689\n",
            "Epoch 8/10\n",
            "1875/1875 [==============================] - 10s 6ms/step - loss: 0.0852 - accuracy: 0.9764 - val_loss: 0.1013 - val_accuracy: 0.9700\n",
            "Epoch 9/10\n",
            "1875/1875 [==============================] - 13s 7ms/step - loss: 0.0809 - accuracy: 0.9773 - val_loss: 0.1027 - val_accuracy: 0.9693\n",
            "Epoch 10/10\n",
            "1875/1875 [==============================] - 10s 6ms/step - loss: 0.0766 - accuracy: 0.9789 - val_loss: 0.0960 - val_accuracy: 0.9708\n"
          ]
        }
      ],
      "source": [
        "opt = tf.optimizers.SGD(learning_rate=0.01)\n",
        "model.compile(loss='categorical_crossentropy', optimizer=opt, metrics=['accuracy'])\n",
        "\n",
        "history = None\n",
        "\n",
        "# START CODE HERE\n",
        "epochs = 10\n",
        "history = model.fit(x_train_norm, y_encoded_train, epochs = epochs, validation_data = (x_test_norm, y_encoded_test))\n",
        "\n",
        "# END CODE HERE"
      ]
    },
    {
      "cell_type": "markdown",
      "metadata": {
        "id": "tGcemESp2d82"
      },
      "source": [
        "If your implementation is correct, you will have a model of around 97% accuracy on the test set."
      ]
    },
    {
      "cell_type": "markdown",
      "metadata": {
        "id": "qUoJqTrqOaBF"
      },
      "source": [
        "##**Q7. Plot loss and accuracy functions**\n",
        "\n",
        "Now that you have stored the loss and accuracy for both the training set and the testing set, you can then plot them to inspect their change with respect to the training epochs. Please make two plots (**2 marks**):\n",
        "\n",
        "* Plot the two curves showing the loss on the training and testing set with respect to the training epochs;\n",
        "* Plot the two curves showing the accuracy on training and testing set with respect to the training epochs.\n",
        "\n",
        "Make sure to label the two curves so that we know which one corresponds to the training set and which one corresponds to the testing set."
      ]
    },
    {
      "cell_type": "code",
      "execution_count": 79,
      "metadata": {
        "colab": {
          "base_uri": "https://localhost:8080/",
          "height": 573
        },
        "id": "WI0xUNUmz8Gt",
        "outputId": "9208e272-a08e-4faf-c7ad-9029c0cfed4b"
      },
      "outputs": [
        {
          "data": {
            "image/png": "[encoded data removed]",
            "text/plain": [
              "<Figure size 432x288 with 1 Axes>"
            ]
          },
          "metadata": {
            "needs_background": "light"
          },
          "output_type": "display_data"
        },
        {
          "data": {
            "image/png": "[encoded data removed]",
            "text/plain": [
              "<Figure size 432x288 with 1 Axes>"
            ]
          },
          "metadata": {
            "needs_background": "light"
          },
          "output_type": "display_data"
        }
      ],
      "source": [
        "# History for loss\n",
        "\n",
        "# START CODE HERE\n",
        "plt.plot(history.history['loss'])\n",
        "plt.plot(history.history['val_loss'])\n",
        "plt.title('model loss')\n",
        "plt.ylabel('loss')\n",
        "plt.xlabel('epoch')\n",
        "plt.legend(['training set', 'testing set'], loc='upper right')\n",
        "\n",
        "\n",
        "# END CODE HERE\n",
        "plt.show()\n",
        "\n",
        "#score = model.evaluate(x_test, y_test, verbose=0)\n",
        "# History for accuracy\n",
        "\n",
        "# START CODE HERE\n",
        "plt.plot(history.history['accuracy'])\n",
        "plt.plot(history.history['val_accuracy'])\n",
        "plt.title('model accuracy')\n",
        "plt.ylabel('accuracy')\n",
        "plt.xlabel('epoch')\n",
        "plt.legend(['training set', 'testing set'], loc='upper right')\n",
        "\n",
        "\n",
        "# END CODE HERE\n",
        "plt.show()\n"
      ]
    },
    {
      "cell_type": "markdown",
      "metadata": {
        "id": "CeRcYKtATI4Y"
      },
      "source": [
        "##**Q8. Check the predictions of your model**\n",
        "\n",
        "This question is only to see what your model predicts, and if this is correct. No need to implement here, just run the cell and check your results!"
      ]
    },
    {
      "cell_type": "code",
      "execution_count": 71,
      "metadata": {
        "colab": {
          "base_uri": "https://localhost:8080/",
          "height": 300
        },
        "id": "HJOZYGZrTggX",
        "outputId": "b2406200-879a-4407-e7f9-9bab30b90fd1"
      },
      "outputs": [
        {
          "name": "stdout",
          "output_type": "stream",
          "text": [
            "313/313 [==============================] - 1s 3ms/step\n",
            "According to your model, the handwritten number shown is 7.\n"
          ]
        },
        {
          "data": {
            "image/png": "[encoded data removed]",
            "text/plain": [
              "<Figure size 432x288 with 1 Axes>"
            ]
          },
          "metadata": {
            "needs_background": "light"
          },
          "output_type": "display_data"
        }
      ],
      "source": [
        "plt.imshow(x_test[0])\n",
        "print(\"According to your model, the handwritten number shown is {}.\".format(np.argmax(model.predict(x_test_reshape)[0])))"
      ]
    },
    {
      "cell_type": "code",
      "execution_count": 72,
      "metadata": {
        "colab": {
          "base_uri": "https://localhost:8080/",
          "height": 300
        },
        "id": "0wmNUYQKTpPS",
        "outputId": "73fd6100-bf4d-407f-c75f-77d6490110b4"
      },
      "outputs": [
        {
          "name": "stdout",
          "output_type": "stream",
          "text": [
            "313/313 [==============================] - 1s 3ms/step\n",
            "According to your model, the handwritten number shown is 6.\n"
          ]
        },
        {
          "data": {
            "image/png": "[encoded data removed]",
            "text/plain": [
              "<Figure size 432x288 with 1 Axes>"
            ]
          },
          "metadata": {
            "needs_background": "light"
          },
          "output_type": "display_data"
        }
      ],
      "source": [
        "plt.imshow(x_test[587])\n",
        "print(\"According to your model, the handwritten number shown is {}.\".format(np.argmax(model.predict(x_test_reshape)[587])))"
      ]
    },
    {
      "cell_type": "markdown",
      "metadata": {
        "id": "1HjuUkDg-kFY"
      },
      "source": [
        "## **Q9. What did you learn from this assignment?**\n",
        "\n",
        "Your feedback can help us to make this module better. In this question, you need to list out the difficulties and how you overcome them when doing the assignment. You can also talk about what you have learned and how do you think we should improve the assignment. This section is graded. Please type the comments in the text cell below and list them in bullet points. (**3 marks**)"
      ]
    },
    {
      "cell_type": "markdown",
      "metadata": {
        "id": "zr02llix-m0n"
      },
      "source": [
        "Please enter your comments here by double-clicking on this text cell:\n",
        "* I learnt how to implement a neural network using keras. This also shows how important APIs are as although I don't fully understand the mathematical details behind a neural network, I am still able to create a neural network using keras API.\n",
        "* Not sure if it is intended, but the assignment made us calculate the normalized value and also use one-hot encoding for the y-values. However, it doesn't seem to be used in the later parts of fitting and testing the model. So I went ahead and used the normalized and one-hot encoding values myself. Perhaps it could be made clearer if we should be using the original data or if there isn't a point in us creating normalized and one-hot encoding values.\n",
        "* I had difficulties understanding how the neural network should flow. But the diagram given was very helpful as it made it easier for me to understand how my data is flowing from one layer to another. The links provided also made it easier for me to find out how to implement it as I did not have to search for it myself which saves me alot of time in finding the correct page for information."
      ]
    },
    {
      "cell_type": "markdown",
      "metadata": {
        "id": "-REnvAChUdcq"
      },
      "source": [
        "\n",
        "\n",
        "---\n",
        "\n",
        "\n",
        "# End of your Assignment"
      ]
    }
  ],
  "metadata": {
    "colab": {
      "collapsed_sections": [],
      "provenance": []
    },
    "kernelspec": {
      "display_name": "Python 3",
      "name": "python3"
    },
    "language_info": {
      "name": "python"
    }
  },
  "nbformat": 4,
  "nbformat_minor": 0
}
