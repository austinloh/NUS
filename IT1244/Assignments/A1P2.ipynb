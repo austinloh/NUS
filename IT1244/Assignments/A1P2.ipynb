{
 "cells": [
  {
   "cell_type": "markdown",
   "metadata": {
    "id": "lkFeSKefpNNR"
   },
   "source": [
    "# **Assignment-1 Part-2**"
   ]
  },
  {
   "cell_type": "markdown",
   "metadata": {
    "id": "oUYb_zYmJI3C"
   },
   "source": [
    "During this assignment, you **must NOT** use any loop, unless stated in the question. All the arrays mentioned here are **numpy arrays**."
   ]
  },
  {
   "cell_type": "markdown",
   "metadata": {
    "id": "of5MDpvfXHHs"
   },
   "source": [
    "1. Import the modules `numpy` as np, `matplotlib.pyplot` as plt, and `csv`. You should also import `stats` from `scipy`. These modules will be needed to do the rest of the questions.\n",
    "\n",
    "When using a function of each module, you will have to use the name of your importation in front of your function. For example, if you need to use numpy's argmax function, and you imported numpy as np, you will have to write \"`np.argmax`\"."
   ]
  },
  {
   "cell_type": "code",
   "execution_count": 2,
   "metadata": {
    "id": "Fb-rXHlfpAt5"
   },
   "outputs": [],
   "source": [
    "# start \n",
    "# we can just leave \"import ...\" and they should import the packages\n",
    "import numpy as np\n",
    "import matplotlib.pyplot as plt\n",
    "import csv\n",
    "from scipy import stats\n",
    "# end"
   ]
  },
  {
   "cell_type": "markdown",
   "metadata": {
    "id": "lRbSXzbDXASY"
   },
   "source": [
    "## **Numpy arrays**\n",
    "A numpy array (usually called array) is a homogeneous multidimensional array: all elements must have the same type, usually numeric. The different dimensions are called axes, while the number of dimensions - 0 for a scalar, 1 for a vector, 2 for a matrix, etc. - is called the number of elements. They are very useful in Machine Learning as most datasets can be converted to arrays and exploited with numpy functions."
   ]
  },
  {
   "cell_type": "markdown",
   "metadata": {
    "id": "0vvETBeyXsTI"
   },
   "source": [
    "2. Initialize two arrays `array_1`, `array_2`, and `array_3`. array_1 should be a one-dimensional array of zeros and of size 3. array_2 should be a three-dimensional array of ones and of size $3 \\times 3 \\times 3$. array_3 should be an identity matrix of shape $3\\times 3$.\n",
    "\n",
    "Hint: Use the numpy function `np.zeros`, `np.ones`, and `np.eye`"
   ]
  },
  {
   "cell_type": "code",
   "execution_count": 2,
   "metadata": {
    "colab": {
     "base_uri": "https://localhost:8080/"
    },
    "id": "H1CFK-O9W_pm",
    "outputId": "f49ad977-be0b-467c-e677-e8fe74e79895"
   },
   "outputs": [
    {
     "name": "stdout",
     "output_type": "stream",
     "text": [
      "One-dimensional array:\n",
      " [0. 0. 0.]\n",
      "Multi-dimensional array:\n",
      " [[[1. 1. 1.]\n",
      "  [1. 1. 1.]\n",
      "  [1. 1. 1.]]\n",
      "\n",
      " [[1. 1. 1.]\n",
      "  [1. 1. 1.]\n",
      "  [1. 1. 1.]]\n",
      "\n",
      " [[1. 1. 1.]\n",
      "  [1. 1. 1.]\n",
      "  [1. 1. 1.]]]\n",
      "Identity matrix:\n",
      " [[1. 0. 0.]\n",
      " [0. 1. 0.]\n",
      " [0. 0. 1.]]\n"
     ]
    }
   ],
   "source": [
    "array_1 = None\n",
    "array_2 = None\n",
    "array_3 = None\n",
    "\n",
    "# start\n",
    "array_1 = np.zeros(3)\n",
    "array_2 = np.ones((3,3,3))\n",
    "array_3 = np.eye(3)\n",
    "# end\n",
    "\n",
    "print(\"One-dimensional array:\\n\", array_1)\n",
    "print(\"Multi-dimensional array:\\n\", array_2)\n",
    "print(\"Identity matrix:\\n\", array_3)"
   ]
  },
  {
   "cell_type": "markdown",
   "metadata": {
    "id": "dstcVy5RAyD7"
   },
   "source": [
    "3. Create a 1D array `decade` such that the first element is 10, the last is 60, and the step between each element of the array is 10 by using `np.arange`."
   ]
  },
  {
   "cell_type": "code",
   "execution_count": 3,
   "metadata": {
    "colab": {
     "base_uri": "https://localhost:8080/"
    },
    "id": "S1nrLLUEY9QD",
    "outputId": "d765ed72-be8c-4add-baa9-79f2a8039587"
   },
   "outputs": [
    {
     "name": "stdout",
     "output_type": "stream",
     "text": [
      "[10 20 30 40 50 60]\n"
     ]
    }
   ],
   "source": [
    "decade = None\n",
    "\n",
    "# start\n",
    "decade = np.arange(10, 61, 10)\n",
    "# end\n",
    "\n",
    "print(decade)"
   ]
  },
  {
   "cell_type": "markdown",
   "metadata": {
    "id": "nvZXvxFmCFfv"
   },
   "source": [
    "4. Convert the list `list_to_convert` to an array `converted_list` of size $2 \\times 3$. Print the shape of the array `converted_list`. \n",
    "\n",
    "Hint: use `np.reshape` and `array.shape`"
   ]
  },
  {
   "cell_type": "code",
   "execution_count": 4,
   "metadata": {
    "colab": {
     "base_uri": "https://localhost:8080/"
    },
    "id": "n4uQRJHKB_No",
    "outputId": "591276ae-b6e6-4ad5-fb9b-79d478eea401"
   },
   "outputs": [
    {
     "name": "stdout",
     "output_type": "stream",
     "text": [
      "(2, 3)\n",
      "[[0 3 4]\n",
      " [8 1 2]]\n"
     ]
    }
   ],
   "source": [
    "list_to_convert = [0,3,4,8,1,2]\n",
    "converted_list = None\n",
    "\n",
    "# start\n",
    "converted_list = np.reshape(list_to_convert, (2,3))\n",
    "print(converted_list.shape)\n",
    "\n",
    "# end\n",
    "\n",
    "print(converted_list)"
   ]
  },
  {
   "cell_type": "markdown",
   "metadata": {
    "id": "2X5MxsxIEg1b"
   },
   "source": [
    "5. Isolate the columns selected in `col_to_select` from the array `arr`. Then print these columns in a new array `cols`."
   ]
  },
  {
   "cell_type": "code",
   "execution_count": 5,
   "metadata": {
    "colab": {
     "base_uri": "https://localhost:8080/"
    },
    "id": "KkJ3PWjfMqnM",
    "outputId": "f5f972c2-b1d8-465a-d1e3-d4ec55c14d3b"
   },
   "outputs": [
    {
     "name": "stdout",
     "output_type": "stream",
     "text": [
      "[[  0   1   6]\n",
      " [100   2  90]\n",
      " [  7   8  10]]\n",
      "First and third columns: \n",
      " [[  0   6]\n",
      " [100  90]\n",
      " [  7  10]]\n"
     ]
    }
   ],
   "source": [
    "arr = np.array([[0,1,6],[100,2,90],[7,8,10]])\n",
    "col_to_select = [0,2]\n",
    "cols = None\n",
    "\n",
    "# start\n",
    "cols = arr[:, col_to_select]\n",
    "# end\n",
    "\n",
    "print(arr)\n",
    "print(\"First and third columns: \\n\", cols)"
   ]
  },
  {
   "cell_type": "markdown",
   "metadata": {
    "id": "piOz3NxwFCRR"
   },
   "source": [
    "6. Split `arr` in 3 equal size subarrays.\n",
    "\n",
    "Hint: Use `np.split`"
   ]
  },
  {
   "cell_type": "code",
   "execution_count": 6,
   "metadata": {
    "colab": {
     "base_uri": "https://localhost:8080/"
    },
    "id": "R5PbOZ3SMurl",
    "outputId": "60c8cafb-91fd-43ca-ed7d-140af7a6bf09"
   },
   "outputs": [
    {
     "name": "stdout",
     "output_type": "stream",
     "text": [
      "[[  0   1   6]\n",
      " [100   2  90]\n",
      " [  7   8  10]\n",
      " [  6   9  10]\n",
      " [ 11  80  76]\n",
      " [  1  92   3]]\n",
      "First subarray: \n",
      " [[  0   1   6]\n",
      " [100   2  90]]\n",
      "Second subarray: \n",
      " [[ 7  8 10]\n",
      " [ 6  9 10]]\n",
      "Third subarray: \n",
      " [[11 80 76]\n",
      " [ 1 92  3]]\n"
     ]
    }
   ],
   "source": [
    "arr = np.array([[0,1,6],[100,2,90],[7,8,10],[6,9,10],[11,80,76],[1,92,3]])\n",
    "split1 = None\n",
    "split2 = None\n",
    "split3 = None\n",
    "\n",
    "# start\n",
    "split1, split2, split3 = np.split(arr, 3)\n",
    "\n",
    "\n",
    "# end\n",
    "\n",
    "print(arr)\n",
    "print(\"First subarray: \\n\", split1)\n",
    "print(\"Second subarray: \\n\", split2)\n",
    "print(\"Third subarray: \\n\", split3)"
   ]
  },
  {
   "cell_type": "markdown",
   "metadata": {
    "id": "dHdCB4K_GBOU"
   },
   "source": [
    "## **Math applied to arrays**\n",
    "Numpy functions are very powerful and are better to use than the association of loops and basic python functions. In this part, you will learn how to use these functions and apply them to numpy arrays."
   ]
  },
  {
   "cell_type": "markdown",
   "metadata": {
    "id": "RvSGg1w0GGFA"
   },
   "source": [
    "7. Sum two arrays, so that each element at the same position in both arrays are added together. E.g. [1, 2] + [3, 4] = [4, 6].\n",
    "Multiply two arrays, so that each element at the same position in both arrays are multiplied together. E.g. [1, 2] * [3, 4] = [3, 8]."
   ]
  },
  {
   "cell_type": "code",
   "execution_count": 7,
   "metadata": {
    "colab": {
     "base_uri": "https://localhost:8080/"
    },
    "id": "sBqF71KEMyMP",
    "outputId": "af36c513-8a9e-4d76-8e61-9217564220d4"
   },
   "outputs": [
    {
     "name": "stdout",
     "output_type": "stream",
     "text": [
      "[[  6  10  16]\n",
      " [111  82 166]\n",
      " [  8 100  13]]\n",
      "[[   0    9   60]\n",
      " [1100  160 6840]\n",
      " [   7  736   30]]\n"
     ]
    }
   ],
   "source": [
    "arr1 = np.array([[0,1,6],[100,2,90],[7,8,10]])\n",
    "arr2 = np.array([[6,9,10],[11,80,76],[1,92,3]])\n",
    "sum_arr = None\n",
    "prod_arr = None\n",
    "\n",
    "# start\n",
    "sum_arr = arr1 + arr2\n",
    "prod_arr = arr1 * arr2\n",
    "# end\n",
    "\n",
    "print(sum_arr)\n",
    "print(prod_arr)"
   ]
  },
  {
   "cell_type": "markdown",
   "metadata": {
    "id": "7fLoF0lnGjHd"
   },
   "source": [
    "8. Compute the sum of all the elements in the array. Compute the mean of all the elements in the array. Compute the standard deviation of the numbers inside the array.\n",
    "\n",
    "Hint: Checkout https://numpy.org/doc/stable/reference/routines.math.html and https://numpy.org/doc/stable/reference/routines.statistics.html for the corresponding numpy functions."
   ]
  },
  {
   "cell_type": "code",
   "execution_count": 8,
   "metadata": {
    "colab": {
     "base_uri": "https://localhost:8080/"
    },
    "id": "MFv_loJ0M0cC",
    "outputId": "efb0b91c-2e42-4caf-c156-fb79e085ebce"
   },
   "outputs": [
    {
     "name": "stdout",
     "output_type": "stream",
     "text": [
      "224\n",
      "24.88888888888889\n",
      "37.681249225707425\n"
     ]
    }
   ],
   "source": [
    "arr1 = np.array([[0,1,6],[100,2,90],[7,8,10]])\n",
    "\n",
    "sum_of_array = 0\n",
    "mean_of_array = 0\n",
    "std_of_array = 0\n",
    "\n",
    "# start\n",
    "sum_of_array = np.sum(arr1)\n",
    "mean_of_array = np.mean(arr1)\n",
    "std_of_array = np.std(arr1)\n",
    "# end\n",
    "\n",
    "print(sum_of_array)\n",
    "print(mean_of_array)\n",
    "print(std_of_array)"
   ]
  },
  {
   "cell_type": "markdown",
   "metadata": {
    "id": "uw9KOPf6G0L8"
   },
   "source": [
    "9. Compute the matrix product of the two arrays in `matProd_arr`."
   ]
  },
  {
   "cell_type": "code",
   "execution_count": 9,
   "metadata": {
    "colab": {
     "base_uri": "https://localhost:8080/"
    },
    "id": "bpr8cxnZM5OI",
    "outputId": "309a59b9-b8c0-474f-dc1a-ee305f8217d5"
   },
   "outputs": [
    {
     "name": "stdout",
     "output_type": "stream",
     "text": [
      "[[  17  632   94]\n",
      " [ 712 9340 1422]\n",
      " [ 140 1623  708]]\n"
     ]
    }
   ],
   "source": [
    "arr1 = np.array([[0,1,6],[100,2,90],[7,8,10]])\n",
    "arr2 = np.array([[6,9,10],[11,80,76],[1,92,3]])\n",
    "matProd_arr = None\n",
    "\n",
    "# start\n",
    "matProd_arr = np.matmul(arr1, arr2)\n",
    "# end\n",
    "\n",
    "print(matProd_arr)"
   ]
  },
  {
   "cell_type": "markdown",
   "metadata": {
    "id": "p7QIxPEFHroS"
   },
   "source": [
    "10. Compute the element-wise square root of the array. It means that the square root of all of the elements in the initial array are saved them in the array `sqrt_arr`, at the same position. E.g, sqrt([1, 4])= [1, 2]. Compute the element-wise exponential of the array. It means that the exponential of all of the elements in the initial array are saved them in the array `exp_arr`, at the same position. E.g, exp([1, 4])= [$e^1$, $e^4$]"
   ]
  },
  {
   "cell_type": "code",
   "execution_count": 10,
   "metadata": {
    "colab": {
     "base_uri": "https://localhost:8080/"
    },
    "id": "SWQmUghzM737",
    "outputId": "521207f8-c061-4899-90e1-0e68275e4cba"
   },
   "outputs": [
    {
     "name": "stdout",
     "output_type": "stream",
     "text": [
      "[[ 0.          1.          2.44948974]\n",
      " [10.          1.41421356  9.48683298]\n",
      " [ 2.64575131  2.82842712  3.16227766]]\n",
      "[[1.00000000e+00 2.71828183e+00 4.03428793e+02]\n",
      " [2.68811714e+43 7.38905610e+00 1.22040329e+39]\n",
      " [1.09663316e+03 2.98095799e+03 2.20264658e+04]]\n"
     ]
    }
   ],
   "source": [
    "arr1 = np.array([[0,1,6],[100,2,90],[7,8,10]])\n",
    "sqrt_arr = None\n",
    "exp_arr = None\n",
    "\n",
    "# start\n",
    "sqrt_arr = np.sqrt(arr1)\n",
    "exp_arr = np.exp(arr1)\n",
    "# end\n",
    "\n",
    "print(sqrt_arr)\n",
    "print(exp_arr)"
   ]
  },
  {
   "cell_type": "markdown",
   "metadata": {
    "id": "jhOer4LZIKX9"
   },
   "source": [
    "11. Create a function `standardizeArray` that will take in parameter an array `X` and standardize it. Standardization means that we take all the elements of an array, we substract the mean of the array and divide them by the standard deviation of the elements inside the array."
   ]
  },
  {
   "cell_type": "code",
   "execution_count": 11,
   "metadata": {
    "colab": {
     "base_uri": "https://localhost:8080/"
    },
    "id": "vydv_mRrNANu",
    "outputId": "6697673a-b64a-4e7b-eee1-9d6cab0e4288"
   },
   "outputs": [
    {
     "name": "stdout",
     "output_type": "stream",
     "text": [
      "[[-0.66051125 -0.63397285 -0.50128086]\n",
      " [ 1.99332858 -0.60743445  1.7279446 ]\n",
      " [-0.47474246 -0.44820406 -0.39512726]]\n"
     ]
    }
   ],
   "source": [
    "def standardizeArray(X):\n",
    "  # start\n",
    "  mean, std = np.mean(X), np.std(X)\n",
    "  return (X - mean)/std\n",
    "  # end\n",
    "  \n",
    "arr1 = np.array([[0,1,6],[100,2,90],[7,8,10]])\n",
    "print(standardizeArray(arr1))"
   ]
  },
  {
   "cell_type": "markdown",
   "metadata": {
    "id": "ElSryi-SJ8WX"
   },
   "source": [
    "## **Argument functions**\n",
    "These are also very useful numpy functions that will allow you to find the maximum, minimum, or specific values in a array that fill a condition."
   ]
  },
  {
   "cell_type": "markdown",
   "metadata": {
    "id": "vdw-uYIvJxTR"
   },
   "source": [
    "12. Find the maximum of the array."
   ]
  },
  {
   "cell_type": "code",
   "execution_count": 12,
   "metadata": {
    "colab": {
     "base_uri": "https://localhost:8080/"
    },
    "id": "9NT7DhChNDZS",
    "outputId": "b0133495-ac6a-4f51-a8e3-e659d2e77fce"
   },
   "outputs": [
    {
     "name": "stdout",
     "output_type": "stream",
     "text": [
      "100\n"
     ]
    }
   ],
   "source": [
    "arr = np.array([[-3,1,6],[100,2,90],[7,8,10],[60,19,10],[-11,80,76],[1,92,3]])\n",
    "max_arr = None\n",
    "\n",
    "# start\n",
    "max_arr = arr.max()\n",
    "# end\n",
    "\n",
    "print(max_arr)"
   ]
  },
  {
   "cell_type": "markdown",
   "metadata": {
    "id": "lHJZaIyZKNI0"
   },
   "source": [
    "13. Find the index (argument) of the minimum of the array."
   ]
  },
  {
   "cell_type": "code",
   "execution_count": 13,
   "metadata": {
    "colab": {
     "base_uri": "https://localhost:8080/"
    },
    "id": "aXyYSEOPNFtu",
    "outputId": "d46ac548-f6ca-4236-f679-820faddf8243"
   },
   "outputs": [
    {
     "name": "stdout",
     "output_type": "stream",
     "text": [
      "12\n"
     ]
    }
   ],
   "source": [
    "arr = np.array([[-3,1,6],[100,2,90],[7,8,10],[60,19,10],[-11,80,76],[1,92,3]])\n",
    "argmin_arr = None\n",
    "\n",
    "# start\n",
    "argmin_arr = np.argmin(arr)\n",
    "# end\n",
    "\n",
    "print(argmin_arr)"
   ]
  },
  {
   "cell_type": "markdown",
   "metadata": {
    "id": "krbfcf3WKi_Q"
   },
   "source": [
    "14. Find the elements of the array where the value is strictly greater than 50. Print the `where_arr`, which is the same as `arr` if the values are over 50. If the value in `arr` is below 50, the corresponding value in `where_arr` is 0.\n",
    "\n",
    "Hint: Use `np.where`"
   ]
  },
  {
   "cell_type": "code",
   "execution_count": 14,
   "metadata": {
    "colab": {
     "base_uri": "https://localhost:8080/"
    },
    "id": "UQ_5mSrVNH8X",
    "outputId": "f8195522-ea93-45b2-c6f8-999e6b737114"
   },
   "outputs": [
    {
     "name": "stdout",
     "output_type": "stream",
     "text": [
      "[[  0   0   0]\n",
      " [100   0  90]\n",
      " [  0   0   0]\n",
      " [ 60   0   0]\n",
      " [  0  80  76]\n",
      " [  0  92   0]]\n"
     ]
    }
   ],
   "source": [
    "arr = np.array([[-3,1,6],[100,2,90],[7,8,10],[60,19,10],[-11,80,76],[1,92,3]])\n",
    "where_arr = None\n",
    "\n",
    "# start\n",
    "where_arr = np.where(arr > 50, arr, 0)\n",
    "# end\n",
    "\n",
    "print(where_arr)"
   ]
  },
  {
   "cell_type": "markdown",
   "metadata": {
    "id": "5xRir7vtMSOy"
   },
   "source": [
    "15. Sort the two arrays `arr1` and `arr2` using `np.sort` (ascending order). Note the difference between the sorting of the arrays."
   ]
  },
  {
   "cell_type": "code",
   "execution_count": 15,
   "metadata": {
    "colab": {
     "base_uri": "https://localhost:8080/"
    },
    "id": "O0qyFgRHNKdO",
    "outputId": "820dcf6d-a897-4ec8-a4f0-e508e2fa0420"
   },
   "outputs": [
    {
     "name": "stdout",
     "output_type": "stream",
     "text": [
      "First sorting:\n",
      " [[ -3   1   6]\n",
      " [  2  90 100]\n",
      " [  7   8  10]\n",
      " [ 10  19  60]\n",
      " [-11  76  80]\n",
      " [  1   3  92]]\n",
      "Second sorting:\n",
      " [-11  -3   1   1   2   3   6   6   7   8   9  10  10  76  80  90  92 100]\n"
     ]
    }
   ],
   "source": [
    "arr1 = np.array([[-3,1,6],[100,2,90],[7,8,10],[60,19,10],[-11,80,76],[1,92,3]])\n",
    "arr2 = np.array([-3,1,6,100,2,90,7,8,10,6,9,10,-11,80,76,1,92,3])\n",
    "sort_arr1 = None\n",
    "sort_arr2 = None\n",
    "\n",
    "# start\n",
    "sort_arr1 = np.sort(arr1)\n",
    "sort_arr2 = np.sort(arr2)\n",
    "# end\n",
    "\n",
    "print(\"First sorting:\\n\", sort_arr1)\n",
    "print(\"Second sorting:\\n\",sort_arr2)"
   ]
  },
  {
   "cell_type": "markdown",
   "metadata": {
    "id": "YRhBHwjcPXVG"
   },
   "source": [
    "16. Print the index of `arr` in an order so that if we took the corresponding values in `arr`, the values would be sorted. (ascending order)"
   ]
  },
  {
   "cell_type": "code",
   "execution_count": 16,
   "metadata": {
    "colab": {
     "base_uri": "https://localhost:8080/"
    },
    "id": "oVLgOby0NPir",
    "outputId": "c51decfe-6545-4221-cd04-226b5338539d"
   },
   "outputs": [
    {
     "name": "stdout",
     "output_type": "stream",
     "text": [
      "First argument sorting:\n",
      " [[0 1 2]\n",
      " [1 2 0]\n",
      " [0 1 2]\n",
      " [2 1 0]\n",
      " [0 2 1]\n",
      " [0 2 1]]\n",
      "Second argument sorting:\n",
      " [12  0  1 15  4 17  9  2  6  7 10 11  8 14 13  5 16  3]\n"
     ]
    }
   ],
   "source": [
    "arr1 = np.array([[-3,1,6],[100,2,90],[7,8,10],[60,19,10],[-11,80,76],[1,92,3]])\n",
    "arr2 = np.array([-3,1,6,100,2,90,7,8,10,6,9,10,-11,80,76,1,92,3])\n",
    "argsort_arr1 = None\n",
    "argsort_arr2 = None\n",
    "\n",
    "# start\n",
    "argsort_arr1 = np.argsort(arr1)\n",
    "argsort_arr2 = np.argsort(arr2)\n",
    "# end\n",
    "\n",
    "print(\"First argument sorting:\\n\", argsort_arr1)\n",
    "print(\"Second argument sorting:\\n\",argsort_arr2)"
   ]
  },
  {
   "cell_type": "markdown",
   "metadata": {
    "id": "QDIJqxiBNPkN"
   },
   "source": [
    "## **Probabilities and statistics**\n",
    "By using the package `random` of `numpy`, you will be able to generate random number and probabilities. You will also need to use `scipy.stats` in this part."
   ]
  },
  {
   "cell_type": "markdown",
   "metadata": {
    "id": "0Cc9V9EgNyec"
   },
   "source": [
    "We will import the `random` package of `numpy` as `rd`."
   ]
  },
  {
   "cell_type": "code",
   "execution_count": 17,
   "metadata": {
    "id": "QtnUBwqUNsUs"
   },
   "outputs": [],
   "source": [
    "import numpy.random as rd"
   ]
  },
  {
   "cell_type": "markdown",
   "metadata": {
    "id": "Q0M4HdeWN4aL"
   },
   "source": [
    "17. Once `random` is imported, generate a random number between 0 and 1.\n",
    "\n",
    "Hint: You can use `numpy.random.random`"
   ]
  },
  {
   "cell_type": "code",
   "execution_count": 18,
   "metadata": {
    "colab": {
     "base_uri": "https://localhost:8080/"
    },
    "id": "PxRVWyNyOYut",
    "outputId": "bdcce664-8e40-4fe4-c7ab-bffe39491fce"
   },
   "outputs": [
    {
     "name": "stdout",
     "output_type": "stream",
     "text": [
      "0.20354257890898653\n"
     ]
    }
   ],
   "source": [
    "rand_number = None\n",
    "\n",
    "# start\n",
    "rand_number = rd.random()\n",
    "# end\n",
    "\n",
    "print(rand_number)"
   ]
  },
  {
   "cell_type": "markdown",
   "metadata": {
    "id": "Eb1gzulWPMbI"
   },
   "source": [
    "18. Now, generate an array of random integers between 10 and 100 of size $3 \\times 5$.\n",
    "\n",
    "\n",
    "\n",
    "Hint: You can use `numpy.random.randint`"
   ]
  },
  {
   "cell_type": "code",
   "execution_count": 19,
   "metadata": {
    "colab": {
     "base_uri": "https://localhost:8080/"
    },
    "id": "VY6tyPq7Okev",
    "outputId": "56f22d90-0536-4644-b49d-32334a0f7584"
   },
   "outputs": [
    {
     "name": "stdout",
     "output_type": "stream",
     "text": [
      "[[90 76 18 38 30]\n",
      " [30 45 37 70 26]\n",
      " [15 35 77 65 96]]\n"
     ]
    }
   ],
   "source": [
    "rand_int = None\n",
    "\n",
    "# start\n",
    "rand_int = rd.randint(10, 100, size=(3,5))\n",
    "# end\n",
    "\n",
    "print(rand_int)"
   ]
  },
  {
   "cell_type": "markdown",
   "metadata": {
    "id": "6v6L7KPOOih1"
   },
   "source": [
    "19. Generate an array of random float number from a uniform distribution between 10 and 100 of size $10\\times 8$"
   ]
  },
  {
   "cell_type": "code",
   "execution_count": 20,
   "metadata": {
    "colab": {
     "base_uri": "https://localhost:8080/"
    },
    "id": "XpSyivHUPESy",
    "outputId": "d39410d9-791f-4011-c3b2-da771bb4b3ae"
   },
   "outputs": [
    {
     "name": "stdout",
     "output_type": "stream",
     "text": [
      "[[36.97352885 99.17973955 57.58457211 90.58866785 77.42685974 78.19002091\n",
      "  17.06017555 31.13183504]\n",
      " [74.50982815 11.93069483 47.08192813 39.14349219 33.93414364 19.10162788\n",
      "  86.17441331 89.41686829]\n",
      " [92.45211194 15.27424789 20.25674295 89.26099441 89.85452858 93.83372177\n",
      "  23.51045817 54.67081931]\n",
      " [73.14708098 47.02638027 23.00385272 24.57748    88.41419178 64.45381532\n",
      "  39.89191581 79.02841249]\n",
      " [52.19231047 39.91500166 49.46159846 95.99321552 96.50998805 56.79185869\n",
      "  98.67595035 50.64589288]\n",
      " [43.03467485 74.30784837 15.61334225 84.33303148 39.82288124 66.07365168\n",
      "  81.28823318 23.50986239]\n",
      " [19.15622816 18.98468241 90.93191256 11.1211772  27.37432384 53.02741116\n",
      "  57.25277962 97.78680915]\n",
      " [31.18365963 25.81116479 81.18324556 80.28121619 82.14074188 22.10449933\n",
      "  28.874504   37.69589604]\n",
      " [39.61362798 58.26487419 48.43855198 14.20800455 37.13448079 84.95123399\n",
      "  63.58100868 98.24613024]\n",
      " [86.27185796 64.13669083 28.90371064 56.38260526 28.98224851 83.32304478\n",
      "  14.16025244 67.72653987]]\n"
     ]
    }
   ],
   "source": [
    "rand_number2 = None\n",
    "\n",
    "# start\n",
    "rand_number2 = rd.uniform(10, 100, size=(10,8))\n",
    "# end\n",
    "\n",
    "print(rand_number2)"
   ]
  },
  {
   "cell_type": "markdown",
   "metadata": {
    "id": "JspKmrJ6PwS9"
   },
   "source": [
    "For the next two questions, we won't use random anymore, but `stats`, a package from scipy that you should have imported in the first question. Scipy also uses numpy arrays in its functions so you can use numpy arrays and functions if you need to.\n",
    "\n",
    "20. Calculate density probability of normal distribution for x = -10, -9, ..., -1, 0, 1, ..., 9, 10. Stock it in a list `density_proba`.\n",
    "\n",
    "Hint: You need to use `np.arrange` and `stats.norm.pdf`. You can use a loop here.\n",
    "\n"
   ]
  },
  {
   "cell_type": "code",
   "execution_count": 21,
   "metadata": {
    "colab": {
     "base_uri": "https://localhost:8080/"
    },
    "id": "YU2KOGbBPsmV",
    "outputId": "cf3fe47e-59ae-46c4-d78c-79a549e56979"
   },
   "outputs": [
    {
     "name": "stdout",
     "output_type": "stream",
     "text": [
      "[7.69459862670642e-23, 1.0279773571668917e-18, 5.052271083536893e-15, 9.134720408364595e-12, 6.075882849823286e-09, 1.4867195147342979e-06, 0.00013383022576488537, 0.0044318484119380075, 0.05399096651318806, 0.24197072451914337, 0.3989422804014327, 0.24197072451914337, 0.05399096651318806, 0.0044318484119380075, 0.00013383022576488537, 1.4867195147342979e-06, 6.075882849823286e-09, 9.134720408364595e-12, 5.052271083536893e-15, 1.0279773571668917e-18, 7.69459862670642e-23]\n"
     ]
    }
   ],
   "source": [
    "density_proba = []\n",
    "\n",
    "# start\n",
    "array = np.arange(-10,11)\n",
    "density_proba = [stats.norm.pdf(x) for x in array]\n",
    "\n",
    "# end\n",
    "\n",
    "print(density_proba)"
   ]
  },
  {
   "cell_type": "markdown",
   "metadata": {
    "id": "KJZ1adalOtUW"
   },
   "source": [
    "## **Use an external file with Python**\n",
    "In Python, you can also use external files, such as `.txt` files, `.csv` files, or even pictures in `.jpg` and `.png` format. In this part, we will learn how to open, read, edit and save txt and csv files thanks to numpy. Most datasets we use in Machine Learning are external datasets that you have to open in Python.\n",
    "\n",
    "Run the following code to download `sample3.txt` and `california_housing_train.csv` and save them in your Google Drive."
   ]
  },
  {
   "cell_type": "code",
   "execution_count": 23,
   "metadata": {
    "id": "yZt9Igz1403K"
   },
   "outputs": [
    {
     "ename": "URLError",
     "evalue": "<urlopen error [SSL: CERTIFICATE_VERIFY_FAILED] certificate verify failed: unable to get local issuer certificate (_ssl.c:1129)>",
     "output_type": "error",
     "traceback": [
      "\u001b[0;31m---------------------------------------------------------------------------\u001b[0m",
      "\u001b[0;31mSSLCertVerificationError\u001b[0m                  Traceback (most recent call last)",
      "File \u001b[0;32m/Library/Frameworks/Python.framework/Versions/3.9/lib/python3.9/urllib/request.py:1346\u001b[0m, in \u001b[0;36mAbstractHTTPHandler.do_open\u001b[0;34m(self, http_class, req, **http_conn_args)\u001b[0m\n\u001b[1;32m   1345\u001b[0m \u001b[38;5;28;01mtry\u001b[39;00m:\n\u001b[0;32m-> 1346\u001b[0m     \u001b[43mh\u001b[49m\u001b[38;5;241;43m.\u001b[39;49m\u001b[43mrequest\u001b[49m\u001b[43m(\u001b[49m\u001b[43mreq\u001b[49m\u001b[38;5;241;43m.\u001b[39;49m\u001b[43mget_method\u001b[49m\u001b[43m(\u001b[49m\u001b[43m)\u001b[49m\u001b[43m,\u001b[49m\u001b[43m \u001b[49m\u001b[43mreq\u001b[49m\u001b[38;5;241;43m.\u001b[39;49m\u001b[43mselector\u001b[49m\u001b[43m,\u001b[49m\u001b[43m \u001b[49m\u001b[43mreq\u001b[49m\u001b[38;5;241;43m.\u001b[39;49m\u001b[43mdata\u001b[49m\u001b[43m,\u001b[49m\u001b[43m \u001b[49m\u001b[43mheaders\u001b[49m\u001b[43m,\u001b[49m\n\u001b[1;32m   1347\u001b[0m \u001b[43m              \u001b[49m\u001b[43mencode_chunked\u001b[49m\u001b[38;5;241;43m=\u001b[39;49m\u001b[43mreq\u001b[49m\u001b[38;5;241;43m.\u001b[39;49m\u001b[43mhas_header\u001b[49m\u001b[43m(\u001b[49m\u001b[38;5;124;43m'\u001b[39;49m\u001b[38;5;124;43mTransfer-encoding\u001b[39;49m\u001b[38;5;124;43m'\u001b[39;49m\u001b[43m)\u001b[49m\u001b[43m)\u001b[49m\n\u001b[1;32m   1348\u001b[0m \u001b[38;5;28;01mexcept\u001b[39;00m \u001b[38;5;167;01mOSError\u001b[39;00m \u001b[38;5;28;01mas\u001b[39;00m err: \u001b[38;5;66;03m# timeout error\u001b[39;00m\n",
      "File \u001b[0;32m/Library/Frameworks/Python.framework/Versions/3.9/lib/python3.9/http/client.py:1285\u001b[0m, in \u001b[0;36mHTTPConnection.request\u001b[0;34m(self, method, url, body, headers, encode_chunked)\u001b[0m\n\u001b[1;32m   1284\u001b[0m \u001b[38;5;124;03m\"\"\"Send a complete request to the server.\"\"\"\u001b[39;00m\n\u001b[0;32m-> 1285\u001b[0m \u001b[38;5;28;43mself\u001b[39;49m\u001b[38;5;241;43m.\u001b[39;49m\u001b[43m_send_request\u001b[49m\u001b[43m(\u001b[49m\u001b[43mmethod\u001b[49m\u001b[43m,\u001b[49m\u001b[43m \u001b[49m\u001b[43murl\u001b[49m\u001b[43m,\u001b[49m\u001b[43m \u001b[49m\u001b[43mbody\u001b[49m\u001b[43m,\u001b[49m\u001b[43m \u001b[49m\u001b[43mheaders\u001b[49m\u001b[43m,\u001b[49m\u001b[43m \u001b[49m\u001b[43mencode_chunked\u001b[49m\u001b[43m)\u001b[49m\n",
      "File \u001b[0;32m/Library/Frameworks/Python.framework/Versions/3.9/lib/python3.9/http/client.py:1331\u001b[0m, in \u001b[0;36mHTTPConnection._send_request\u001b[0;34m(self, method, url, body, headers, encode_chunked)\u001b[0m\n\u001b[1;32m   1330\u001b[0m     body \u001b[38;5;241m=\u001b[39m _encode(body, \u001b[38;5;124m'\u001b[39m\u001b[38;5;124mbody\u001b[39m\u001b[38;5;124m'\u001b[39m)\n\u001b[0;32m-> 1331\u001b[0m \u001b[38;5;28;43mself\u001b[39;49m\u001b[38;5;241;43m.\u001b[39;49m\u001b[43mendheaders\u001b[49m\u001b[43m(\u001b[49m\u001b[43mbody\u001b[49m\u001b[43m,\u001b[49m\u001b[43m \u001b[49m\u001b[43mencode_chunked\u001b[49m\u001b[38;5;241;43m=\u001b[39;49m\u001b[43mencode_chunked\u001b[49m\u001b[43m)\u001b[49m\n",
      "File \u001b[0;32m/Library/Frameworks/Python.framework/Versions/3.9/lib/python3.9/http/client.py:1280\u001b[0m, in \u001b[0;36mHTTPConnection.endheaders\u001b[0;34m(self, message_body, encode_chunked)\u001b[0m\n\u001b[1;32m   1279\u001b[0m     \u001b[38;5;28;01mraise\u001b[39;00m CannotSendHeader()\n\u001b[0;32m-> 1280\u001b[0m \u001b[38;5;28;43mself\u001b[39;49m\u001b[38;5;241;43m.\u001b[39;49m\u001b[43m_send_output\u001b[49m\u001b[43m(\u001b[49m\u001b[43mmessage_body\u001b[49m\u001b[43m,\u001b[49m\u001b[43m \u001b[49m\u001b[43mencode_chunked\u001b[49m\u001b[38;5;241;43m=\u001b[39;49m\u001b[43mencode_chunked\u001b[49m\u001b[43m)\u001b[49m\n",
      "File \u001b[0;32m/Library/Frameworks/Python.framework/Versions/3.9/lib/python3.9/http/client.py:1040\u001b[0m, in \u001b[0;36mHTTPConnection._send_output\u001b[0;34m(self, message_body, encode_chunked)\u001b[0m\n\u001b[1;32m   1039\u001b[0m \u001b[38;5;28;01mdel\u001b[39;00m \u001b[38;5;28mself\u001b[39m\u001b[38;5;241m.\u001b[39m_buffer[:]\n\u001b[0;32m-> 1040\u001b[0m \u001b[38;5;28;43mself\u001b[39;49m\u001b[38;5;241;43m.\u001b[39;49m\u001b[43msend\u001b[49m\u001b[43m(\u001b[49m\u001b[43mmsg\u001b[49m\u001b[43m)\u001b[49m\n\u001b[1;32m   1042\u001b[0m \u001b[38;5;28;01mif\u001b[39;00m message_body \u001b[38;5;129;01mis\u001b[39;00m \u001b[38;5;129;01mnot\u001b[39;00m \u001b[38;5;28;01mNone\u001b[39;00m:\n\u001b[1;32m   1043\u001b[0m \n\u001b[1;32m   1044\u001b[0m     \u001b[38;5;66;03m# create a consistent interface to message_body\u001b[39;00m\n",
      "File \u001b[0;32m/Library/Frameworks/Python.framework/Versions/3.9/lib/python3.9/http/client.py:980\u001b[0m, in \u001b[0;36mHTTPConnection.send\u001b[0;34m(self, data)\u001b[0m\n\u001b[1;32m    979\u001b[0m \u001b[38;5;28;01mif\u001b[39;00m \u001b[38;5;28mself\u001b[39m\u001b[38;5;241m.\u001b[39mauto_open:\n\u001b[0;32m--> 980\u001b[0m     \u001b[38;5;28;43mself\u001b[39;49m\u001b[38;5;241;43m.\u001b[39;49m\u001b[43mconnect\u001b[49m\u001b[43m(\u001b[49m\u001b[43m)\u001b[49m\n\u001b[1;32m    981\u001b[0m \u001b[38;5;28;01melse\u001b[39;00m:\n",
      "File \u001b[0;32m/Library/Frameworks/Python.framework/Versions/3.9/lib/python3.9/http/client.py:1454\u001b[0m, in \u001b[0;36mHTTPSConnection.connect\u001b[0;34m(self)\u001b[0m\n\u001b[1;32m   1452\u001b[0m     server_hostname \u001b[38;5;241m=\u001b[39m \u001b[38;5;28mself\u001b[39m\u001b[38;5;241m.\u001b[39mhost\n\u001b[0;32m-> 1454\u001b[0m \u001b[38;5;28mself\u001b[39m\u001b[38;5;241m.\u001b[39msock \u001b[38;5;241m=\u001b[39m \u001b[38;5;28;43mself\u001b[39;49m\u001b[38;5;241;43m.\u001b[39;49m\u001b[43m_context\u001b[49m\u001b[38;5;241;43m.\u001b[39;49m\u001b[43mwrap_socket\u001b[49m\u001b[43m(\u001b[49m\u001b[38;5;28;43mself\u001b[39;49m\u001b[38;5;241;43m.\u001b[39;49m\u001b[43msock\u001b[49m\u001b[43m,\u001b[49m\n\u001b[1;32m   1455\u001b[0m \u001b[43m                                      \u001b[49m\u001b[43mserver_hostname\u001b[49m\u001b[38;5;241;43m=\u001b[39;49m\u001b[43mserver_hostname\u001b[49m\u001b[43m)\u001b[49m\n",
      "File \u001b[0;32m/Library/Frameworks/Python.framework/Versions/3.9/lib/python3.9/ssl.py:501\u001b[0m, in \u001b[0;36mSSLContext.wrap_socket\u001b[0;34m(self, sock, server_side, do_handshake_on_connect, suppress_ragged_eofs, server_hostname, session)\u001b[0m\n\u001b[1;32m    495\u001b[0m \u001b[38;5;28;01mdef\u001b[39;00m \u001b[38;5;21mwrap_socket\u001b[39m(\u001b[38;5;28mself\u001b[39m, sock, server_side\u001b[38;5;241m=\u001b[39m\u001b[38;5;28;01mFalse\u001b[39;00m,\n\u001b[1;32m    496\u001b[0m                 do_handshake_on_connect\u001b[38;5;241m=\u001b[39m\u001b[38;5;28;01mTrue\u001b[39;00m,\n\u001b[1;32m    497\u001b[0m                 suppress_ragged_eofs\u001b[38;5;241m=\u001b[39m\u001b[38;5;28;01mTrue\u001b[39;00m,\n\u001b[1;32m    498\u001b[0m                 server_hostname\u001b[38;5;241m=\u001b[39m\u001b[38;5;28;01mNone\u001b[39;00m, session\u001b[38;5;241m=\u001b[39m\u001b[38;5;28;01mNone\u001b[39;00m):\n\u001b[1;32m    499\u001b[0m     \u001b[38;5;66;03m# SSLSocket class handles server_hostname encoding before it calls\u001b[39;00m\n\u001b[1;32m    500\u001b[0m     \u001b[38;5;66;03m# ctx._wrap_socket()\u001b[39;00m\n\u001b[0;32m--> 501\u001b[0m     \u001b[38;5;28;01mreturn\u001b[39;00m \u001b[38;5;28;43mself\u001b[39;49m\u001b[38;5;241;43m.\u001b[39;49m\u001b[43msslsocket_class\u001b[49m\u001b[38;5;241;43m.\u001b[39;49m\u001b[43m_create\u001b[49m\u001b[43m(\u001b[49m\n\u001b[1;32m    502\u001b[0m \u001b[43m        \u001b[49m\u001b[43msock\u001b[49m\u001b[38;5;241;43m=\u001b[39;49m\u001b[43msock\u001b[49m\u001b[43m,\u001b[49m\n\u001b[1;32m    503\u001b[0m \u001b[43m        \u001b[49m\u001b[43mserver_side\u001b[49m\u001b[38;5;241;43m=\u001b[39;49m\u001b[43mserver_side\u001b[49m\u001b[43m,\u001b[49m\n\u001b[1;32m    504\u001b[0m \u001b[43m        \u001b[49m\u001b[43mdo_handshake_on_connect\u001b[49m\u001b[38;5;241;43m=\u001b[39;49m\u001b[43mdo_handshake_on_connect\u001b[49m\u001b[43m,\u001b[49m\n\u001b[1;32m    505\u001b[0m \u001b[43m        \u001b[49m\u001b[43msuppress_ragged_eofs\u001b[49m\u001b[38;5;241;43m=\u001b[39;49m\u001b[43msuppress_ragged_eofs\u001b[49m\u001b[43m,\u001b[49m\n\u001b[1;32m    506\u001b[0m \u001b[43m        \u001b[49m\u001b[43mserver_hostname\u001b[49m\u001b[38;5;241;43m=\u001b[39;49m\u001b[43mserver_hostname\u001b[49m\u001b[43m,\u001b[49m\n\u001b[1;32m    507\u001b[0m \u001b[43m        \u001b[49m\u001b[43mcontext\u001b[49m\u001b[38;5;241;43m=\u001b[39;49m\u001b[38;5;28;43mself\u001b[39;49m\u001b[43m,\u001b[49m\n\u001b[1;32m    508\u001b[0m \u001b[43m        \u001b[49m\u001b[43msession\u001b[49m\u001b[38;5;241;43m=\u001b[39;49m\u001b[43msession\u001b[49m\n\u001b[1;32m    509\u001b[0m \u001b[43m    \u001b[49m\u001b[43m)\u001b[49m\n",
      "File \u001b[0;32m/Library/Frameworks/Python.framework/Versions/3.9/lib/python3.9/ssl.py:1041\u001b[0m, in \u001b[0;36mSSLSocket._create\u001b[0;34m(cls, sock, server_side, do_handshake_on_connect, suppress_ragged_eofs, server_hostname, context, session)\u001b[0m\n\u001b[1;32m   1040\u001b[0m             \u001b[38;5;28;01mraise\u001b[39;00m \u001b[38;5;167;01mValueError\u001b[39;00m(\u001b[38;5;124m\"\u001b[39m\u001b[38;5;124mdo_handshake_on_connect should not be specified for non-blocking sockets\u001b[39m\u001b[38;5;124m\"\u001b[39m)\n\u001b[0;32m-> 1041\u001b[0m         \u001b[38;5;28;43mself\u001b[39;49m\u001b[38;5;241;43m.\u001b[39;49m\u001b[43mdo_handshake\u001b[49m\u001b[43m(\u001b[49m\u001b[43m)\u001b[49m\n\u001b[1;32m   1042\u001b[0m \u001b[38;5;28;01mexcept\u001b[39;00m (\u001b[38;5;167;01mOSError\u001b[39;00m, \u001b[38;5;167;01mValueError\u001b[39;00m):\n",
      "File \u001b[0;32m/Library/Frameworks/Python.framework/Versions/3.9/lib/python3.9/ssl.py:1310\u001b[0m, in \u001b[0;36mSSLSocket.do_handshake\u001b[0;34m(self, block)\u001b[0m\n\u001b[1;32m   1309\u001b[0m         \u001b[38;5;28mself\u001b[39m\u001b[38;5;241m.\u001b[39msettimeout(\u001b[38;5;28;01mNone\u001b[39;00m)\n\u001b[0;32m-> 1310\u001b[0m     \u001b[38;5;28;43mself\u001b[39;49m\u001b[38;5;241;43m.\u001b[39;49m\u001b[43m_sslobj\u001b[49m\u001b[38;5;241;43m.\u001b[39;49m\u001b[43mdo_handshake\u001b[49m\u001b[43m(\u001b[49m\u001b[43m)\u001b[49m\n\u001b[1;32m   1311\u001b[0m \u001b[38;5;28;01mfinally\u001b[39;00m:\n",
      "\u001b[0;31mSSLCertVerificationError\u001b[0m: [SSL: CERTIFICATE_VERIFY_FAILED] certificate verify failed: unable to get local issuer certificate (_ssl.c:1129)",
      "\nDuring handling of the above exception, another exception occurred:\n",
      "\u001b[0;31mURLError\u001b[0m                                  Traceback (most recent call last)",
      "Input \u001b[0;32mIn [23]\u001b[0m, in \u001b[0;36m<cell line: 10>\u001b[0;34m()\u001b[0m\n\u001b[1;32m      7\u001b[0m   \u001b[38;5;28;01mwith\u001b[39;00m \u001b[38;5;28mopen\u001b[39m(save_path, \u001b[38;5;124m'\u001b[39m\u001b[38;5;124mw\u001b[39m\u001b[38;5;124m'\u001b[39m) \u001b[38;5;28;01mas\u001b[39;00m f:\n\u001b[1;32m      8\u001b[0m     f\u001b[38;5;241m.\u001b[39mwrite(text)\n\u001b[0;32m---> 10\u001b[0m \u001b[43mdownload_from_url\u001b[49m\u001b[43m(\u001b[49m\u001b[38;5;124;43m'\u001b[39;49m\u001b[38;5;124;43mhttps://raw.githubusercontent.com/acharkq/IT1244/main/assignment1/sample3.txt\u001b[39;49m\u001b[38;5;124;43m'\u001b[39;49m\u001b[43m,\u001b[49m\u001b[43m \u001b[49m\u001b[38;5;124;43m'\u001b[39;49m\u001b[38;5;124;43msample3.txt\u001b[39;49m\u001b[38;5;124;43m'\u001b[39;49m\u001b[43m)\u001b[49m\n\u001b[1;32m     11\u001b[0m download_from_url(\u001b[38;5;124m'\u001b[39m\u001b[38;5;124mhttps://raw.githubusercontent.com/acharkq/IT1244/main/assignment1/california_housing_train.csv\u001b[39m\u001b[38;5;124m'\u001b[39m, \u001b[38;5;124m'\u001b[39m\u001b[38;5;124mcalifornia_housing_train.csv\u001b[39m\u001b[38;5;124m'\u001b[39m)\n",
      "Input \u001b[0;32mIn [23]\u001b[0m, in \u001b[0;36mdownload_from_url\u001b[0;34m(url, save_path)\u001b[0m\n\u001b[1;32m      3\u001b[0m \u001b[38;5;28;01mdef\u001b[39;00m \u001b[38;5;21mdownload_from_url\u001b[39m(url, save_path):\n\u001b[0;32m----> 4\u001b[0m   response \u001b[38;5;241m=\u001b[39m \u001b[43murllib\u001b[49m\u001b[38;5;241;43m.\u001b[39;49m\u001b[43mrequest\u001b[49m\u001b[38;5;241;43m.\u001b[39;49m\u001b[43murlopen\u001b[49m\u001b[43m(\u001b[49m\u001b[43murl\u001b[49m\u001b[43m)\u001b[49m\n\u001b[1;32m      5\u001b[0m   data \u001b[38;5;241m=\u001b[39m response\u001b[38;5;241m.\u001b[39mread()      \u001b[38;5;66;03m# a `bytes` object\u001b[39;00m\n\u001b[1;32m      6\u001b[0m   text \u001b[38;5;241m=\u001b[39m data\u001b[38;5;241m.\u001b[39mdecode(\u001b[38;5;124m'\u001b[39m\u001b[38;5;124mutf-8\u001b[39m\u001b[38;5;124m'\u001b[39m)\n",
      "File \u001b[0;32m/Library/Frameworks/Python.framework/Versions/3.9/lib/python3.9/urllib/request.py:214\u001b[0m, in \u001b[0;36murlopen\u001b[0;34m(url, data, timeout, cafile, capath, cadefault, context)\u001b[0m\n\u001b[1;32m    212\u001b[0m \u001b[38;5;28;01melse\u001b[39;00m:\n\u001b[1;32m    213\u001b[0m     opener \u001b[38;5;241m=\u001b[39m _opener\n\u001b[0;32m--> 214\u001b[0m \u001b[38;5;28;01mreturn\u001b[39;00m \u001b[43mopener\u001b[49m\u001b[38;5;241;43m.\u001b[39;49m\u001b[43mopen\u001b[49m\u001b[43m(\u001b[49m\u001b[43murl\u001b[49m\u001b[43m,\u001b[49m\u001b[43m \u001b[49m\u001b[43mdata\u001b[49m\u001b[43m,\u001b[49m\u001b[43m \u001b[49m\u001b[43mtimeout\u001b[49m\u001b[43m)\u001b[49m\n",
      "File \u001b[0;32m/Library/Frameworks/Python.framework/Versions/3.9/lib/python3.9/urllib/request.py:517\u001b[0m, in \u001b[0;36mOpenerDirector.open\u001b[0;34m(self, fullurl, data, timeout)\u001b[0m\n\u001b[1;32m    514\u001b[0m     req \u001b[38;5;241m=\u001b[39m meth(req)\n\u001b[1;32m    516\u001b[0m sys\u001b[38;5;241m.\u001b[39maudit(\u001b[38;5;124m'\u001b[39m\u001b[38;5;124murllib.Request\u001b[39m\u001b[38;5;124m'\u001b[39m, req\u001b[38;5;241m.\u001b[39mfull_url, req\u001b[38;5;241m.\u001b[39mdata, req\u001b[38;5;241m.\u001b[39mheaders, req\u001b[38;5;241m.\u001b[39mget_method())\n\u001b[0;32m--> 517\u001b[0m response \u001b[38;5;241m=\u001b[39m \u001b[38;5;28;43mself\u001b[39;49m\u001b[38;5;241;43m.\u001b[39;49m\u001b[43m_open\u001b[49m\u001b[43m(\u001b[49m\u001b[43mreq\u001b[49m\u001b[43m,\u001b[49m\u001b[43m \u001b[49m\u001b[43mdata\u001b[49m\u001b[43m)\u001b[49m\n\u001b[1;32m    519\u001b[0m \u001b[38;5;66;03m# post-process response\u001b[39;00m\n\u001b[1;32m    520\u001b[0m meth_name \u001b[38;5;241m=\u001b[39m protocol\u001b[38;5;241m+\u001b[39m\u001b[38;5;124m\"\u001b[39m\u001b[38;5;124m_response\u001b[39m\u001b[38;5;124m\"\u001b[39m\n",
      "File \u001b[0;32m/Library/Frameworks/Python.framework/Versions/3.9/lib/python3.9/urllib/request.py:534\u001b[0m, in \u001b[0;36mOpenerDirector._open\u001b[0;34m(self, req, data)\u001b[0m\n\u001b[1;32m    531\u001b[0m     \u001b[38;5;28;01mreturn\u001b[39;00m result\n\u001b[1;32m    533\u001b[0m protocol \u001b[38;5;241m=\u001b[39m req\u001b[38;5;241m.\u001b[39mtype\n\u001b[0;32m--> 534\u001b[0m result \u001b[38;5;241m=\u001b[39m \u001b[38;5;28;43mself\u001b[39;49m\u001b[38;5;241;43m.\u001b[39;49m\u001b[43m_call_chain\u001b[49m\u001b[43m(\u001b[49m\u001b[38;5;28;43mself\u001b[39;49m\u001b[38;5;241;43m.\u001b[39;49m\u001b[43mhandle_open\u001b[49m\u001b[43m,\u001b[49m\u001b[43m \u001b[49m\u001b[43mprotocol\u001b[49m\u001b[43m,\u001b[49m\u001b[43m \u001b[49m\u001b[43mprotocol\u001b[49m\u001b[43m \u001b[49m\u001b[38;5;241;43m+\u001b[39;49m\n\u001b[1;32m    535\u001b[0m \u001b[43m                          \u001b[49m\u001b[38;5;124;43m'\u001b[39;49m\u001b[38;5;124;43m_open\u001b[39;49m\u001b[38;5;124;43m'\u001b[39;49m\u001b[43m,\u001b[49m\u001b[43m \u001b[49m\u001b[43mreq\u001b[49m\u001b[43m)\u001b[49m\n\u001b[1;32m    536\u001b[0m \u001b[38;5;28;01mif\u001b[39;00m result:\n\u001b[1;32m    537\u001b[0m     \u001b[38;5;28;01mreturn\u001b[39;00m result\n",
      "File \u001b[0;32m/Library/Frameworks/Python.framework/Versions/3.9/lib/python3.9/urllib/request.py:494\u001b[0m, in \u001b[0;36mOpenerDirector._call_chain\u001b[0;34m(self, chain, kind, meth_name, *args)\u001b[0m\n\u001b[1;32m    492\u001b[0m \u001b[38;5;28;01mfor\u001b[39;00m handler \u001b[38;5;129;01min\u001b[39;00m handlers:\n\u001b[1;32m    493\u001b[0m     func \u001b[38;5;241m=\u001b[39m \u001b[38;5;28mgetattr\u001b[39m(handler, meth_name)\n\u001b[0;32m--> 494\u001b[0m     result \u001b[38;5;241m=\u001b[39m \u001b[43mfunc\u001b[49m\u001b[43m(\u001b[49m\u001b[38;5;241;43m*\u001b[39;49m\u001b[43margs\u001b[49m\u001b[43m)\u001b[49m\n\u001b[1;32m    495\u001b[0m     \u001b[38;5;28;01mif\u001b[39;00m result \u001b[38;5;129;01mis\u001b[39;00m \u001b[38;5;129;01mnot\u001b[39;00m \u001b[38;5;28;01mNone\u001b[39;00m:\n\u001b[1;32m    496\u001b[0m         \u001b[38;5;28;01mreturn\u001b[39;00m result\n",
      "File \u001b[0;32m/Library/Frameworks/Python.framework/Versions/3.9/lib/python3.9/urllib/request.py:1389\u001b[0m, in \u001b[0;36mHTTPSHandler.https_open\u001b[0;34m(self, req)\u001b[0m\n\u001b[1;32m   1388\u001b[0m \u001b[38;5;28;01mdef\u001b[39;00m \u001b[38;5;21mhttps_open\u001b[39m(\u001b[38;5;28mself\u001b[39m, req):\n\u001b[0;32m-> 1389\u001b[0m     \u001b[38;5;28;01mreturn\u001b[39;00m \u001b[38;5;28;43mself\u001b[39;49m\u001b[38;5;241;43m.\u001b[39;49m\u001b[43mdo_open\u001b[49m\u001b[43m(\u001b[49m\u001b[43mhttp\u001b[49m\u001b[38;5;241;43m.\u001b[39;49m\u001b[43mclient\u001b[49m\u001b[38;5;241;43m.\u001b[39;49m\u001b[43mHTTPSConnection\u001b[49m\u001b[43m,\u001b[49m\u001b[43m \u001b[49m\u001b[43mreq\u001b[49m\u001b[43m,\u001b[49m\n\u001b[1;32m   1390\u001b[0m \u001b[43m        \u001b[49m\u001b[43mcontext\u001b[49m\u001b[38;5;241;43m=\u001b[39;49m\u001b[38;5;28;43mself\u001b[39;49m\u001b[38;5;241;43m.\u001b[39;49m\u001b[43m_context\u001b[49m\u001b[43m,\u001b[49m\u001b[43m \u001b[49m\u001b[43mcheck_hostname\u001b[49m\u001b[38;5;241;43m=\u001b[39;49m\u001b[38;5;28;43mself\u001b[39;49m\u001b[38;5;241;43m.\u001b[39;49m\u001b[43m_check_hostname\u001b[49m\u001b[43m)\u001b[49m\n",
      "File \u001b[0;32m/Library/Frameworks/Python.framework/Versions/3.9/lib/python3.9/urllib/request.py:1349\u001b[0m, in \u001b[0;36mAbstractHTTPHandler.do_open\u001b[0;34m(self, http_class, req, **http_conn_args)\u001b[0m\n\u001b[1;32m   1346\u001b[0m         h\u001b[38;5;241m.\u001b[39mrequest(req\u001b[38;5;241m.\u001b[39mget_method(), req\u001b[38;5;241m.\u001b[39mselector, req\u001b[38;5;241m.\u001b[39mdata, headers,\n\u001b[1;32m   1347\u001b[0m                   encode_chunked\u001b[38;5;241m=\u001b[39mreq\u001b[38;5;241m.\u001b[39mhas_header(\u001b[38;5;124m'\u001b[39m\u001b[38;5;124mTransfer-encoding\u001b[39m\u001b[38;5;124m'\u001b[39m))\n\u001b[1;32m   1348\u001b[0m     \u001b[38;5;28;01mexcept\u001b[39;00m \u001b[38;5;167;01mOSError\u001b[39;00m \u001b[38;5;28;01mas\u001b[39;00m err: \u001b[38;5;66;03m# timeout error\u001b[39;00m\n\u001b[0;32m-> 1349\u001b[0m         \u001b[38;5;28;01mraise\u001b[39;00m URLError(err)\n\u001b[1;32m   1350\u001b[0m     r \u001b[38;5;241m=\u001b[39m h\u001b[38;5;241m.\u001b[39mgetresponse()\n\u001b[1;32m   1351\u001b[0m \u001b[38;5;28;01mexcept\u001b[39;00m:\n",
      "\u001b[0;31mURLError\u001b[0m: <urlopen error [SSL: CERTIFICATE_VERIFY_FAILED] certificate verify failed: unable to get local issuer certificate (_ssl.c:1129)>"
     ]
    }
   ],
   "source": [
    "import urllib.request\n",
    "\n",
    "def download_from_url(url, save_path):\n",
    "  response = urllib.request.urlopen(url)\n",
    "  data = response.read()      # a `bytes` object\n",
    "  text = data.decode('utf-8')\n",
    "  with open(save_path, 'w') as f:\n",
    "    f.write(text)\n",
    "\n",
    "download_from_url('https://raw.githubusercontent.com/acharkq/IT1244/main/assignment1/sample3.txt', 'sample3.txt')\n",
    "download_from_url('https://raw.githubusercontent.com/acharkq/IT1244/main/assignment1/california_housing_train.csv', 'california_housing_train.csv')"
   ]
  },
  {
   "cell_type": "markdown",
   "metadata": {
    "id": "KRbRpoB4O1aZ"
   },
   "source": [
    "21. Open the file `sample3.txt` using `open()` and print the content using `read()`."
   ]
  },
  {
   "cell_type": "code",
   "execution_count": null,
   "metadata": {
    "colab": {
     "base_uri": "https://localhost:8080/"
    },
    "id": "VbDCroYuRqLV",
    "outputId": "695ecdc8-f378-4637-8bf1-84958d0366dc"
   },
   "outputs": [],
   "source": [
    "f = None\n",
    "\n",
    "# start\n",
    "f = open('sample3.txt')\n",
    "print(f.read())\n",
    "# end"
   ]
  },
  {
   "cell_type": "markdown",
   "metadata": {
    "id": "sNFmDqsxRlnJ"
   },
   "source": [
    "22. Save the content of the file in a python list. Each element in the list should be a line of the file (of type `string`). You must use the function `readlines()`. There are two other rules:\n",
    "\n",
    "*   We do not want empty elements (for example a space between quotation marks like `\" \"`) : you should filter them so that we have at least one letter in each element.\n",
    "*   You should find a way to remove the line break indicator `\"\\n\"` from each element of the array.\n",
    "\n",
    "So for example, the beginning of the output should be:\n",
    "\n",
    "```\n",
    "['Quod equidem non reprehendo;'\n",
    " 'Lorem ipsum dolor sit amet, [...] dicemus?'\n",
    " 'Iam id ipsum absurdum, maximum malum [...] obruat?'\n",
    "```\n",
    "\n",
    " and not:\n",
    "\n",
    "```\n",
    "['Quod equidem non reprehendo;\\n'\n",
    " 'Lorem ipsum dolor sit amet, [...] dicemus?\\n'\n",
    " ' '\n",
    " 'Iam id ipsum absurdum, maximum malum [...] obruat?\\n'\n",
    "```\n",
    "\n",
    "Hint: You can use a loop."
   ]
  },
  {
   "cell_type": "code",
   "execution_count": null,
   "metadata": {
    "colab": {
     "base_uri": "https://localhost:8080/"
    },
    "id": "A-rQkEVfPjjK",
    "outputId": "20752bbe-356e-4031-a816-91b5891b53d9"
   },
   "outputs": [],
   "source": [
    "f = None\n",
    "lines = []\n",
    "\n",
    "# start\n",
    "for line in open('sample3.txt').readlines():\n",
    "  if line != '\\n':\n",
    "    lines.append(line.splitlines()[0])\n",
    "# end\n",
    "\n",
    "for line in lines:\n",
    "  print(line)"
   ]
  },
  {
   "cell_type": "markdown",
   "metadata": {
    "id": "yV5V7wC9RwC3"
   },
   "source": [
    "23. Append the `sentence_to_add` to end of the list `lines`. Then, join the list into a whole string `new_sample`. Save the string `new_sample` as a txt file of name `new_sample.txt`. \n",
    "\n",
    "Hint: \n",
    "1. Use the python function `'\\n'.join` to concatenate a list of strings into a new string with line break after every line.\n",
    "2. Check out https://stackoverflow.com/a/12871858/9208236 to see how to write string to a file in python."
   ]
  },
  {
   "cell_type": "code",
   "execution_count": null,
   "metadata": {
    "colab": {
     "base_uri": "https://localhost:8080/"
    },
    "id": "S-BO1dZ8Q9Nv",
    "outputId": "31a652fb-337d-46bb-ea48-5d913905e888"
   },
   "outputs": [],
   "source": [
    "sentence_to_add = 'I love python!'\n",
    "new_sample = ''\n",
    "\n",
    "# start\n",
    "lines.append(sentence_to_add)\n",
    "new_sample = '\\n'.join(lines)\n",
    "with open('new_sample.txt', 'w') as f:\n",
    "  f.write(new_sample)\n",
    "# end\n",
    "\n",
    "print(new_sample)"
   ]
  },
  {
   "cell_type": "markdown",
   "metadata": {
    "id": "4K2yJJJ7Vx0o"
   },
   "source": [
    "24. Open the file `california_housing_train.csv`. Opening a txt file and a csv file is different! Here, you should use `csv.reader`. Then, print the first 10 rows of the file. The header is not considered as first row in the file. So the output should print the header of each column and the first 10 rows of data.\n",
    "\n",
    "Hint: You can use a loop for the second part of the question."
   ]
  },
  {
   "cell_type": "code",
   "execution_count": null,
   "metadata": {
    "colab": {
     "base_uri": "https://localhost:8080/"
    },
    "id": "X44QsKxNUPyn",
    "outputId": "d86763a1-9654-4e84-ee93-01073f7719a2"
   },
   "outputs": [],
   "source": [
    "# start\n",
    "with open ('california_housing_train.csv', 'r') as f:\n",
    "  csv_file = csv.reader(f) \n",
    "  tracker = 0\n",
    "  for row in csv_file:\n",
    "    print(','.join(row))\n",
    "    tracker += 1\n",
    "    if tracker == 11:\n",
    "      break\n",
    "# end"
   ]
  },
  {
   "cell_type": "markdown",
   "metadata": {
    "id": "f5HUTH7JWolK"
   },
   "source": [
    "25. Save the rows of the csv file in an array `csv_array`. Do not save the first line of the csv array, which are just the names of the column (`'longitude'`, `'latitude'`, `'housing_median_age'`,... etc). In the csv files, the numbers are of type string. Convert these strings into float in `csv_array`."
   ]
  },
  {
   "cell_type": "code",
   "execution_count": null,
   "metadata": {
    "colab": {
     "base_uri": "https://localhost:8080/"
    },
    "id": "ixo5chAENhW0",
    "outputId": "5b49f044-b1ab-4f9a-9667-34c2cf2072bf"
   },
   "outputs": [],
   "source": [
    "csv_array = None\n",
    "\n",
    "# start\n",
    "csv_array = []\n",
    "with open('california_housing_train.csv', 'r') as f:\n",
    "  csv_file = csv.reader(f)\n",
    "  next(csv_file, None)\n",
    "  for row in csv_file:\n",
    "    csv_array.extend([[float(x) for x in row]])\n",
    "\n",
    "\n",
    "# end\n",
    "\n",
    "print(csv_array[:10])"
   ]
  },
  {
   "cell_type": "markdown",
   "metadata": {
    "id": "_API8BzeZKVg"
   },
   "source": [
    "## **Plot a graph**\n",
    "Python can also help you to visualize your dataset and your results by plotting graphs."
   ]
  },
  {
   "cell_type": "markdown",
   "metadata": {
    "id": "0ol6uiVhZh7n"
   },
   "source": [
    "26. Plot the graph of log(x), with x = 1, 2, ..., 10.\n",
    "\n",
    "Hint: Use `np.arange`, as well as `plt.plot`"
   ]
  },
  {
   "cell_type": "code",
   "execution_count": 3,
   "metadata": {
    "colab": {
     "base_uri": "https://localhost:8080/",
     "height": 282
    },
    "id": "HkLN9HRqY5PW",
    "outputId": "615ed19b-ee36-445c-fe27-7fc5ef951ae8"
   },
   "outputs": [
    {
     "data": {
      "text/plain": [
       "[<matplotlib.lines.Line2D at 0x7ff74061b5e0>]"
      ]
     },
     "execution_count": 3,
     "metadata": {},
     "output_type": "execute_result"
    },
    {
     "data": {
      "image/png": "[encoded data removed]",
      "text/plain": [
       "<Figure size 432x288 with 1 Axes>"
      ]
     },
     "metadata": {
      "needs_background": "light"
     },
     "output_type": "display_data"
    }
   ],
   "source": [
    "# start\n",
    "X = np.arange(1,11)\n",
    "plt.plot(X, np.log(X))\n",
    "\n",
    "# end"
   ]
  },
  {
   "cell_type": "markdown",
   "metadata": {
    "id": "xc7UBPgxfylw"
   },
   "source": [
    "27. Now, plot the same thing, but instead of plotting a line, you should plot scattered point.\n",
    "\n",
    "Hint: Use `plt.scatter`"
   ]
  },
  {
   "cell_type": "code",
   "execution_count": 4,
   "metadata": {
    "colab": {
     "base_uri": "https://localhost:8080/",
     "height": 282
    },
    "id": "i-cMhejiflMu",
    "outputId": "01bcc11d-ccfb-41f7-c88c-751cbf29777e"
   },
   "outputs": [
    {
     "data": {
      "text/plain": [
       "<matplotlib.collections.PathCollection at 0x7ff7407ab7f0>"
      ]
     },
     "execution_count": 4,
     "metadata": {},
     "output_type": "execute_result"
    },
    {
     "data": {
      "image/png": "[encoded data removed]",
      "text/plain": [
       "<Figure size 432x288 with 1 Axes>"
      ]
     },
     "metadata": {
      "needs_background": "light"
     },
     "output_type": "display_data"
    }
   ],
   "source": [
    "# start\n",
    "plt.scatter(X, np.log(X))\n",
    "\n",
    "# end"
   ]
  },
  {
   "cell_type": "markdown",
   "metadata": {
    "id": "TluKFQrJgVB9"
   },
   "source": [
    "28. Plot the graphs of the functions `sin(x)` and `cos(x)` in the same figure. `x` should go from 1 to 10 with step 0.1. You should label each of the functions as `\"sin\"` and `\"cos\"`, respectively. You should also add a title to the figure `\"sinusoid\"` thanks to `plt.title()`.\n",
    "\n",
    "Hint: Don't forget to add `plt.legend()`"
   ]
  },
  {
   "cell_type": "code",
   "execution_count": 5,
   "metadata": {
    "colab": {
     "base_uri": "https://localhost:8080/",
     "height": 298
    },
    "id": "wP2_YifrgW3P",
    "outputId": "42092e37-a273-4b0e-9fc5-e8078509eeff"
   },
   "outputs": [
    {
     "data": {
      "text/plain": [
       "<matplotlib.legend.Legend at 0x7ff730edf730>"
      ]
     },
     "execution_count": 5,
     "metadata": {},
     "output_type": "execute_result"
    },
    {
     "data": {
      "image/png": "[encoded data removed]",
      "text/plain": [
       "<Figure size 432x288 with 1 Axes>"
      ]
     },
     "metadata": {
      "needs_background": "light"
     },
     "output_type": "display_data"
    }
   ],
   "source": [
    "# start\n",
    "X = np.arange(1,10.1,0.1)\n",
    "sin, cos = np.sin(X), np.cos(X)\n",
    "plt.plot(X, sin, label = 'sin')\n",
    "plt.plot(X, cos, label = 'cos')\n",
    "plt.title(\"sinusoid\")\n",
    "plt.legend()\n",
    "# end"
   ]
  },
  {
   "cell_type": "markdown",
   "metadata": {
    "id": "C-lZSw7rleQL"
   },
   "source": [
    "29. Plot from a numpy array: `arr` defines a set of points. Use the first column of `arr` as the x coodinates and the second column of `arr` as the y coodinates. Then, plot these points with these x, y coordinates.\n",
    "\n",
    "\n"
   ]
  },
  {
   "cell_type": "code",
   "execution_count": 6,
   "metadata": {
    "colab": {
     "base_uri": "https://localhost:8080/",
     "height": 282
    },
    "id": "hR9rpgveNp8H",
    "outputId": "e6245eb2-1879-4736-b324-2149d15a9672"
   },
   "outputs": [
    {
     "data": {
      "text/plain": [
       "<matplotlib.collections.PathCollection at 0x7ff730f8fd00>"
      ]
     },
     "execution_count": 6,
     "metadata": {},
     "output_type": "execute_result"
    },
    {
     "data": {
      "image/png": "[encoded data removed]",
      "text/plain": [
       "<Figure size 432x288 with 1 Axes>"
      ]
     },
     "metadata": {
      "needs_background": "light"
     },
     "output_type": "display_data"
    }
   ],
   "source": [
    "arr = np.array([[0,1],[2,100],[7,8],[6,9],[10,80],[1,92],[4,25],[9,10],[8,56],[3,78],[5,61]])\n",
    "\n",
    "# start\n",
    "plt.scatter(*zip(*arr))\n",
    "\n",
    "\n",
    "# end"
   ]
  },
  {
   "cell_type": "markdown",
   "metadata": {
    "id": "WHt4beRZlgsS"
   },
   "source": [
    "30. Plot the density probability and cumulative probability of normal distribution. Follow these instructions :\n",
    "\n",
    "\n",
    "*   The title should be `\"Normal distribution\"`\n",
    "*   The labels should be `\"density\"` and `\"cumulative\"`\n",
    "*   The x should go from -4 to 4 with step 0.1\n",
    "*   Use full line to join the points.\n",
    "*   The density line should be green, and the cumulative should be cyan.\n",
    "\n"
   ]
  },
  {
   "cell_type": "code",
   "execution_count": 7,
   "metadata": {
    "colab": {
     "base_uri": "https://localhost:8080/",
     "height": 298
    },
    "id": "g6FbhTp9kzLO",
    "outputId": "ce482355-f15d-4e8d-9ad6-590093ebae96"
   },
   "outputs": [
    {
     "data": {
      "text/plain": [
       "<matplotlib.legend.Legend at 0x7ff730efeca0>"
      ]
     },
     "execution_count": 7,
     "metadata": {},
     "output_type": "execute_result"
    },
    {
     "data": {
      "image/png": "[encoded data removed]",
      "text/plain": [
       "<Figure size 432x288 with 1 Axes>"
      ]
     },
     "metadata": {
      "needs_background": "light"
     },
     "output_type": "display_data"
    }
   ],
   "source": [
    "# start\n",
    "X = np.arange(-4, 4.1, 0.1)\n",
    "plt.plot(X, stats.norm.pdf(X), label = 'density', color='green')\n",
    "plt.plot(X, stats.norm.cdf(X), label = 'cumulative', color = 'cyan')\n",
    "plt.title('Normal distribution')\n",
    "plt.legend()\n",
    "# end"
   ]
  },
  {
   "cell_type": "markdown",
   "metadata": {
    "id": "Se7dZWSeinlW"
   },
   "source": [
    "# End of the Assignment"
   ]
  }
 ],
 "metadata": {
  "colab": {
   "collapsed_sections": [],
   "name": "[IT1244]_Assignment1_P2.ipynb",
   "provenance": []
  },
  "kernelspec": {
   "display_name": "Python 3 (ipykernel)",
   "language": "python",
   "name": "python3"
  },
  "language_info": {
   "codemirror_mode": {
    "name": "ipython",
    "version": 3
   },
   "file_extension": ".py",
   "mimetype": "text/x-python",
   "name": "python",
   "nbconvert_exporter": "python",
   "pygments_lexer": "ipython3",
   "version": "3.9.13"
  }
 },
 "nbformat": 4,
 "nbformat_minor": 1
}
