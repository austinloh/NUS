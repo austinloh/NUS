{
  "nbformat": 4,
  "nbformat_minor": 0,
  "metadata": {
    "colab": {
      "name": "IT1244_A2.ipynb",
      "provenance": [],
      "collapsed_sections": []
    },
    "kernelspec": {
      "name": "python3",
      "display_name": "Python 3"
    },
    "language_info": {
      "name": "python"
    }
  },
  "cells": [
    {
      "cell_type": "markdown",
      "metadata": {
        "id": "8yRj6Htiebfn"
      },
      "source": [
        "# Programming Assignment-2\n",
        "\n",
        "\n",
        "---\n",
        "\n",
        "\n",
        "## **N-Queen Problem**\n",
        "\n",
        "**Objective:**\n",
        "\n",
        "The objective of the assignment is to implement a backtracking solution for N-Queen problem using search teachnique.\n",
        "\n",
        "N-Queen problem is defined as follows:\n",
        "\n",
        "*   You have an NxN chessboard and you are asked to place N queens over the chessboard, such that each column contains only one queen.\n",
        "*   In addition, no pair of queens should be attacking the other.\n",
        "*   Here N can take values from 4, 5, 6, etc.\n",
        "\n",
        "**Deliverables:**\n",
        "\n",
        "*   This colab notebook with python codes ONLY.\n",
        "\n",
        "Total Marks: 15.\n",
        "---\n",
        "\n",
        "\n"
      ]
    },
    {
      "cell_type": "markdown",
      "metadata": {
        "id": "x2yyyaad8lLe"
      },
      "source": [
        "##**Q1. `printBoard()`** \n",
        "You need to write a python function that prints the contents of the chessboard. You will use this function in the next sections. The chessboard is stored as 2D list whose elements are 0 or 1. Value '0' represents no queen and value '1' replresents a queen in that position. (3 marks)"
      ]
    },
    {
      "cell_type": "code",
      "metadata": {
        "id": "zzBkU7IbeaO5"
      },
      "source": [
        "# function to print the contents of the chessboard. You need to get the number \n",
        "# of rows and cols from the board variable, which is a list.\n",
        "def printBoard(board):\n",
        "  # start\n",
        "  rows = len(board)\n",
        "  for i in range(rows):\n",
        "    print(*board[i])\n",
        "  # end"
      ],
      "execution_count": 80,
      "outputs": []
    },
    {
      "cell_type": "markdown",
      "metadata": {
        "id": "xNFpb27oxZvh"
      },
      "source": [
        "When you run the below code it should print the contents of the chessboard."
      ]
    },
    {
      "cell_type": "code",
      "metadata": {
        "id": "EoAxrSzY1M_T",
        "colab": {
          "base_uri": "https://localhost:8080/"
        },
        "outputId": "57f72d67-c5cd-4eaf-d780-a60ff1866118"
      },
      "source": [
        "# driver code to test the printBoard()\n",
        "\n",
        "N=4\n",
        "board = [[0 for i in range(N)] for j in range(N)]\n",
        "board[1][0]=1\n",
        "board[3][0]=1\n",
        "board[0][2]=1\n",
        "board[2][3]=1\n",
        "\n",
        "printBoard(board)"
      ],
      "execution_count": 81,
      "outputs": [
        {
          "output_type": "stream",
          "name": "stdout",
          "text": [
            "0 0 1 0\n",
            "1 0 0 0\n",
            "0 0 0 1\n",
            "1 0 0 0\n"
          ]
        }
      ]
    },
    {
      "cell_type": "markdown",
      "metadata": {
        "id": "jrdyOADe1XYc"
      },
      "source": [
        "Expected output:\n",
        "\n",
        "```\n",
        "0 0 1 0 \n",
        "1 0 0 0 \n",
        "0 0 0 1 \n",
        "1 0 0 0 \n",
        "```"
      ]
    },
    {
      "cell_type": "markdown",
      "metadata": {
        "id": "XEqTlazczFSV"
      },
      "source": [
        "##**Q2. `checkSafety()`** \n",
        "You need to write a python function to check the safety of the queen that is to be placed at the location (row, col) - i.e., your function should return `True` if placing a queen at (row, col) does not attack any other queens that are already in the board. Else, the function should return `False`. You may have to use `printBoard()` function in your code for debugging purposes. (5 marks)"
      ]
    },
    {
      "cell_type": "code",
      "metadata": {
        "id": "CbhMOf4oxMtJ"
      },
      "source": [
        "# function to check if there are conflicting pairs of queens.\n",
        "# Note: You need to check if there are other queens already\n",
        "# placed in the horizontal, vertical and diagonal directions\n",
        "# from the given location (row, col)\n",
        "def checkSafety(board, row, col):\n",
        "  # start\n",
        "  flag = True\n",
        "  length = len(board)\n",
        "  #check in horizontal direction\n",
        "  for i in range(length):\n",
        "    if board[row][i] == 1 and i != col: #check horizontal\n",
        "      return False\n",
        "    if board[i][col] == 1 and i != row: #check vertical\n",
        "      return False\n",
        "  #check in vertical direction\n",
        "  \n",
        "  #check in right-lower diagonal direction\n",
        "  position = (row+1,col+1)\n",
        "  while (position[0] < length) and (position[1] < length):\n",
        "    if board[position[0]][position[1]] == 1:\n",
        "      return False\n",
        "    position = (position[0]+1,position[1]+1)\n",
        "  #check in right-upper diagonal direction\n",
        "  position = (row-1,col+1)\n",
        "  while (position[0] > -1) and (position[1] < length):\n",
        "    if board[position[0]][position[1]] == 1:\n",
        "      return False\n",
        "    position = (position[0]-1,position[1]+1)\n",
        "  #check in left-lower diagonal direction\n",
        "  position = (row+1,col-1)\n",
        "  while (position[0] < length) and (position[1] > -1):\n",
        "    if board[position[0]][position[1]] == 1:\n",
        "      return False\n",
        "    position = (position[0]+1,position[1]-1)\n",
        "  #check in left-upper diagonal direction\n",
        "  position = (row-1,col-1)\n",
        "  while (position[0] > -1) and (position[1] > -1):\n",
        "    if board[position[0]][position[1]] == 1:\n",
        "      return False\n",
        "    position = (position[0]-1,position[1]-1)\n",
        "\n",
        "  return True\n",
        "  # end"
      ],
      "execution_count": 82,
      "outputs": []
    },
    {
      "cell_type": "markdown",
      "metadata": {
        "id": "qtYiItxD2-NE"
      },
      "source": [
        "When you run the below code, it should print the expected output."
      ]
    },
    {
      "cell_type": "code",
      "metadata": {
        "id": "VIdYMFYk3CUo",
        "colab": {
          "base_uri": "https://localhost:8080/"
        },
        "outputId": "4e0a558a-6e8c-432a-901e-336450579e9b"
      },
      "source": [
        "# driver code to test the checkSafety()\n",
        "\n",
        "N=4\n",
        "board = [[0 for i in range(N)] for j in range(N)]\n",
        "board[1][0]=1\n",
        "board[3][1]=1\n",
        "board[0][2]=1\n",
        "board[2][3]=1\n",
        "\n",
        "# testing the checkSafety function\n",
        "result = checkSafety(board, 1,0) # by placing a queen at (1,0)\n",
        "print(result)\n",
        "result = checkSafety(board, 1,1) # by placing a queen at (1,1)\n",
        "print(result)\n",
        "result = checkSafety(board, 2,3) # by placing a queen at (2,3)\n",
        "print(result)\n",
        "result = checkSafety(board, 3,2) # by placing a queen at (3,2)\n",
        "print(result)"
      ],
      "execution_count": 83,
      "outputs": [
        {
          "output_type": "stream",
          "name": "stdout",
          "text": [
            "True\n",
            "False\n",
            "True\n",
            "False\n"
          ]
        }
      ]
    },
    {
      "cell_type": "markdown",
      "metadata": {
        "id": "xGnZhsCI5Q44"
      },
      "source": [
        "Expected output:\n",
        "\n",
        "\n",
        "```\n",
        "True\n",
        "False\n",
        "True\n",
        "False\n",
        "```\n",
        "\n"
      ]
    },
    {
      "cell_type": "markdown",
      "metadata": {
        "id": "jkxbh08uFZwd"
      },
      "source": [
        "##**Q3. Backtracking Method**\n",
        "You need to write down a python function for solving the N-Queen problem using backtracking method.  You need to use recursive function for this approach. Under each recursion, you will place a queen in each column incrementally. Everytime you place a queen in their respective column, you will check for the safety of this queen. If it is safe, then you will return `True` else you will return `False`. Once all the N-queens are successfully placed in the board, the function should print the contents of the board and return `True`. There can be multiple answers for an N-sized board, printing any of them will be marked as correct. (8 marks)"
      ]
    },
    {
      "cell_type": "code",
      "metadata": {
        "id": "x0LTbMOHFZwe"
      },
      "source": [
        "# function to compute the all possible solutions for N queen problem using \n",
        "# backtracking method.\n",
        "# You should get the value of N from the size of the board.\n",
        "# col - represents the current column in which the queen is placed. This variable \n",
        "# will be updated in the subsequent recursive call.\n",
        "\n",
        "def solveNQueenBT(board, col):  \n",
        "  # start\n",
        "  length = len(board)\n",
        "  if col == length: #will be true only if successfully placed all N queens\n",
        "    printBoard(board)\n",
        "    return True\n",
        "  for i in range(length):\n",
        "    if checkSafety(board, i, col):\n",
        "      board[i][col] = 1\n",
        "      if not solveNQueenBT(board, col+1): #if current move leads to no possible next move\n",
        "        board[i][col] = 0 \n",
        "      else: \n",
        "        return True\n",
        "  return False #if unable to find a successful move\n",
        "  # end"
      ],
      "execution_count": 84,
      "outputs": []
    },
    {
      "cell_type": "markdown",
      "metadata": {
        "id": "td9W_-ZNFZwf"
      },
      "source": [
        "When you run the below code, it should print the any of the solution. It may vary depending on the logic that you have used. "
      ]
    },
    {
      "cell_type": "code",
      "metadata": {
        "id": "abKT0AKAFZwf",
        "colab": {
          "base_uri": "https://localhost:8080/"
        },
        "outputId": "aaa2248e-3e5a-453d-e75f-2800142762e4"
      },
      "source": [
        "# driver code to test the solve4QueenBT()\n",
        "N = 4\n",
        "board = [[0 for i in range(N)] for j in range(N)]\n",
        "solveNQueenBT(board, 0);"
      ],
      "execution_count": 85,
      "outputs": [
        {
          "output_type": "stream",
          "name": "stdout",
          "text": [
            "0 0 1 0\n",
            "1 0 0 0\n",
            "0 0 0 1\n",
            "0 1 0 0\n"
          ]
        }
      ]
    },
    {
      "cell_type": "markdown",
      "metadata": {
        "id": "gTH-ViF6FZwf"
      },
      "source": [
        "Expected output (may vary):\n",
        "```\n",
        "Solution \n",
        "0 0 1 0 \n",
        "1 0 0 0 \n",
        "0 0 0 1 \n",
        "0 1 0 0 \n",
        "```"
      ]
    },
    {
      "cell_type": "markdown",
      "metadata": {
        "id": "fOMDVAKyDpAM"
      },
      "source": [
        "# End of your assignment"
      ]
    }
  ]
}
