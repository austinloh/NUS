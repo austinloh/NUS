{
  "cells": [
    {
      "cell_type": "markdown",
      "metadata": {
        "id": "8yRj6Htiebfn"
      },
      "source": [
        "# Programming Assignment-4\n",
        "\n",
        "---\n",
        "\n",
        "## **KNN Classifier**\n",
        "\n",
        "**Objective:**\n",
        "\n",
        "The objective of the assignment is to implement KNN algorithm in python to classify students into one of 20 grades. You will be using features like student's age, family size, etc. After completing this assignment, you should be familiar with the following:\n",
        "\n",
        "* How to load the dataset in pyhton?\n",
        "\n",
        "* How to standardize the dataset for better results?\n",
        "\n",
        "* How to compute a similarity measure between two data samples? \n",
        "\n",
        "* How to compute K-similar neighbors for the given test data?\n",
        "\n",
        "* How to implement the KNN algorithm to classify the a student?\n",
        "\n",
        "* How to evaluate the performance of a machine learning algorithms, i.e., your KNN algorithm?\n",
        "\n",
        "* How does KNN performs with and without standardizing the dataset?\n",
        "\n",
        "### **Student Performance Dataset:**\n",
        "\n",
        "You can download the dataset from here: https://archive.ics.uci.edu/ml/datasets/Student+Performance\n",
        "\n",
        "\n",
        "**Description:**\n",
        "\n",
        "This dataset contains student achievement in secondary education of two Portuguese schools. The data attributes include student grades, demographic, social and school related features and it was collected by using school reports and questionnaires. Two datasets are provided regarding the performance in two distinct subjects: Mathematics (mat) and Portuguese language (por). We will be using the Mathematics portion for this assignment (\"student-mat.csv\").\n",
        "\n",
        "There are a total of 33 features in this dataset - for the sake of simplicity, we will only use the below numerical features for this assignment:\n",
        "\n",
        "1. Age - student's age (numeric: from 15 to 22)\n",
        "2. Medu - mother's education (numeric: 0 - none, 1 - primary education (4th grade), 2 - 5th to 9th grade, 3 - secondary education or 4 - higher education)\n",
        "3. Fedu - father's education (numeric: 0 - none, 1 - primary education (4th grade), 2 - 5th to 9th grade, 3 - secondary education or 4 - higher education)\n",
        "4. Traveltime - home to school travel time (numeric: 1 - <15 min., 2 - 15 to 30 min., 3 - 30 min. to 1 hour, or 4 - >1 hour)\n",
        "5. Studytime - weekly study time (numeric: 1 - <2 hours, 2 - 2 to 5 hours, 3 - 5 to 10 hours, or 4 - >10 hours)\n",
        "6. Failures - number of past class failures (numeric: n if 1<=n<3, else 4)\n",
        "7. Famrel - quality of family relationships (numeric: from 1 - very bad to 5 - excellent)\n",
        "8. Freetime - free time after school (numeric: from 1 - very low to 5 - very high)\n",
        "9. Goout - going out with friends (numeric: from 1 - very low to 5 - very high)\n",
        "10. Dalc - workday alcohol consumption (numeric: from 1 - very low to 5 - very high)\n",
        "11. Walc - weekend alcohol consumption (numeric: from 1 - very low to 5 - very high)\n",
        "12. Health - current health status (numeric: from 1 - very bad to 5 - very good)\n",
        "13. Absences - number of school absences (numeric: from 0 to 93)\n",
        "14. G3 - final grade (numeric: from 0 to 20, output target)\n",
        "\n",
        "It is recommended to go through the description of the dataset in the above link in order to understand how the data is organized. More specifically, \"student-mat.csv\" file contains the actual dataset and \"student.txt\" file contains the decriptions of the dataset.\n",
        "\n",
        "Note: Most of the codes are already implemented for you. It is important for you to go through them and understand them before writing your code section. Q7 is not graded, but it is highly recommend to go through it and understand the imporatance of feature scaling in machine learning.\n",
        "\n",
        "**Deliverables:**\n",
        "\n",
        "*   This colab notebook with python codes\n",
        "\n",
        "Total Marks: 20 (3+3+3+3+5+3).\n",
        "---\n"
      ]
    },
    {
      "cell_type": "markdown",
      "metadata": {
        "id": "zd9niaSd9xPA"
      },
      "source": [
        "## **Q0. Download the dataset and upload it to Colab**\n",
        "\n",
        "\n",
        "Before getting started, you need to follow the instructions below to download the dataset from https://archive.ics.uci.edu/ml/machine-learning-databases/00320/student.zip and upload it to the Colab environment. \n",
        "\n",
        "* By pressing the link above, your browser should have downloaded the zip file that contains `student-mat.csv` file. \n",
        "\n",
        "* Open the Colab file browser by pressing the small folder icon on the left of the Colab page.  \n",
        "\n",
        "* You can then drag and drop the `student-mat.csv` file into the Colab environment.\n",
        "\n",
        "![screenshot](https://raw.githubusercontent.com/acharkq/IT1244/main/figures/screenshot.png)"
      ]
    },
    {
      "cell_type": "markdown",
      "metadata": {
        "id": "8DANbMtO1Bqx"
      },
      "source": [
        "##**Q1. `load_student_data()`** \n",
        "You need to implement this function to load the dataset from the `student-mat.csv` file and return the `X` and `y` as numpy arrays. `X` is 13 attributes of each student and `y` is the corresponding final grade. `y` can take values 0 to 20. (3 marks)\n",
        "\n",
        "*Hint:*\n",
        "\n",
        "*1. Read carefully the dataset description at https://archive.ics.uci.edu/ml/datasets/Student+Performance*.\n",
        "\n",
        "*2. You can use the csv reader to read the `student-mat.csv` file.*\n",
        "\n",
        "*3. Note that the data is delimited with `;`*"
      ]
    },
    {
      "cell_type": "code",
      "execution_count": 1,
      "metadata": {
        "execution": {
          "iopub.execute_input": "2022-07-26T07:36:58.063906Z",
          "iopub.status.busy": "2022-07-26T07:36:58.063608Z",
          "iopub.status.idle": "2022-07-26T07:36:58.474599Z",
          "shell.execute_reply": "2022-07-26T07:36:58.473786Z",
          "shell.execute_reply.started": "2022-07-26T07:36:58.063839Z"
        },
        "id": "Og4vGG41a3tr",
        "tags": []
      },
      "outputs": [],
      "source": [
        "import csv\n",
        "import numpy as np\n",
        "import math\n",
        "\n",
        "# to display the float numbers with 2 decimal points and supress the use of\n",
        "# scientific notations for small numbers\n",
        "np.set_printoptions(precision=2, suppress=True)\n",
        "\n",
        "# You can use X_COLUMN_NAMES and Y_COLUMN_NAME to extract the relevant information from the CSV files\n",
        "X_COLUMN_NAMES = [\n",
        "    \"age\",\n",
        "    \"Medu\",\n",
        "    \"Fedu\",\n",
        "    \"traveltime\",\n",
        "    \"studytime\",\n",
        "    \"failures\",\n",
        "    \"famrel\",\n",
        "    \"freetime\",\n",
        "    \"goout\",\n",
        "    \"Dalc\",\n",
        "    \"Walc\",\n",
        "    \"health\",\n",
        "    \"absences\",\n",
        "]\n",
        "Y_COLUMN_NAME = \"G3\"\n",
        "\n",
        "# function to load the student dataset into X and y numpy arrays\n",
        "def load_student_data(filename):\n",
        "    \"\"\"\n",
        "  filename: string, the path of the student-mat.csv dataset\n",
        "  RETURN\n",
        "    X: numpy array: shape = [N, D]\n",
        "    y: numpy array: shape = [N]\n",
        "  \"\"\"\n",
        "    X, y = None, None\n",
        "\n",
        "    ## start your code here\n",
        "    with open(filename) as csvfile:\n",
        "      reader = list(csv.reader(csvfile, delimiter=';'))\n",
        "      header = reader[0]\n",
        "      indices = []\n",
        "      class_index = 0\n",
        "      for i in range(len(header)):\n",
        "        if header[i] in X_COLUMN_NAMES:\n",
        "          indices.append(i)\n",
        "        if header[i] == Y_COLUMN_NAME:\n",
        "          class_index = i\n",
        "      for i in range(1,len(reader)):\n",
        "        if i==1:\n",
        "          X = np.array([[int(reader[i][j]) for j in indices]])\n",
        "          y = np.array([int(reader[i][class_index])])\n",
        "        else:\n",
        "          X = np.append(X, [[int(reader[i][j]) for j in indices]], axis=0)\n",
        "          y = np.append(y, [int(reader[i][class_index])])\n",
        "    ## end\n",
        "    return X, y"
      ]
    },
    {
      "cell_type": "markdown",
      "metadata": {
        "id": "aSFX3RVWzBJD"
      },
      "source": [
        "When you run this code, you should get the expected output as shown below:\n"
      ]
    },
    {
      "cell_type": "code",
      "execution_count": 2,
      "metadata": {
        "colab": {
          "base_uri": "https://localhost:8080/"
        },
        "execution": {
          "iopub.execute_input": "2022-07-26T07:36:58.476163Z",
          "iopub.status.busy": "2022-07-26T07:36:58.475712Z",
          "iopub.status.idle": "2022-07-26T07:36:58.510627Z",
          "shell.execute_reply": "2022-07-26T07:36:58.509902Z",
          "shell.execute_reply.started": "2022-07-26T07:36:58.476138Z"
        },
        "id": "LI82k6pmz7Bn",
        "outputId": "70eb2cdf-beb3-49c6-9af1-ba46631e14e7",
        "tags": []
      },
      "outputs": [
        {
          "output_type": "stream",
          "name": "stdout",
          "text": [
            "1 14 4\n",
            "6 5 6\n",
            "(395, 13) (395,)\n"
          ]
        }
      ],
      "source": [
        "# driver program to test the load_student_data() function\n",
        "\n",
        "filename = \"/content/student-mat.csv\"\n",
        "\n",
        "X, y = load_student_data(filename)\n",
        "\n",
        "print(X[1][10], X[100, 12], X[177][12])\n",
        "print(y[1], y[100], y[177])\n",
        "print(X.shape, y.shape)"
      ]
    },
    {
      "cell_type": "markdown",
      "metadata": {
        "id": "PkOB2VCV01nz"
      },
      "source": [
        "Expected output:\n",
        "```\n",
        "1 14 4\n",
        "6 5 6\n",
        "(395, 13) (395,)\n",
        "```\n"
      ]
    },
    {
      "cell_type": "markdown",
      "metadata": {
        "id": "6so9ooq3092o"
      },
      "source": [
        "##**Q2. `standardizeDataset()`**\n",
        "You need to implement this function to standardize the input values, i.e., `X` values. Here we need to standardize each column of `X` separately. That is, for each column of `X`, we subtract the mean of that column and divide all the elements in that column by their standard deviation.\n",
        "\n",
        "This function takes in the numpy array `X` and returns the standardized numpy array `Xstd`. (3 marks)"
      ]
    },
    {
      "cell_type": "code",
      "execution_count": 3,
      "metadata": {
        "execution": {
          "iopub.execute_input": "2022-07-26T07:36:58.515692Z",
          "iopub.status.busy": "2022-07-26T07:36:58.514994Z",
          "iopub.status.idle": "2022-07-26T07:36:58.530017Z",
          "shell.execute_reply": "2022-07-26T07:36:58.529192Z",
          "shell.execute_reply.started": "2022-07-26T07:36:58.515655Z"
        },
        "id": "y-6vqu5m1jUH",
        "tags": []
      },
      "outputs": [],
      "source": [
        "# function to standardize the dataset.\n",
        "\n",
        "\n",
        "def standardizeDataset(X):\n",
        "    \"\"\"\n",
        "  X: numpy array, shape = [N,D]\n",
        "  RETURN\n",
        "    Xstd: numpy array, shape = [N,D]\n",
        "  \"\"\"\n",
        "    Xstd = np.zeros_like(X)\n",
        "    ## start your code here\n",
        "    #Xstd = (X - X.mean(0))/np.std(0)\n",
        "    Xstd = (X-np.mean(X, axis=0))/np.std(X, axis=0)\n",
        "    Xstd = Xstd.astype(int)\n",
        "    ## end\n",
        "    return Xstd"
      ]
    },
    {
      "cell_type": "markdown",
      "metadata": {
        "id": "wXbXvFgNMNXr"
      },
      "source": [
        "When you run this code, you should get the expected output as shown below:"
      ]
    },
    {
      "cell_type": "code",
      "execution_count": 4,
      "metadata": {
        "colab": {
          "base_uri": "https://localhost:8080/"
        },
        "execution": {
          "iopub.execute_input": "2022-07-26T07:36:58.531545Z",
          "iopub.status.busy": "2022-07-26T07:36:58.531090Z",
          "iopub.status.idle": "2022-07-26T07:36:58.544619Z",
          "shell.execute_reply": "2022-07-26T07:36:58.543755Z",
          "shell.execute_reply.started": "2022-07-26T07:36:58.531507Z"
        },
        "id": "0DSG_tmRMcmd",
        "outputId": "6106d4e4-28c1-47a5-90c9-b004ac6fb126",
        "tags": []
      },
      "outputs": [
        {
          "output_type": "stream",
          "name": "stdout",
          "text": [
            "(395, 13)\n",
            "1 0 0\n"
          ]
        }
      ],
      "source": [
        "# driver code to test the standardizeData() function\n",
        "Xstd = standardizeDataset(X)\n",
        "print(Xstd.shape)\n",
        "print(Xstd[10, 1], Xstd[1, 12], Xstd[177, 12])"
      ]
    },
    {
      "cell_type": "markdown",
      "metadata": {
        "id": "DvMVe-x3MkgU"
      },
      "source": [
        "Expected output:\n",
        "```\n",
        "(395, 13)\n",
        "1 0 0\n",
        "```"
      ]
    },
    {
      "cell_type": "markdown",
      "metadata": {
        "id": "nOCWb-ksNZ8_"
      },
      "source": [
        "##**Q3. `euclideanDist()`**\n",
        "You need to implement this function to compute the Euclidean distance between two data samples, i.e., any two rows from the `Xstd` array. This function takes two numpy arrays and returns the distance value in float. (3 marks)"
      ]
    },
    {
      "cell_type": "code",
      "execution_count": 5,
      "metadata": {
        "execution": {
          "iopub.execute_input": "2022-07-26T07:36:58.546057Z",
          "iopub.status.busy": "2022-07-26T07:36:58.545640Z",
          "iopub.status.idle": "2022-07-26T07:36:58.557820Z",
          "shell.execute_reply": "2022-07-26T07:36:58.557238Z",
          "shell.execute_reply.started": "2022-07-26T07:36:58.546026Z"
        },
        "id": "XhOLIxGHH6KT",
        "tags": []
      },
      "outputs": [],
      "source": [
        "# function to compute the Euclidean Distance between two samples in the dataset\n",
        "def euclideanDist(x1, x2):\n",
        "    \"\"\"\n",
        "  x1: numpy array, shape = [D]\n",
        "  x2: numpy array, shape = [D]\n",
        "  RETURN\n",
        "    dist: float value\n",
        "  \"\"\"\n",
        "    dist = 0\n",
        "    ## start your code here\n",
        "    dist = sum((x1 - x2) ** 2) ** 0.5\n",
        "        \n",
        "    ## end\n",
        "    return dist"
      ]
    },
    {
      "cell_type": "markdown",
      "metadata": {
        "id": "askXs6-iN0NY"
      },
      "source": [
        "When you run this code, you should get the expected output as shown below:"
      ]
    },
    {
      "cell_type": "code",
      "execution_count": 6,
      "metadata": {
        "colab": {
          "base_uri": "https://localhost:8080/"
        },
        "execution": {
          "iopub.execute_input": "2022-07-26T07:36:58.558877Z",
          "iopub.status.busy": "2022-07-26T07:36:58.558713Z",
          "iopub.status.idle": "2022-07-26T07:36:58.572897Z",
          "shell.execute_reply": "2022-07-26T07:36:58.571926Z",
          "shell.execute_reply.started": "2022-07-26T07:36:58.558857Z"
        },
        "id": "wJhUMOSTOW6n",
        "outputId": "fd4b850f-0399-41a9-f2d0-d73b8409e626",
        "tags": []
      },
      "outputs": [
        {
          "output_type": "stream",
          "name": "stdout",
          "text": [
            "0.0\n",
            "3.872983346207417\n",
            "3.0\n",
            "4.242640687119285\n",
            "3.1622776601683795\n",
            "2.23606797749979\n",
            "3.3166247903554\n",
            "4.47213595499958\n",
            "3.4641016151377544\n",
            "3.0\n"
          ]
        }
      ],
      "source": [
        "# driver code to test the euclideanDist() function\n",
        "indx = [1, 10, 20, 60, 80, 90, 110, 140, 160, 169]\n",
        "for i in indx:\n",
        "    print(euclideanDist(Xstd[1, :], Xstd[i, :]))"
      ]
    },
    {
      "cell_type": "markdown",
      "metadata": {
        "id": "nG9QH9tBVoOb"
      },
      "source": [
        "Expected output:\n",
        "```\n",
        "0.0\n",
        "3.872983346207417\n",
        "3.0\n",
        "4.242640687119285\n",
        "3.1622776601683795\n",
        "2.23606797749979\n",
        "3.3166247903554\n",
        "4.47213595499958\n",
        "3.4641016151377544\n",
        "3.0\n",
        "```"
      ]
    },
    {
      "cell_type": "markdown",
      "metadata": {
        "id": "eR0D8v-2G0e7"
      },
      "source": [
        "##**Q4. `kNearestNeighbors()`**\n",
        "This function computes the input test data `Xtest`'s most similar `K` data samples from the training dataset. The function takes the training data `X` and `y`, the testing data `Xtest`, and `K` as input. It returns `Xng` and `yng` which contains the nearest samples of `Xtest` and the corresponding label values. (3 marks)\n",
        "\n",
        "*Hint: use np.argsort to find the indices of `Xtest`'s most similar data samples.*\n",
        "\n"
      ]
    },
    {
      "cell_type": "code",
      "execution_count": 7,
      "metadata": {
        "execution": {
          "iopub.execute_input": "2022-07-26T07:36:58.574152Z",
          "iopub.status.busy": "2022-07-26T07:36:58.573861Z",
          "iopub.status.idle": "2022-07-26T07:36:58.589306Z",
          "shell.execute_reply": "2022-07-26T07:36:58.588530Z",
          "shell.execute_reply.started": "2022-07-26T07:36:58.574128Z"
        },
        "id": "ptsENRpDY1Yg",
        "tags": []
      },
      "outputs": [],
      "source": [
        "# function to get the most similar K neighbors and its classes\n",
        "def kNearestNeighbors(X, y, Xtest, K):\n",
        "    \"\"\"\n",
        "  X: numpy array, shape = [N, D]\n",
        "  y: numpy array, shape = [N]\n",
        "  Xtest: numpy array, shape = [D]\n",
        "  K: float value\n",
        "  RETURN\n",
        "    Xng: numpy array, shape = [K, D]\n",
        "    yng: numpy array, shape = [K]\n",
        "  \"\"\"\n",
        "    Xng, yng = None, None\n",
        "    ## start your code here\n",
        "      ### calculate the distance between Xtest and every sample in X\n",
        "    dist = [euclideanDist(Xtest, X[i,:]) for i in range(len(X))]\n",
        "      ### get the first K similar X data and the corresponding class value y\n",
        "    Xng = X[np.argsort(dist)][:K]\n",
        "    yng = y[np.argsort(dist)][:K]\n",
        "    ## end\n",
        "    return Xng, yng"
      ]
    },
    {
      "cell_type": "markdown",
      "metadata": {
        "id": "WaG9SgXAIHTz"
      },
      "source": [
        "When you run this code, you should get the expected output as shown below:"
      ]
    },
    {
      "cell_type": "code",
      "execution_count": 8,
      "metadata": {
        "colab": {
          "base_uri": "https://localhost:8080/"
        },
        "execution": {
          "iopub.execute_input": "2022-07-26T07:36:58.590559Z",
          "iopub.status.busy": "2022-07-26T07:36:58.590202Z",
          "iopub.status.idle": "2022-07-26T07:36:58.607354Z",
          "shell.execute_reply": "2022-07-26T07:36:58.606722Z",
          "shell.execute_reply.started": "2022-07-26T07:36:58.590536Z"
        },
        "id": "_-QYQHoiIQik",
        "outputId": "a7a31bb0-7f1d-408f-9d23-c3e3d06b882f",
        "tags": []
      },
      "outputs": [
        {
          "output_type": "stream",
          "name": "stdout",
          "text": [
            "[[ 0  1  1  0 -1  0  0  1  1  3  2  0  1]\n",
            " [ 0  1  1  0  0  0  0  0  1  3  2  1  1]\n",
            " [ 0  1  1  0  0  0  1  0  1  2  2  0  0]\n",
            " [ 0  0  0  0  0  0  0  0  0  3  2  0  0]\n",
            " [ 0  0  0  0  0  0  0  1  1  2  1  1  0]]\n",
            "[ 5 11 13 13 12]\n"
          ]
        }
      ],
      "source": [
        "# driver code to test the getNeighbors() function\n",
        "K = 5\n",
        "test = 100\n",
        "Xtest = Xstd[test]\n",
        "ytest = y[test]\n",
        "\n",
        "Xng, yng = kNearestNeighbors(Xstd, y, Xtest, K)\n",
        "\n",
        "# print the K neighbors X and y values\n",
        "print(Xng)\n",
        "print(yng)"
      ]
    },
    {
      "cell_type": "markdown",
      "metadata": {
        "id": "88UhqfFGISOv"
      },
      "source": [
        "Expected output:\n",
        "\n",
        "```\n",
        "[[ 0  1  1  0 -1  0  0  1  1  3  2  0  1]\n",
        " [ 0  1  1  0  0  0  0  0  1  3  2  1  1]\n",
        " [ 0  1  1  0  0  0  1  0  1  2  2  0  0]\n",
        " [ 0  0  0  0  0  0  0  0  0  3  2  0  0]\n",
        " [ 0  0  0  0  0  0  0  1  1  2  1  1  0]]\n",
        "[ 5 11 13 13 12]\n",
        "```"
      ]
    },
    {
      "cell_type": "markdown",
      "metadata": {
        "id": "vhclqN2CJ4Bt"
      },
      "source": [
        "##**Q5. `KNNClassifier()`**\n",
        "\n",
        "In this question, you will use all the functions above to implement the KNN algorithm. This function takes in the training data `X` and `y`, testing data `Xtest`, and the number of the most neighnors `K`. It first computes the `K` most similar neighbors, and then returns the most frequent the class values of the `K` neighbors as prediction. (5 marks)\n"
      ]
    },
    {
      "cell_type": "code",
      "execution_count": 9,
      "metadata": {
        "execution": {
          "iopub.execute_input": "2022-07-26T07:42:48.372691Z",
          "iopub.status.busy": "2022-07-26T07:42:48.372406Z",
          "iopub.status.idle": "2022-07-26T07:42:48.389489Z",
          "shell.execute_reply": "2022-07-26T07:42:48.388546Z",
          "shell.execute_reply.started": "2022-07-26T07:42:48.372666Z"
        },
        "id": "U0p96_bl2kKo",
        "tags": []
      },
      "outputs": [],
      "source": [
        "# function to implement KNN classifier a given test case, i.e., you will predict\n",
        "# the grade of a student, given its 13 attributes.\n",
        "\n",
        "\n",
        "def KNNClassifier(X, y, Xtest, K):\n",
        "    \"\"\"\n",
        "  X: shape = [N, D]\n",
        "  y: shape = [N]\n",
        "  Xtest: shape\n",
        "  K: float value\n",
        "  RETURN\n",
        "    output_class: float value from {1, 2, 3}\n",
        "  \"\"\"\n",
        "    output_class = None\n",
        "    ## start your code here\n",
        "    Xng, yng = kNearestNeighbors(X, y, Xtest, K)\n",
        "    value, counts = np.unique(yng, return_counts=True)\n",
        "    freq = dict(zip(value, counts))\n",
        "    output_class, max_count = yng[0], freq[yng[0]]\n",
        "    for i in range(2,K):\n",
        "      if freq[yng[i]] > max_count:\n",
        "        output_class = yng[i]\n",
        "    ## end\n",
        "    return output_class"
      ]
    },
    {
      "cell_type": "markdown",
      "metadata": {
        "id": "T-cHwVqaS4_h"
      },
      "source": [
        "When you run this code, you should get the output as shown below:"
      ]
    },
    {
      "cell_type": "code",
      "execution_count": 10,
      "metadata": {
        "colab": {
          "base_uri": "https://localhost:8080/"
        },
        "execution": {
          "iopub.execute_input": "2022-07-26T07:43:05.373435Z",
          "iopub.status.busy": "2022-07-26T07:43:05.373145Z",
          "iopub.status.idle": "2022-07-26T07:43:05.447363Z",
          "shell.execute_reply": "2022-07-26T07:43:05.446831Z",
          "shell.execute_reply.started": "2022-07-26T07:43:05.373400Z"
        },
        "id": "tzeZ25GuvDn2",
        "outputId": "d5b91d1d-4540-40a2-a9bf-807b1fb10f74",
        "tags": []
      },
      "outputs": [
        {
          "output_type": "stream",
          "name": "stdout",
          "text": [
            "Predicted class for test data by KNN:  [10.  6.  0.  8.  0.  9. 16.  7. 10.  9.]\n",
            "Actual class for test data from dataset:  [10  6  0  8  0  9 16  7 10  9]\n"
          ]
        }
      ],
      "source": [
        "# load the original training data\n",
        "\n",
        "X, y = load_student_data(filename)\n",
        "\n",
        "# standardize the data\n",
        "Xstd = standardizeDataset(X)\n",
        "\n",
        "# We shall consider the last 10 data points from the dataset as our test data\n",
        "\n",
        "# split the X and y from the test data\n",
        "Xtest = Xstd[-10:, :]\n",
        "ytest = y[-10:]\n",
        "\n",
        "# compute final grade for the students in the test data using KNN\n",
        "K = 3\n",
        "predictions = np.empty(len(ytest))\n",
        "\n",
        "for i in range(Xtest.shape[0]):\n",
        "    output = KNNClassifier(Xstd, y, Xtest[i], K)\n",
        "    predictions[i] = output\n",
        "\n",
        "print(\"Predicted class for test data by KNN: \", predictions)\n",
        "print(\"Actual class for test data from dataset: \", ytest)"
      ]
    },
    {
      "cell_type": "markdown",
      "metadata": {
        "id": "IW_1pWpuTCfF"
      },
      "source": [
        "Expected output:\n",
        "```\n",
        "Predicted class for test data by KNN:  [10.  6.  0.  8.  0.  9. 16.  7. 10.  9.]\n",
        "Actual class for test data from dataset:  [10  6  0  8  0  9 16  7 10  9]\n",
        "```"
      ]
    },
    {
      "cell_type": "markdown",
      "metadata": {
        "id": "xw-gVI4RV_UU"
      },
      "source": [
        "##**Q6. `accuracy_percentage()`**\n",
        "This function will compute the accuracy of your KNN algorithm. This will take the predicted class values (i.e., by your KNN algorithm in Q5) and the actual class values (i.e., from the test dataset in Q5) of the test data. This function should return the percentage of correctly predicted classes for the test data used in Q5. (3 marks)"
      ]
    },
    {
      "cell_type": "code",
      "execution_count": 11,
      "metadata": {
        "execution": {
          "iopub.execute_input": "2022-07-26T07:36:58.696337Z",
          "iopub.status.busy": "2022-07-26T07:36:58.695586Z",
          "iopub.status.idle": "2022-07-26T07:36:58.714561Z",
          "shell.execute_reply": "2022-07-26T07:36:58.713403Z",
          "shell.execute_reply.started": "2022-07-26T07:36:58.696298Z"
        },
        "id": "fMxdK_N0VRsd",
        "tags": []
      },
      "outputs": [],
      "source": [
        "# function to calculate the accuaracy of prediction in percentage\n",
        "def accuracy_percentage(actual_class, predicted_class):\n",
        "    \"\"\"\n",
        "  actual_class: numpy array, shape = [N]\n",
        "  prediceted_class: numpy array, shape = [N]\n",
        "  RETURN\n",
        "    percent: float value\n",
        "  \"\"\"\n",
        "    percent = 0\n",
        "    ## start your code here\n",
        "    correct = 0\n",
        "    for i in range(len(actual_class)):\n",
        "      if actual_class[i] == predicted_class[i]:\n",
        "        correct += 1\n",
        "    percent = correct*100/len(actual_class)\n",
        "    ## end\n",
        "    return percent"
      ]
    },
    {
      "cell_type": "markdown",
      "metadata": {
        "id": "ti4_x0JJWSsc"
      },
      "source": [
        "When you run this code, you should get the output as shown below:"
      ]
    },
    {
      "cell_type": "code",
      "execution_count": 12,
      "metadata": {
        "colab": {
          "base_uri": "https://localhost:8080/"
        },
        "execution": {
          "iopub.execute_input": "2022-07-26T07:36:58.719139Z",
          "iopub.status.busy": "2022-07-26T07:36:58.718703Z",
          "iopub.status.idle": "2022-07-26T07:36:58.728175Z",
          "shell.execute_reply": "2022-07-26T07:36:58.727599Z",
          "shell.execute_reply.started": "2022-07-26T07:36:58.719114Z"
        },
        "id": "9eseATZMWXVv",
        "outputId": "3ba9d0e3-609a-4a69-f7c4-57784fdeea5f",
        "tags": []
      },
      "outputs": [
        {
          "output_type": "stream",
          "name": "stdout",
          "text": [
            "Accuracy 100.0%\n"
          ]
        }
      ],
      "source": [
        "print(\"Accuracy {}%\".format(accuracy_percentage(predictions, ytest)))"
      ]
    },
    {
      "cell_type": "markdown",
      "metadata": {
        "id": "HZUT9m_jW5eB"
      },
      "source": [
        "Expected output:\n",
        "```\n",
        "Accuracy 100.0%\n",
        "```"
      ]
    },
    {
      "cell_type": "markdown",
      "metadata": {
        "id": "9ypS5o0F5Fd_"
      },
      "source": [
        "## **Q7. KNN with and without standardizing dataset?**\n",
        "\n",
        "In this section, you will understand the purpose of standardization of numerical data in machine learning algorithms. You will run KNN for the given test data  with and without standarzation, and show their performances. This section is not graded."
      ]
    },
    {
      "cell_type": "code",
      "execution_count": 13,
      "metadata": {
        "colab": {
          "base_uri": "https://localhost:8080/"
        },
        "execution": {
          "iopub.execute_input": "2022-07-26T07:36:58.729817Z",
          "iopub.status.busy": "2022-07-26T07:36:58.729370Z",
          "iopub.status.idle": "2022-07-26T07:36:58.853719Z",
          "shell.execute_reply": "2022-07-26T07:36:58.852994Z",
          "shell.execute_reply.started": "2022-07-26T07:36:58.729740Z"
        },
        "id": "7kkR3TtQ5xIO",
        "outputId": "ea4c4923-2a38-4755-cf52-26845083f058",
        "tags": []
      },
      "outputs": [
        {
          "output_type": "stream",
          "name": "stdout",
          "text": [
            "Predicted class with standardization:  [15.  0. 18. 11. 15.  9. 12.  0.  6. 12.  8.  0. 15.]\n",
            "Predicted class without standardization:  [15.  0. 18. 11. 15.  9. 12.  0. 10. 12.  8.  0. 15.]\n",
            "Actual class for test data:  [15  0 18 11 15  9 12  0  6 12  8  0 15]\n",
            "Accuracy of KNN with standardization:  100.0\n",
            "Accuracy of KNN without standardization:  92.3076923076923\n"
          ]
        }
      ],
      "source": [
        "# load the original training data\n",
        "X, y = load_student_data(filename)\n",
        "\n",
        "# standardize the data\n",
        "Xstd = standardizeDataset(X)\n",
        "\n",
        "# randomly choosen data from X and Xstd dataset\n",
        "# X - dataset that is not standardized\n",
        "# Xstd - standardized dataset\n",
        "# In both cases, the class value y is unchanged\n",
        "random_indx = np.asarray([9, 153, 91, 29, 20, 10, 138, 130, 1, 11, 25, 137, 120])\n",
        "testX = X[random_indx]\n",
        "testXstd = Xstd[random_indx]\n",
        "testy = y[random_indx]\n",
        "\n",
        "\n",
        "# compute final grade for the students in the test data using KNN\n",
        "K = 3\n",
        "predictedNoStd = np.empty(len(testy))\n",
        "predictedStd = np.empty(len(testy))\n",
        "\n",
        "# predict the classes for test data with standardization of input and test data\n",
        "# predictedNoStd - has the classes predicted for test data without standardization\n",
        "# predictedStd - has the classes predicted for test data with standardization\n",
        "\n",
        "# call KNN without standardized dataset and test data testX. Record the predicated\n",
        "# class in predictedNoStd numpy array\n",
        "\n",
        "# you need to write your code here\n",
        "count = 0\n",
        "for test in testX:\n",
        "    predictedNoStd[count] = KNNClassifier(X, y, test, K)\n",
        "    count += 1\n",
        "\n",
        "# call KNN with standardized dataset and test data testXStd. Record the predicated\n",
        "# class in predictedStd numpy array\n",
        "\n",
        "# you need to write your code here\n",
        "count = 0\n",
        "for test in testXstd:\n",
        "    predictedStd[count] = KNNClassifier(Xstd, y, test, K)\n",
        "    count += 1\n",
        "\n",
        "# print the classes predicted classes and the actual classes for the test data\n",
        "print(\"Predicted class with standardization: \", predictedStd)\n",
        "print(\"Predicted class without standardization: \", predictedNoStd)\n",
        "print(\"Actual class for test data: \", testy)\n",
        "\n",
        "# print the accuracy of KNN with and without standardizing dataset\n",
        "# you need to write your code here\n",
        "print(\n",
        "    \"Accuracy of KNN with standardization: \", accuracy_percentage(testy, predictedStd)\n",
        ")\n",
        "print(\n",
        "    \"Accuracy of KNN without standardization: \",\n",
        "    accuracy_percentage(testy, predictedNoStd),\n",
        ")"
      ]
    },
    {
      "cell_type": "markdown",
      "metadata": {
        "id": "1CiMEkCOIDE-"
      },
      "source": [
        "Expected Output:\n",
        "\n",
        "```\n",
        "Predicted class with standardization:  [15.  0. 18. 11. 15.  9. 12.  0.  6. 12.  8.  0. 15.]\n",
        "Predicted class without standardization:  [15.  0. 18. 11. 15.  9. 12.  0. 10. 12.  8.  0. 15.]\n",
        "Actual class for test data:  [15  0 18 11 15  9 12  0  6 12  8  0 15]\n",
        "Accuracy of KNN with standardization:  100.0\n",
        "Accuracy of KNN without standardization:  92.3076923076923\n",
        "```"
      ]
    },
    {
      "cell_type": "markdown",
      "metadata": {
        "id": "CebHevdOGnr7"
      },
      "source": [
        "\n",
        "\n",
        "---\n",
        "\n",
        "\n",
        "# End of your assignment"
      ]
    }
  ],
  "metadata": {
    "colab": {
      "collapsed_sections": [
        "zd9niaSd9xPA",
        "CebHevdOGnr7"
      ],
      "provenance": []
    },
    "kernelspec": {
      "display_name": "Python 3 (ipykernel)",
      "language": "python",
      "name": "python3"
    },
    "language_info": {
      "codemirror_mode": {
        "name": "ipython",
        "version": 3
      },
      "file_extension": ".py",
      "mimetype": "text/x-python",
      "name": "python",
      "nbconvert_exporter": "python",
      "pygments_lexer": "ipython3",
      "version": "3.9.5"
    }
  },
  "nbformat": 4,
  "nbformat_minor": 0
}