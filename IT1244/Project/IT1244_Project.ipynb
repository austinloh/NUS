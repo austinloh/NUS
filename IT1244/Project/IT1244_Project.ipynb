{
  "cells": [
    {
      "cell_type": "code",
      "execution_count": 2,
      "metadata": {
        "id": "w2VXJOfuRY62"
      },
      "outputs": [],
      "source": [
        "import pandas as pd\n",
        "import numpy as np\n",
        "import matplotlib.pyplot as plt"
      ]
    },
    {
      "cell_type": "code",
      "execution_count": 3,
      "metadata": {
        "id": "jG9NadoCRY63"
      },
      "outputs": [],
      "source": [
        "clients = pd.read_csv(\"client.csv\", index_col=0)\n",
        "invoices = pd.read_csv(\"invoice.csv\", index_col=0)"
      ]
    },
    {
      "cell_type": "markdown",
      "metadata": {},
      "source": [
        "## Data Exploration"
      ]
    },
    {
      "cell_type": "code",
      "execution_count": 3,
      "metadata": {
        "colab": {
          "base_uri": "https://localhost:8080/",
          "height": 221
        },
        "id": "ol_SOaAWRY64",
        "outputId": "3f117ba5-e36f-4b0c-8809-4469b77f4423"
      },
      "outputs": [
        {
          "data": {
            "text/html": [
              "\n",
              "  <div id=\"df-7a078d5f-808b-495f-b181-1c3eac86686b\">\n",
              "    <div class=\"colab-df-container\">\n",
              "      <div>\n",
              "<style scoped>\n",
              "    .dataframe tbody tr th:only-of-type {\n",
              "        vertical-align: middle;\n",
              "    }\n",
              "\n",
              "    .dataframe tbody tr th {\n",
              "        vertical-align: top;\n",
              "    }\n",
              "\n",
              "    .dataframe thead th {\n",
              "        text-align: right;\n",
              "    }\n",
              "</style>\n",
              "<table border=\"1\" class=\"dataframe\">\n",
              "  <thead>\n",
              "    <tr style=\"text-align: right;\">\n",
              "      <th></th>\n",
              "      <th>region</th>\n",
              "      <th>date</th>\n",
              "      <th>dis</th>\n",
              "      <th>id</th>\n",
              "      <th>catg</th>\n",
              "      <th>target</th>\n",
              "    </tr>\n",
              "  </thead>\n",
              "  <tbody>\n",
              "    <tr>\n",
              "      <th>0</th>\n",
              "      <td>101</td>\n",
              "      <td>31/12/94</td>\n",
              "      <td>60</td>\n",
              "      <td>train_Client_0</td>\n",
              "      <td>11</td>\n",
              "      <td>0</td>\n",
              "    </tr>\n",
              "    <tr>\n",
              "      <th>1</th>\n",
              "      <td>107</td>\n",
              "      <td>29/05/02</td>\n",
              "      <td>69</td>\n",
              "      <td>train_Client_1</td>\n",
              "      <td>11</td>\n",
              "      <td>0</td>\n",
              "    </tr>\n",
              "    <tr>\n",
              "      <th>2</th>\n",
              "      <td>301</td>\n",
              "      <td>13/03/86</td>\n",
              "      <td>62</td>\n",
              "      <td>train_Client_10</td>\n",
              "      <td>11</td>\n",
              "      <td>0</td>\n",
              "    </tr>\n",
              "    <tr>\n",
              "      <th>3</th>\n",
              "      <td>105</td>\n",
              "      <td>11/07/96</td>\n",
              "      <td>69</td>\n",
              "      <td>train_Client_100</td>\n",
              "      <td>11</td>\n",
              "      <td>0</td>\n",
              "    </tr>\n",
              "    <tr>\n",
              "      <th>4</th>\n",
              "      <td>303</td>\n",
              "      <td>14/10/14</td>\n",
              "      <td>62</td>\n",
              "      <td>train_Client_1000</td>\n",
              "      <td>11</td>\n",
              "      <td>0</td>\n",
              "    </tr>\n",
              "  </tbody>\n",
              "</table>\n",
              "</div>\n",
              "      <button class=\"colab-df-convert\" onclick=\"convertToInteractive('df-7a078d5f-808b-495f-b181-1c3eac86686b')\"\n",
              "              title=\"Convert this dataframe to an interactive table.\"\n",
              "              style=\"display:none;\">\n",
              "        \n",
              "  <svg xmlns=\"http://www.w3.org/2000/svg\" height=\"24px\"viewBox=\"0 0 24 24\"\n",
              "       width=\"24px\">\n",
              "    <path d=\"M0 0h24v24H0V0z\" fill=\"none\"/>\n",
              "    <path d=\"M18.56 5.44l.94 2.06.94-2.06 2.06-.94-2.06-.94-.94-2.06-.94 2.06-2.06.94zm-11 1L8.5 8.5l.94-2.06 2.06-.94-2.06-.94L8.5 2.5l-.94 2.06-2.06.94zm10 10l.94 2.06.94-2.06 2.06-.94-2.06-.94-.94-2.06-.94 2.06-2.06.94z\"/><path d=\"M17.41 7.96l-1.37-1.37c-.4-.4-.92-.59-1.43-.59-.52 0-1.04.2-1.43.59L10.3 9.45l-7.72 7.72c-.78.78-.78 2.05 0 2.83L4 21.41c.39.39.9.59 1.41.59.51 0 1.02-.2 1.41-.59l7.78-7.78 2.81-2.81c.8-.78.8-2.07 0-2.86zM5.41 20L4 18.59l7.72-7.72 1.47 1.35L5.41 20z\"/>\n",
              "  </svg>\n",
              "      </button>\n",
              "      \n",
              "  <style>\n",
              "    .colab-df-container {\n",
              "      display:flex;\n",
              "      flex-wrap:wrap;\n",
              "      gap: 12px;\n",
              "    }\n",
              "\n",
              "    .colab-df-convert {\n",
              "      background-color: #E8F0FE;\n",
              "      border: none;\n",
              "      border-radius: 50%;\n",
              "      cursor: pointer;\n",
              "      display: none;\n",
              "      fill: #1967D2;\n",
              "      height: 32px;\n",
              "      padding: 0 0 0 0;\n",
              "      width: 32px;\n",
              "    }\n",
              "\n",
              "    .colab-df-convert:hover {\n",
              "      background-color: #E2EBFA;\n",
              "      box-shadow: 0px 1px 2px rgba(60, 64, 67, 0.3), 0px 1px 3px 1px rgba(60, 64, 67, 0.15);\n",
              "      fill: #174EA6;\n",
              "    }\n",
              "\n",
              "    [theme=dark] .colab-df-convert {\n",
              "      background-color: #3B4455;\n",
              "      fill: #D2E3FC;\n",
              "    }\n",
              "\n",
              "    [theme=dark] .colab-df-convert:hover {\n",
              "      background-color: #434B5C;\n",
              "      box-shadow: 0px 1px 3px 1px rgba(0, 0, 0, 0.15);\n",
              "      filter: drop-shadow(0px 1px 2px rgba(0, 0, 0, 0.3));\n",
              "      fill: #FFFFFF;\n",
              "    }\n",
              "  </style>\n",
              "\n",
              "      <script>\n",
              "        const buttonEl =\n",
              "          document.querySelector('#df-7a078d5f-808b-495f-b181-1c3eac86686b button.colab-df-convert');\n",
              "        buttonEl.style.display =\n",
              "          google.colab.kernel.accessAllowed ? 'block' : 'none';\n",
              "\n",
              "        async function convertToInteractive(key) {\n",
              "          const element = document.querySelector('#df-7a078d5f-808b-495f-b181-1c3eac86686b');\n",
              "          const dataTable =\n",
              "            await google.colab.kernel.invokeFunction('convertToInteractive',\n",
              "                                                     [key], {});\n",
              "          if (!dataTable) return;\n",
              "\n",
              "          const docLinkHtml = 'Like what you see? Visit the ' +\n",
              "            '<a target=\"_blank\" href=https://colab.research.google.com/notebooks/data_table.ipynb>data table notebook</a>'\n",
              "            + ' to learn more about interactive tables.';\n",
              "          element.innerHTML = '';\n",
              "          dataTable['output_type'] = 'display_data';\n",
              "          await google.colab.output.renderOutput(dataTable, element);\n",
              "          const docLink = document.createElement('div');\n",
              "          docLink.innerHTML = docLinkHtml;\n",
              "          element.appendChild(docLink);\n",
              "        }\n",
              "      </script>\n",
              "    </div>\n",
              "  </div>\n",
              "  "
            ],
            "text/plain": [
              "   region      date  dis                 id  catg  target\n",
              "0     101  31/12/94   60     train_Client_0    11       0\n",
              "1     107  29/05/02   69     train_Client_1    11       0\n",
              "2     301  13/03/86   62    train_Client_10    11       0\n",
              "3     105  11/07/96   69   train_Client_100    11       0\n",
              "4     303  14/10/14   62  train_Client_1000    11       0"
            ]
          },
          "execution_count": 3,
          "metadata": {},
          "output_type": "execute_result"
        }
      ],
      "source": [
        "clients.head()"
      ]
    },
    {
      "cell_type": "code",
      "execution_count": 4,
      "metadata": {
        "colab": {
          "base_uri": "https://localhost:8080/"
        },
        "id": "UulHEzSsRY65",
        "outputId": "7a1b5a72-8ab6-4ba3-d209-f811023cc321"
      },
      "outputs": [
        {
          "data": {
            "text/plain": [
              "0    127927\n",
              "1      7566\n",
              "Name: target, dtype: int64"
            ]
          },
          "execution_count": 4,
          "metadata": {},
          "output_type": "execute_result"
        }
      ],
      "source": [
        "clients['target'].value_counts()"
      ]
    },
    {
      "cell_type": "code",
      "execution_count": null,
      "metadata": {
        "id": "HIfm-HiC8YvW",
        "outputId": "fbc40d0c-997e-4393-8319-32252268ae17"
      },
      "outputs": [
        {
          "data": {
            "text/plain": [
              "<BarContainer object of 2 artists>"
            ]
          },
          "execution_count": 7,
          "metadata": {},
          "output_type": "execute_result"
        },
        {
          "data": {
            "image/png": "[encoded data removed]",
            "text/plain": [
              "<Figure size 432x288 with 1 Axes>"
            ]
          },
          "metadata": {
            "needs_background": "light"
          },
          "output_type": "display_data"
        }
      ],
      "source": [
        "#Checking distribution counts of fraud and non-fraud\n",
        "plt.bar([0,1], clients['target'].value_counts(), tick_label=[0,1])"
      ]
    },
    {
      "cell_type": "code",
      "execution_count": null,
      "metadata": {
        "id": "b-bp0jG88YvX",
        "outputId": "d18bcd44-73d1-4256-e505-e3ff70c834f1"
      },
      "outputs": [
        {
          "data": {
            "text/plain": [
              "11    131494\n",
              "12      2321\n",
              "51      1678\n",
              "Name: catg, dtype: int64"
            ]
          },
          "execution_count": 5,
          "metadata": {},
          "output_type": "execute_result"
        }
      ],
      "source": [
        "clients['catg'].value_counts()"
      ]
    },
    {
      "cell_type": "code",
      "execution_count": null,
      "metadata": {
        "colab": {
          "base_uri": "https://localhost:8080/",
          "height": 266
        },
        "id": "a5NIIu3uRY65",
        "outputId": "3633c86e-9cf4-4e32-991f-9d242d7e81cc"
      },
      "outputs": [
        {
          "data": {
            "text/html": [
              "<div>\n",
              "<style scoped>\n",
              "    .dataframe tbody tr th:only-of-type {\n",
              "        vertical-align: middle;\n",
              "    }\n",
              "\n",
              "    .dataframe tbody tr th {\n",
              "        vertical-align: top;\n",
              "    }\n",
              "\n",
              "    .dataframe thead th {\n",
              "        text-align: right;\n",
              "    }\n",
              "</style>\n",
              "<table border=\"1\" class=\"dataframe\">\n",
              "  <thead>\n",
              "    <tr style=\"text-align: right;\">\n",
              "      <th></th>\n",
              "      <th>id</th>\n",
              "      <th>date</th>\n",
              "      <th>tarif_type</th>\n",
              "      <th>counter_number</th>\n",
              "      <th>counter_statue</th>\n",
              "      <th>counter_code</th>\n",
              "      <th>reading_remarque</th>\n",
              "      <th>consommation_level_4</th>\n",
              "      <th>old_index</th>\n",
              "      <th>new_index</th>\n",
              "      <th>months_number</th>\n",
              "      <th>counter_type</th>\n",
              "      <th>counter_coefficient</th>\n",
              "      <th>consommation_level_1</th>\n",
              "      <th>consommation_level_2</th>\n",
              "      <th>consommation_level_3</th>\n",
              "    </tr>\n",
              "  </thead>\n",
              "  <tbody>\n",
              "    <tr>\n",
              "      <th>0</th>\n",
              "      <td>train_Client_0</td>\n",
              "      <td>24/03/14</td>\n",
              "      <td>11</td>\n",
              "      <td>1335667.0</td>\n",
              "      <td>0</td>\n",
              "      <td>203</td>\n",
              "      <td>8</td>\n",
              "      <td>0</td>\n",
              "      <td>14302</td>\n",
              "      <td>14384</td>\n",
              "      <td>4</td>\n",
              "      <td>ELEC</td>\n",
              "      <td>1</td>\n",
              "      <td>82</td>\n",
              "      <td>0</td>\n",
              "      <td>0</td>\n",
              "    </tr>\n",
              "    <tr>\n",
              "      <th>1</th>\n",
              "      <td>train_Client_0</td>\n",
              "      <td>29/03/13</td>\n",
              "      <td>11</td>\n",
              "      <td>1335667.0</td>\n",
              "      <td>0</td>\n",
              "      <td>203</td>\n",
              "      <td>6</td>\n",
              "      <td>0</td>\n",
              "      <td>12294</td>\n",
              "      <td>13678</td>\n",
              "      <td>4</td>\n",
              "      <td>ELEC</td>\n",
              "      <td>1</td>\n",
              "      <td>1200</td>\n",
              "      <td>184</td>\n",
              "      <td>0</td>\n",
              "    </tr>\n",
              "    <tr>\n",
              "      <th>2</th>\n",
              "      <td>train_Client_0</td>\n",
              "      <td>23/03/15</td>\n",
              "      <td>11</td>\n",
              "      <td>1335667.0</td>\n",
              "      <td>0</td>\n",
              "      <td>203</td>\n",
              "      <td>8</td>\n",
              "      <td>0</td>\n",
              "      <td>14624</td>\n",
              "      <td>14747</td>\n",
              "      <td>4</td>\n",
              "      <td>ELEC</td>\n",
              "      <td>1</td>\n",
              "      <td>123</td>\n",
              "      <td>0</td>\n",
              "      <td>0</td>\n",
              "    </tr>\n",
              "    <tr>\n",
              "      <th>3</th>\n",
              "      <td>train_Client_0</td>\n",
              "      <td>13/07/15</td>\n",
              "      <td>11</td>\n",
              "      <td>1335667.0</td>\n",
              "      <td>0</td>\n",
              "      <td>207</td>\n",
              "      <td>8</td>\n",
              "      <td>0</td>\n",
              "      <td>14747</td>\n",
              "      <td>14849</td>\n",
              "      <td>4</td>\n",
              "      <td>ELEC</td>\n",
              "      <td>1</td>\n",
              "      <td>102</td>\n",
              "      <td>0</td>\n",
              "      <td>0</td>\n",
              "    </tr>\n",
              "    <tr>\n",
              "      <th>4</th>\n",
              "      <td>train_Client_0</td>\n",
              "      <td>17/11/16</td>\n",
              "      <td>11</td>\n",
              "      <td>1335667.0</td>\n",
              "      <td>0</td>\n",
              "      <td>207</td>\n",
              "      <td>9</td>\n",
              "      <td>0</td>\n",
              "      <td>15066</td>\n",
              "      <td>15638</td>\n",
              "      <td>12</td>\n",
              "      <td>ELEC</td>\n",
              "      <td>1</td>\n",
              "      <td>572</td>\n",
              "      <td>0</td>\n",
              "      <td>0</td>\n",
              "    </tr>\n",
              "  </tbody>\n",
              "</table>\n",
              "</div>"
            ],
            "text/plain": [
              "               id      date  tarif_type  counter_number  counter_statue  \\\n",
              "0  train_Client_0  24/03/14          11       1335667.0               0   \n",
              "1  train_Client_0  29/03/13          11       1335667.0               0   \n",
              "2  train_Client_0  23/03/15          11       1335667.0               0   \n",
              "3  train_Client_0  13/07/15          11       1335667.0               0   \n",
              "4  train_Client_0  17/11/16          11       1335667.0               0   \n",
              "\n",
              "   counter_code  reading_remarque  consommation_level_4  old_index  new_index  \\\n",
              "0           203                 8                     0      14302      14384   \n",
              "1           203                 6                     0      12294      13678   \n",
              "2           203                 8                     0      14624      14747   \n",
              "3           207                 8                     0      14747      14849   \n",
              "4           207                 9                     0      15066      15638   \n",
              "\n",
              "   months_number counter_type  counter_coefficient  consommation_level_1  \\\n",
              "0              4         ELEC                    1                    82   \n",
              "1              4         ELEC                    1                  1200   \n",
              "2              4         ELEC                    1                   123   \n",
              "3              4         ELEC                    1                   102   \n",
              "4             12         ELEC                    1                   572   \n",
              "\n",
              "   consommation_level_2  consommation_level_3  \n",
              "0                     0                     0  \n",
              "1                   184                     0  \n",
              "2                     0                     0  \n",
              "3                     0                     0  \n",
              "4                     0                     0  "
            ]
          },
          "execution_count": 8,
          "metadata": {},
          "output_type": "execute_result"
        }
      ],
      "source": [
        "invoices.head()"
      ]
    },
    {
      "cell_type": "code",
      "execution_count": null,
      "metadata": {
        "colab": {
          "base_uri": "https://localhost:8080/"
        },
        "id": "9oClpk4G8YvY",
        "outputId": "566aec91-31a7-44a6-f2fe-6264895e9657"
      },
      "outputs": [
        {
          "data": {
            "text/plain": [
              "31603"
            ]
          },
          "execution_count": 9,
          "metadata": {},
          "output_type": "execute_result"
        }
      ],
      "source": [
        "#number of unique ids in invoice dataset\n",
        "invoices['id'].nunique()"
      ]
    },
    {
      "cell_type": "code",
      "execution_count": null,
      "metadata": {
        "id": "Eiggs-mh8YvY",
        "outputId": "a809cb4e-9783-4561-da7c-a7af1bfb014f"
      },
      "outputs": [
        {
          "data": {
            "text/plain": [
              "135493"
            ]
          },
          "execution_count": 10,
          "metadata": {},
          "output_type": "execute_result"
        }
      ],
      "source": [
        "#number of unique ids in clients dataset\n",
        "clients['id'].nunique()"
      ]
    },
    {
      "cell_type": "code",
      "execution_count": null,
      "metadata": {
        "id": "Q-vkHsIj8YvY"
      },
      "outputs": [],
      "source": [
        "#Since unique ids in invoices < unique ids in clients -> Some clients don't have invoices??"
      ]
    },
    {
      "cell_type": "code",
      "execution_count": null,
      "metadata": {
        "id": "nhMxjsff8YvZ",
        "outputId": "493cee1e-df04-4ce5-a108-23851b222b1c"
      },
      "outputs": [
        {
          "data": {
            "text/html": [
              "<div>\n",
              "<style scoped>\n",
              "    .dataframe tbody tr th:only-of-type {\n",
              "        vertical-align: middle;\n",
              "    }\n",
              "\n",
              "    .dataframe tbody tr th {\n",
              "        vertical-align: top;\n",
              "    }\n",
              "\n",
              "    .dataframe thead th {\n",
              "        text-align: right;\n",
              "    }\n",
              "</style>\n",
              "<table border=\"1\" class=\"dataframe\">\n",
              "  <thead>\n",
              "    <tr style=\"text-align: right;\">\n",
              "      <th></th>\n",
              "      <th>tarif_type</th>\n",
              "      <th>counter_number</th>\n",
              "      <th>counter_statue</th>\n",
              "      <th>counter_code</th>\n",
              "      <th>reading_remarque</th>\n",
              "      <th>consommation_level_4</th>\n",
              "      <th>old_index</th>\n",
              "      <th>new_index</th>\n",
              "      <th>months_number</th>\n",
              "      <th>counter_coefficient</th>\n",
              "      <th>consommation_level_1</th>\n",
              "      <th>consommation_level_2</th>\n",
              "      <th>consommation_level_3</th>\n",
              "    </tr>\n",
              "  </thead>\n",
              "  <tbody>\n",
              "    <tr>\n",
              "      <th>count</th>\n",
              "      <td>1.048575e+06</td>\n",
              "      <td>1.048575e+06</td>\n",
              "      <td>1.048575e+06</td>\n",
              "      <td>1.048575e+06</td>\n",
              "      <td>1.048575e+06</td>\n",
              "      <td>1.048575e+06</td>\n",
              "      <td>1.048575e+06</td>\n",
              "      <td>1.048575e+06</td>\n",
              "      <td>1.048575e+06</td>\n",
              "      <td>1.048575e+06</td>\n",
              "      <td>1.048575e+06</td>\n",
              "      <td>1.048575e+06</td>\n",
              "      <td>1.048575e+06</td>\n",
              "    </tr>\n",
              "    <tr>\n",
              "      <th>mean</th>\n",
              "      <td>2.013626e+01</td>\n",
              "      <td>1.209200e+11</td>\n",
              "      <td>4.203419e-02</td>\n",
              "      <td>1.722212e+02</td>\n",
              "      <td>7.315270e+00</td>\n",
              "      <td>5.405997e+01</td>\n",
              "      <td>1.780314e+04</td>\n",
              "      <td>1.838809e+04</td>\n",
              "      <td>4.632200e+01</td>\n",
              "      <td>1.000236e+00</td>\n",
              "      <td>4.097446e+02</td>\n",
              "      <td>1.075682e+02</td>\n",
              "      <td>2.041343e+01</td>\n",
              "    </tr>\n",
              "    <tr>\n",
              "      <th>std</th>\n",
              "      <td>1.348246e+01</td>\n",
              "      <td>1.646702e+12</td>\n",
              "      <td>3.745414e-01</td>\n",
              "      <td>1.335823e+02</td>\n",
              "      <td>1.359625e+00</td>\n",
              "      <td>9.792183e+02</td>\n",
              "      <td>4.062121e+04</td>\n",
              "      <td>4.122851e+04</td>\n",
              "      <td>2.594754e+03</td>\n",
              "      <td>8.306498e-02</td>\n",
              "      <td>5.882746e+02</td>\n",
              "      <td>1.169328e+03</td>\n",
              "      <td>1.636440e+02</td>\n",
              "    </tr>\n",
              "    <tr>\n",
              "      <th>min</th>\n",
              "      <td>8.000000e+00</td>\n",
              "      <td>0.000000e+00</td>\n",
              "      <td>0.000000e+00</td>\n",
              "      <td>5.000000e+00</td>\n",
              "      <td>6.000000e+00</td>\n",
              "      <td>0.000000e+00</td>\n",
              "      <td>0.000000e+00</td>\n",
              "      <td>0.000000e+00</td>\n",
              "      <td>1.000000e+00</td>\n",
              "      <td>0.000000e+00</td>\n",
              "      <td>0.000000e+00</td>\n",
              "      <td>0.000000e+00</td>\n",
              "      <td>0.000000e+00</td>\n",
              "    </tr>\n",
              "    <tr>\n",
              "      <th>25%</th>\n",
              "      <td>1.100000e+01</td>\n",
              "      <td>1.214730e+05</td>\n",
              "      <td>0.000000e+00</td>\n",
              "      <td>5.000000e+00</td>\n",
              "      <td>6.000000e+00</td>\n",
              "      <td>0.000000e+00</td>\n",
              "      <td>1.792000e+03</td>\n",
              "      <td>2.057000e+03</td>\n",
              "      <td>4.000000e+00</td>\n",
              "      <td>1.000000e+00</td>\n",
              "      <td>7.900000e+01</td>\n",
              "      <td>0.000000e+00</td>\n",
              "      <td>0.000000e+00</td>\n",
              "    </tr>\n",
              "    <tr>\n",
              "      <th>50%</th>\n",
              "      <td>1.100000e+01</td>\n",
              "      <td>4.904750e+05</td>\n",
              "      <td>0.000000e+00</td>\n",
              "      <td>2.030000e+02</td>\n",
              "      <td>6.000000e+00</td>\n",
              "      <td>0.000000e+00</td>\n",
              "      <td>7.718000e+03</td>\n",
              "      <td>8.218000e+03</td>\n",
              "      <td>4.000000e+00</td>\n",
              "      <td>1.000000e+00</td>\n",
              "      <td>2.720000e+02</td>\n",
              "      <td>0.000000e+00</td>\n",
              "      <td>0.000000e+00</td>\n",
              "    </tr>\n",
              "    <tr>\n",
              "      <th>75%</th>\n",
              "      <td>4.000000e+01</td>\n",
              "      <td>1.112725e+06</td>\n",
              "      <td>0.000000e+00</td>\n",
              "      <td>2.070000e+02</td>\n",
              "      <td>9.000000e+00</td>\n",
              "      <td>0.000000e+00</td>\n",
              "      <td>2.181900e+04</td>\n",
              "      <td>2.252000e+04</td>\n",
              "      <td>4.000000e+00</td>\n",
              "      <td>1.000000e+00</td>\n",
              "      <td>6.010000e+02</td>\n",
              "      <td>0.000000e+00</td>\n",
              "      <td>0.000000e+00</td>\n",
              "    </tr>\n",
              "    <tr>\n",
              "      <th>max</th>\n",
              "      <td>4.500000e+01</td>\n",
              "      <td>2.738110e+13</td>\n",
              "      <td>5.000000e+00</td>\n",
              "      <td>6.000000e+02</td>\n",
              "      <td>9.000000e+00</td>\n",
              "      <td>3.435680e+05</td>\n",
              "      <td>2.800280e+06</td>\n",
              "      <td>2.870972e+06</td>\n",
              "      <td>2.944060e+05</td>\n",
              "      <td>5.000000e+01</td>\n",
              "      <td>9.888900e+04</td>\n",
              "      <td>8.198860e+05</td>\n",
              "      <td>4.536000e+04</td>\n",
              "    </tr>\n",
              "  </tbody>\n",
              "</table>\n",
              "</div>"
            ],
            "text/plain": [
              "         tarif_type  counter_number  counter_statue  counter_code  \\\n",
              "count  1.048575e+06    1.048575e+06    1.048575e+06  1.048575e+06   \n",
              "mean   2.013626e+01    1.209200e+11    4.203419e-02  1.722212e+02   \n",
              "std    1.348246e+01    1.646702e+12    3.745414e-01  1.335823e+02   \n",
              "min    8.000000e+00    0.000000e+00    0.000000e+00  5.000000e+00   \n",
              "25%    1.100000e+01    1.214730e+05    0.000000e+00  5.000000e+00   \n",
              "50%    1.100000e+01    4.904750e+05    0.000000e+00  2.030000e+02   \n",
              "75%    4.000000e+01    1.112725e+06    0.000000e+00  2.070000e+02   \n",
              "max    4.500000e+01    2.738110e+13    5.000000e+00  6.000000e+02   \n",
              "\n",
              "       reading_remarque  consommation_level_4     old_index     new_index  \\\n",
              "count      1.048575e+06          1.048575e+06  1.048575e+06  1.048575e+06   \n",
              "mean       7.315270e+00          5.405997e+01  1.780314e+04  1.838809e+04   \n",
              "std        1.359625e+00          9.792183e+02  4.062121e+04  4.122851e+04   \n",
              "min        6.000000e+00          0.000000e+00  0.000000e+00  0.000000e+00   \n",
              "25%        6.000000e+00          0.000000e+00  1.792000e+03  2.057000e+03   \n",
              "50%        6.000000e+00          0.000000e+00  7.718000e+03  8.218000e+03   \n",
              "75%        9.000000e+00          0.000000e+00  2.181900e+04  2.252000e+04   \n",
              "max        9.000000e+00          3.435680e+05  2.800280e+06  2.870972e+06   \n",
              "\n",
              "       months_number  counter_coefficient  consommation_level_1  \\\n",
              "count   1.048575e+06         1.048575e+06          1.048575e+06   \n",
              "mean    4.632200e+01         1.000236e+00          4.097446e+02   \n",
              "std     2.594754e+03         8.306498e-02          5.882746e+02   \n",
              "min     1.000000e+00         0.000000e+00          0.000000e+00   \n",
              "25%     4.000000e+00         1.000000e+00          7.900000e+01   \n",
              "50%     4.000000e+00         1.000000e+00          2.720000e+02   \n",
              "75%     4.000000e+00         1.000000e+00          6.010000e+02   \n",
              "max     2.944060e+05         5.000000e+01          9.888900e+04   \n",
              "\n",
              "       consommation_level_2  consommation_level_3  \n",
              "count          1.048575e+06          1.048575e+06  \n",
              "mean           1.075682e+02          2.041343e+01  \n",
              "std            1.169328e+03          1.636440e+02  \n",
              "min            0.000000e+00          0.000000e+00  \n",
              "25%            0.000000e+00          0.000000e+00  \n",
              "50%            0.000000e+00          0.000000e+00  \n",
              "75%            0.000000e+00          0.000000e+00  \n",
              "max            8.198860e+05          4.536000e+04  "
            ]
          },
          "execution_count": 11,
          "metadata": {},
          "output_type": "execute_result"
        }
      ],
      "source": [
        "invoices.describe()"
      ]
    },
    {
      "cell_type": "code",
      "execution_count": null,
      "metadata": {
        "id": "gAtqFuGH8YvZ"
      },
      "outputs": [],
      "source": [
        "#old index is new index of previous transaction"
      ]
    },
    {
      "cell_type": "code",
      "execution_count": null,
      "metadata": {
        "colab": {
          "base_uri": "https://localhost:8080/"
        },
        "id": "YOeQFiAORY66",
        "outputId": "1c2d5aaf-60d5-49f3-b7e6-7498b2c9762b"
      },
      "outputs": [
        {
          "name": "stdout",
          "output_type": "stream",
          "text": [
            "(135493, 6)\n",
            "(1048575, 16)\n"
          ]
        }
      ],
      "source": [
        "print(clients.shape)\n",
        "print(invoices.shape)"
      ]
    },
    {
      "cell_type": "code",
      "execution_count": null,
      "metadata": {
        "id": "Z4H8uukq8Yvb",
        "outputId": "828530c8-d2cb-4c1c-8674-c05b36480287"
      },
      "outputs": [
        {
          "data": {
            "text/plain": [
              "Index(['region', 'date', 'dis', 'id', 'catg', 'target'], dtype='object')"
            ]
          },
          "execution_count": 29,
          "metadata": {},
          "output_type": "execute_result"
        }
      ],
      "source": [
        "clients.columns"
      ]
    },
    {
      "cell_type": "code",
      "execution_count": null,
      "metadata": {
        "id": "MfKZLXGj8Yvb",
        "outputId": "6629ca58-68dc-476c-818f-afca95e92306"
      },
      "outputs": [
        {
          "data": {
            "text/plain": [
              "Index(['id', 'date', 'tarif_type', 'counter_number', 'counter_statue',\n",
              "       'counter_code', 'reading_remarque', 'consommation_level_4', 'old_index',\n",
              "       'new_index', 'months_number', 'counter_type', 'counter_coefficient',\n",
              "       'consommation_level_1', 'consommation_level_2', 'consommation_level_3'],\n",
              "      dtype='object')"
            ]
          },
          "execution_count": 30,
          "metadata": {},
          "output_type": "execute_result"
        }
      ],
      "source": [
        "invoices.columns"
      ]
    },
    {
      "cell_type": "code",
      "execution_count": null,
      "metadata": {
        "id": "iMsPEaGG8Yvb",
        "outputId": "92fd8841-1ce1-45d2-8e17-0c847140536f"
      },
      "outputs": [
        {
          "data": {
            "text/plain": [
              "<BarContainer object of 25 artists>"
            ]
          },
          "execution_count": 9,
          "metadata": {},
          "output_type": "execute_result"
        },
        {
          "data": {
            "image/png": "[encoded data removed]",
            "text/plain": [
              "<Figure size 432x288 with 1 Axes>"
            ]
          },
          "metadata": {
            "needs_background": "light"
          },
          "output_type": "display_data"
        }
      ],
      "source": [
        "plt.bar(clients.groupby('region')['id'].count().index, clients.groupby('region')['id'].count().values)"
      ]
    },
    {
      "cell_type": "code",
      "execution_count": null,
      "metadata": {
        "id": "ljuyRJP-b6qy",
        "outputId": "a3d9e0c3-5704-4f41-d253-aa6cdd6db8bd"
      },
      "outputs": [
        {
          "data": {
            "text/html": [
              "<div>\n",
              "<style scoped>\n",
              "    .dataframe tbody tr th:only-of-type {\n",
              "        vertical-align: middle;\n",
              "    }\n",
              "\n",
              "    .dataframe tbody tr th {\n",
              "        vertical-align: top;\n",
              "    }\n",
              "\n",
              "    .dataframe thead th {\n",
              "        text-align: right;\n",
              "    }\n",
              "</style>\n",
              "<table border=\"1\" class=\"dataframe\">\n",
              "  <thead>\n",
              "    <tr style=\"text-align: right;\">\n",
              "      <th></th>\n",
              "      <th>region</th>\n",
              "      <th>date</th>\n",
              "      <th>dis</th>\n",
              "      <th>id</th>\n",
              "      <th>catg</th>\n",
              "      <th>target</th>\n",
              "    </tr>\n",
              "  </thead>\n",
              "  <tbody>\n",
              "    <tr>\n",
              "      <th>0</th>\n",
              "      <td>101</td>\n",
              "      <td>31/12/94</td>\n",
              "      <td>60</td>\n",
              "      <td>train_Client_0</td>\n",
              "      <td>11</td>\n",
              "      <td>0</td>\n",
              "    </tr>\n",
              "    <tr>\n",
              "      <th>1</th>\n",
              "      <td>107</td>\n",
              "      <td>29/05/02</td>\n",
              "      <td>69</td>\n",
              "      <td>train_Client_1</td>\n",
              "      <td>11</td>\n",
              "      <td>0</td>\n",
              "    </tr>\n",
              "    <tr>\n",
              "      <th>2</th>\n",
              "      <td>301</td>\n",
              "      <td>13/03/86</td>\n",
              "      <td>62</td>\n",
              "      <td>train_Client_10</td>\n",
              "      <td>11</td>\n",
              "      <td>0</td>\n",
              "    </tr>\n",
              "    <tr>\n",
              "      <th>3</th>\n",
              "      <td>105</td>\n",
              "      <td>11/07/96</td>\n",
              "      <td>69</td>\n",
              "      <td>train_Client_100</td>\n",
              "      <td>11</td>\n",
              "      <td>0</td>\n",
              "    </tr>\n",
              "    <tr>\n",
              "      <th>4</th>\n",
              "      <td>303</td>\n",
              "      <td>14/10/14</td>\n",
              "      <td>62</td>\n",
              "      <td>train_Client_1000</td>\n",
              "      <td>11</td>\n",
              "      <td>0</td>\n",
              "    </tr>\n",
              "  </tbody>\n",
              "</table>\n",
              "</div>"
            ],
            "text/plain": [
              "   region      date  dis                 id  catg  target\n",
              "0     101  31/12/94   60     train_Client_0    11       0\n",
              "1     107  29/05/02   69     train_Client_1    11       0\n",
              "2     301  13/03/86   62    train_Client_10    11       0\n",
              "3     105  11/07/96   69   train_Client_100    11       0\n",
              "4     303  14/10/14   62  train_Client_1000    11       0"
            ]
          },
          "execution_count": 13,
          "metadata": {},
          "output_type": "execute_result"
        }
      ],
      "source": [
        "clients.head()"
      ]
    },
    {
      "cell_type": "code",
      "execution_count": null,
      "metadata": {
        "id": "5yGC1pc6b6qz",
        "outputId": "fa73fdd5-5719-49af-daa6-e8a395d4f66b"
      },
      "outputs": [
        {
          "data": {
            "text/html": [
              "<div>\n",
              "<style scoped>\n",
              "    .dataframe tbody tr th:only-of-type {\n",
              "        vertical-align: middle;\n",
              "    }\n",
              "\n",
              "    .dataframe tbody tr th {\n",
              "        vertical-align: top;\n",
              "    }\n",
              "\n",
              "    .dataframe thead th {\n",
              "        text-align: right;\n",
              "    }\n",
              "</style>\n",
              "<table border=\"1\" class=\"dataframe\">\n",
              "  <thead>\n",
              "    <tr style=\"text-align: right;\">\n",
              "      <th></th>\n",
              "      <th>id</th>\n",
              "      <th>date</th>\n",
              "      <th>tarif_type</th>\n",
              "      <th>counter_number</th>\n",
              "      <th>counter_statue</th>\n",
              "      <th>counter_code</th>\n",
              "      <th>reading_remarque</th>\n",
              "      <th>consommation_level_4</th>\n",
              "      <th>old_index</th>\n",
              "      <th>new_index</th>\n",
              "      <th>months_number</th>\n",
              "      <th>counter_type</th>\n",
              "      <th>counter_coefficient</th>\n",
              "      <th>consommation_level_1</th>\n",
              "      <th>consommation_level_2</th>\n",
              "      <th>consommation_level_3</th>\n",
              "    </tr>\n",
              "  </thead>\n",
              "  <tbody>\n",
              "    <tr>\n",
              "      <th>0</th>\n",
              "      <td>train_Client_0</td>\n",
              "      <td>24/03/14</td>\n",
              "      <td>11</td>\n",
              "      <td>1335667.0</td>\n",
              "      <td>0</td>\n",
              "      <td>203</td>\n",
              "      <td>8</td>\n",
              "      <td>0</td>\n",
              "      <td>14302</td>\n",
              "      <td>14384</td>\n",
              "      <td>4</td>\n",
              "      <td>ELEC</td>\n",
              "      <td>1</td>\n",
              "      <td>82</td>\n",
              "      <td>0</td>\n",
              "      <td>0</td>\n",
              "    </tr>\n",
              "    <tr>\n",
              "      <th>1</th>\n",
              "      <td>train_Client_0</td>\n",
              "      <td>29/03/13</td>\n",
              "      <td>11</td>\n",
              "      <td>1335667.0</td>\n",
              "      <td>0</td>\n",
              "      <td>203</td>\n",
              "      <td>6</td>\n",
              "      <td>0</td>\n",
              "      <td>12294</td>\n",
              "      <td>13678</td>\n",
              "      <td>4</td>\n",
              "      <td>ELEC</td>\n",
              "      <td>1</td>\n",
              "      <td>1200</td>\n",
              "      <td>184</td>\n",
              "      <td>0</td>\n",
              "    </tr>\n",
              "    <tr>\n",
              "      <th>2</th>\n",
              "      <td>train_Client_0</td>\n",
              "      <td>23/03/15</td>\n",
              "      <td>11</td>\n",
              "      <td>1335667.0</td>\n",
              "      <td>0</td>\n",
              "      <td>203</td>\n",
              "      <td>8</td>\n",
              "      <td>0</td>\n",
              "      <td>14624</td>\n",
              "      <td>14747</td>\n",
              "      <td>4</td>\n",
              "      <td>ELEC</td>\n",
              "      <td>1</td>\n",
              "      <td>123</td>\n",
              "      <td>0</td>\n",
              "      <td>0</td>\n",
              "    </tr>\n",
              "    <tr>\n",
              "      <th>3</th>\n",
              "      <td>train_Client_0</td>\n",
              "      <td>13/07/15</td>\n",
              "      <td>11</td>\n",
              "      <td>1335667.0</td>\n",
              "      <td>0</td>\n",
              "      <td>207</td>\n",
              "      <td>8</td>\n",
              "      <td>0</td>\n",
              "      <td>14747</td>\n",
              "      <td>14849</td>\n",
              "      <td>4</td>\n",
              "      <td>ELEC</td>\n",
              "      <td>1</td>\n",
              "      <td>102</td>\n",
              "      <td>0</td>\n",
              "      <td>0</td>\n",
              "    </tr>\n",
              "    <tr>\n",
              "      <th>4</th>\n",
              "      <td>train_Client_0</td>\n",
              "      <td>17/11/16</td>\n",
              "      <td>11</td>\n",
              "      <td>1335667.0</td>\n",
              "      <td>0</td>\n",
              "      <td>207</td>\n",
              "      <td>9</td>\n",
              "      <td>0</td>\n",
              "      <td>15066</td>\n",
              "      <td>15638</td>\n",
              "      <td>12</td>\n",
              "      <td>ELEC</td>\n",
              "      <td>1</td>\n",
              "      <td>572</td>\n",
              "      <td>0</td>\n",
              "      <td>0</td>\n",
              "    </tr>\n",
              "  </tbody>\n",
              "</table>\n",
              "</div>"
            ],
            "text/plain": [
              "               id      date  tarif_type  counter_number  counter_statue  \\\n",
              "0  train_Client_0  24/03/14          11       1335667.0               0   \n",
              "1  train_Client_0  29/03/13          11       1335667.0               0   \n",
              "2  train_Client_0  23/03/15          11       1335667.0               0   \n",
              "3  train_Client_0  13/07/15          11       1335667.0               0   \n",
              "4  train_Client_0  17/11/16          11       1335667.0               0   \n",
              "\n",
              "   counter_code  reading_remarque  consommation_level_4  old_index  new_index  \\\n",
              "0           203                 8                     0      14302      14384   \n",
              "1           203                 6                     0      12294      13678   \n",
              "2           203                 8                     0      14624      14747   \n",
              "3           207                 8                     0      14747      14849   \n",
              "4           207                 9                     0      15066      15638   \n",
              "\n",
              "   months_number counter_type  counter_coefficient  consommation_level_1  \\\n",
              "0              4         ELEC                    1                    82   \n",
              "1              4         ELEC                    1                  1200   \n",
              "2              4         ELEC                    1                   123   \n",
              "3              4         ELEC                    1                   102   \n",
              "4             12         ELEC                    1                   572   \n",
              "\n",
              "   consommation_level_2  consommation_level_3  \n",
              "0                     0                     0  \n",
              "1                   184                     0  \n",
              "2                     0                     0  \n",
              "3                     0                     0  \n",
              "4                     0                     0  "
            ]
          },
          "execution_count": 14,
          "metadata": {},
          "output_type": "execute_result"
        }
      ],
      "source": [
        "invoices.head()"
      ]
    },
    {
      "cell_type": "markdown",
      "metadata": {},
      "source": [
        "## Data Preprocessing"
      ]
    },
    {
      "cell_type": "code",
      "execution_count": 4,
      "metadata": {
        "id": "NBqtUOVPb6qz"
      },
      "outputs": [],
      "source": [
        "#mean is used as it can capture most of the information across multiple rows\n",
        "agg_invoices = invoices.groupby('id').mean().reset_index()"
      ]
    },
    {
      "cell_type": "code",
      "execution_count": 5,
      "metadata": {
        "id": "LaJWgOtLb6q0"
      },
      "outputs": [],
      "source": [
        "#id is drop as it is an arbitrary number and does not affect classification\n",
        "df = clients.drop('date', axis=1).merge(agg_invoices, on='id').drop('id', axis=1)"
      ]
    },
    {
      "cell_type": "code",
      "execution_count": 6,
      "metadata": {
        "id": "EwvIkvaN8Yvh"
      },
      "outputs": [],
      "source": [
        "from sklearn.model_selection import train_test_split\n",
        "X_train, X_test, y_train, y_test = train_test_split(df.drop('target', axis=1),\n",
        "                                                    df['target'], test_size=0.2, random_state=101, stratify=df['target'])"
      ]
    },
    {
      "cell_type": "code",
      "execution_count": 7,
      "metadata": {
        "colab": {
          "base_uri": "https://localhost:8080/"
        },
        "id": "TUyPFVln8Yvh",
        "outputId": "6f6383b6-00e4-4866-d8e7-2ccf833c9be4"
      },
      "outputs": [
        {
          "name": "stdout",
          "output_type": "stream",
          "text": [
            "(25282, 16)\n",
            "(6321, 16)\n",
            "0    23876\n",
            "1     1406\n",
            "Name: target, dtype: int64\n",
            "0    5970\n",
            "1     351\n",
            "Name: target, dtype: int64\n"
          ]
        }
      ],
      "source": [
        "#initial dimensions and distribution of classes of train and test dataset\n",
        "print(X_train.shape)\n",
        "print(X_test.shape)\n",
        "print(y_train.value_counts())\n",
        "print(y_test.value_counts())"
      ]
    },
    {
      "cell_type": "code",
      "execution_count": 8,
      "metadata": {
        "id": "QP4P2bg7B7j5"
      },
      "outputs": [],
      "source": [
        "#create a Random object so that it only affects whichever other objects uses it\n",
        "import random\n",
        "myrandom = random.Random(101)"
      ]
    },
    {
      "cell_type": "code",
      "execution_count": null,
      "metadata": {
        "id": "CbsluzEmb6q1"
      },
      "outputs": [],
      "source": [
        "#Performing random undersampling"
      ]
    },
    {
      "cell_type": "code",
      "execution_count": 9,
      "metadata": {
        "id": "bUpuSL1D8Yvj"
      },
      "outputs": [],
      "source": [
        "removed_index = myrandom.sample(sorted(y_train[y_train==0].index), 22000) #extracting the index of non-fraud rows that we want to remove from the training dataset\n",
        "removed_X = X_train.loc[removed_index]\n",
        "reduced_X = X_train.drop(removed_index)\n",
        "removed_y = y_train[removed_index]\n",
        "reduced_y = y_train.drop(removed_index)\n",
        "new_X_test = pd.concat([X_test,removed_X]) #adding the index of rows that were removed into the test dataset\n",
        "new_y_test = pd.concat([y_test,removed_y])"
      ]
    },
    {
      "cell_type": "code",
      "execution_count": 10,
      "metadata": {
        "colab": {
          "base_uri": "https://localhost:8080/"
        },
        "id": "pAw0XDwgb6q1",
        "outputId": "aac072e9-fac5-484e-8733-e5f3e005b11b"
      },
      "outputs": [
        {
          "name": "stdout",
          "output_type": "stream",
          "text": [
            "(3282, 16)\n",
            "(28321, 16)\n",
            "0    1876\n",
            "1    1406\n",
            "Name: target, dtype: int64\n"
          ]
        }
      ],
      "source": [
        "#dimensions and distributions of classes after undersampling\n",
        "print(reduced_X.shape)\n",
        "print(new_X_test.shape)\n",
        "print(reduced_y.value_counts())"
      ]
    },
    {
      "cell_type": "code",
      "execution_count": 11,
      "metadata": {
        "id": "XF56PzKqb6q2",
        "outputId": "e893ca00-3859-408b-f98a-0e73c697e869"
      },
      "outputs": [
        {
          "data": {
            "text/plain": [
              "<BarContainer object of 2 artists>"
            ]
          },
          "execution_count": 11,
          "metadata": {},
          "output_type": "execute_result"
        },
        {
          "data": {
            "image/png": "[encoded data removed]",
            "text/plain": [
              "<Figure size 432x288 with 1 Axes>"
            ]
          },
          "metadata": {
            "needs_background": "light"
          },
          "output_type": "display_data"
        }
      ],
      "source": [
        "#distribution of classes in training dataset\n",
        "plt.bar([0,1], reduced_y.value_counts(), tick_label=[0,1])"
      ]
    },
    {
      "cell_type": "code",
      "execution_count": null,
      "metadata": {
        "id": "wK2ONa-mb6q2",
        "outputId": "4b41c57a-8a4a-4d36-b3ba-7622fa84272a"
      },
      "outputs": [
        {
          "data": {
            "text/plain": [
              "<BarContainer object of 2 artists>"
            ]
          },
          "execution_count": 23,
          "metadata": {},
          "output_type": "execute_result"
        },
        {
          "data": {
            "image/png": "[encoded data removed]",
            "text/plain": [
              "<Figure size 432x288 with 1 Axes>"
            ]
          },
          "metadata": {
            "needs_background": "light"
          },
          "output_type": "display_data"
        }
      ],
      "source": [
        "#distribution of classes in test dataset\n",
        "plt.bar([0,1], new_y_test.value_counts(), tick_label=[0,1])"
      ]
    },
    {
      "cell_type": "code",
      "execution_count": 12,
      "metadata": {
        "colab": {
          "base_uri": "https://localhost:8080/",
          "height": 357
        },
        "id": "URdZfrZib6q3",
        "outputId": "db3075d5-05e5-48c3-c83b-dceb0732eeb3"
      },
      "outputs": [
        {
          "data": {
            "text/html": [
              "\n",
              "  <div id=\"df-fc220922-1448-4ed8-96a6-5990781362a6\">\n",
              "    <div class=\"colab-df-container\">\n",
              "      <div>\n",
              "<style scoped>\n",
              "    .dataframe tbody tr th:only-of-type {\n",
              "        vertical-align: middle;\n",
              "    }\n",
              "\n",
              "    .dataframe tbody tr th {\n",
              "        vertical-align: top;\n",
              "    }\n",
              "\n",
              "    .dataframe thead th {\n",
              "        text-align: right;\n",
              "    }\n",
              "</style>\n",
              "<table border=\"1\" class=\"dataframe\">\n",
              "  <thead>\n",
              "    <tr style=\"text-align: right;\">\n",
              "      <th></th>\n",
              "      <th>region</th>\n",
              "      <th>dis</th>\n",
              "      <th>catg</th>\n",
              "      <th>tarif_type</th>\n",
              "      <th>counter_number</th>\n",
              "      <th>counter_statue</th>\n",
              "      <th>counter_code</th>\n",
              "      <th>reading_remarque</th>\n",
              "      <th>consommation_level_4</th>\n",
              "      <th>old_index</th>\n",
              "      <th>new_index</th>\n",
              "      <th>months_number</th>\n",
              "      <th>counter_coefficient</th>\n",
              "      <th>consommation_level_1</th>\n",
              "      <th>consommation_level_2</th>\n",
              "      <th>consommation_level_3</th>\n",
              "    </tr>\n",
              "  </thead>\n",
              "  <tbody>\n",
              "    <tr>\n",
              "      <th>count</th>\n",
              "      <td>3282.000000</td>\n",
              "      <td>3282.000000</td>\n",
              "      <td>3282.000000</td>\n",
              "      <td>3282.000000</td>\n",
              "      <td>3.282000e+03</td>\n",
              "      <td>3282.000000</td>\n",
              "      <td>3282.000000</td>\n",
              "      <td>3282.000000</td>\n",
              "      <td>3282.000000</td>\n",
              "      <td>3282.000000</td>\n",
              "      <td>3282.000000</td>\n",
              "      <td>3282.000000</td>\n",
              "      <td>3282.000000</td>\n",
              "      <td>3282.000000</td>\n",
              "      <td>3282.000000</td>\n",
              "      <td>3282.000000</td>\n",
              "    </tr>\n",
              "    <tr>\n",
              "      <th>mean</th>\n",
              "      <td>205.872334</td>\n",
              "      <td>63.858318</td>\n",
              "      <td>11.895186</td>\n",
              "      <td>17.660954</td>\n",
              "      <td>5.232466e+11</td>\n",
              "      <td>0.059801</td>\n",
              "      <td>198.539753</td>\n",
              "      <td>7.418839</td>\n",
              "      <td>90.415649</td>\n",
              "      <td>16443.935904</td>\n",
              "      <td>17157.390083</td>\n",
              "      <td>51.400351</td>\n",
              "      <td>1.000642</td>\n",
              "      <td>474.961518</td>\n",
              "      <td>135.656023</td>\n",
              "      <td>35.103504</td>\n",
              "    </tr>\n",
              "    <tr>\n",
              "      <th>std</th>\n",
              "      <td>104.710998</td>\n",
              "      <td>3.442262</td>\n",
              "      <td>5.858952</td>\n",
              "      <td>6.995605</td>\n",
              "      <td>3.016017e+12</td>\n",
              "      <td>0.219270</td>\n",
              "      <td>96.555122</td>\n",
              "      <td>0.789178</td>\n",
              "      <td>732.801937</td>\n",
              "      <td>28804.467742</td>\n",
              "      <td>29440.520712</td>\n",
              "      <td>2689.877828</td>\n",
              "      <td>0.034962</td>\n",
              "      <td>1264.236000</td>\n",
              "      <td>604.400426</td>\n",
              "      <td>102.080581</td>\n",
              "    </tr>\n",
              "    <tr>\n",
              "      <th>min</th>\n",
              "      <td>101.000000</td>\n",
              "      <td>60.000000</td>\n",
              "      <td>11.000000</td>\n",
              "      <td>10.000000</td>\n",
              "      <td>1.000000e+00</td>\n",
              "      <td>0.000000</td>\n",
              "      <td>5.000000</td>\n",
              "      <td>6.000000</td>\n",
              "      <td>0.000000</td>\n",
              "      <td>0.000000</td>\n",
              "      <td>0.000000</td>\n",
              "      <td>1.000000</td>\n",
              "      <td>1.000000</td>\n",
              "      <td>0.000000</td>\n",
              "      <td>0.000000</td>\n",
              "      <td>0.000000</td>\n",
              "    </tr>\n",
              "    <tr>\n",
              "      <th>25%</th>\n",
              "      <td>103.000000</td>\n",
              "      <td>62.000000</td>\n",
              "      <td>11.000000</td>\n",
              "      <td>11.000000</td>\n",
              "      <td>2.927884e+05</td>\n",
              "      <td>0.000000</td>\n",
              "      <td>112.516460</td>\n",
              "      <td>6.888889</td>\n",
              "      <td>0.000000</td>\n",
              "      <td>4224.245718</td>\n",
              "      <td>4687.670261</td>\n",
              "      <td>4.000000</td>\n",
              "      <td>1.000000</td>\n",
              "      <td>240.441026</td>\n",
              "      <td>0.000000</td>\n",
              "      <td>0.000000</td>\n",
              "    </tr>\n",
              "    <tr>\n",
              "      <th>50%</th>\n",
              "      <td>107.000000</td>\n",
              "      <td>63.000000</td>\n",
              "      <td>11.000000</td>\n",
              "      <td>13.000000</td>\n",
              "      <td>7.765529e+05</td>\n",
              "      <td>0.000000</td>\n",
              "      <td>203.000000</td>\n",
              "      <td>7.309524</td>\n",
              "      <td>0.000000</td>\n",
              "      <td>10034.922959</td>\n",
              "      <td>10603.454879</td>\n",
              "      <td>4.205128</td>\n",
              "      <td>1.000000</td>\n",
              "      <td>371.438424</td>\n",
              "      <td>15.438339</td>\n",
              "      <td>0.000000</td>\n",
              "    </tr>\n",
              "    <tr>\n",
              "      <th>75%</th>\n",
              "      <td>307.000000</td>\n",
              "      <td>69.000000</td>\n",
              "      <td>11.000000</td>\n",
              "      <td>25.320988</td>\n",
              "      <td>3.553384e+06</td>\n",
              "      <td>0.051892</td>\n",
              "      <td>207.000000</td>\n",
              "      <td>7.892184</td>\n",
              "      <td>0.000000</td>\n",
              "      <td>19527.812964</td>\n",
              "      <td>20141.232143</td>\n",
              "      <td>4.628571</td>\n",
              "      <td>1.000000</td>\n",
              "      <td>559.652344</td>\n",
              "      <td>95.447465</td>\n",
              "      <td>17.094535</td>\n",
              "    </tr>\n",
              "    <tr>\n",
              "      <th>max</th>\n",
              "      <td>399.000000</td>\n",
              "      <td>69.000000</td>\n",
              "      <td>51.000000</td>\n",
              "      <td>45.000000</td>\n",
              "      <td>2.718110e+13</td>\n",
              "      <td>5.000000</td>\n",
              "      <td>565.000000</td>\n",
              "      <td>9.000000</td>\n",
              "      <td>31605.600000</td>\n",
              "      <td>596399.710145</td>\n",
              "      <td>600196.405797</td>\n",
              "      <td>154104.139535</td>\n",
              "      <td>3.000000</td>\n",
              "      <td>52790.000000</td>\n",
              "      <td>23717.333333</td>\n",
              "      <td>1333.333333</td>\n",
              "    </tr>\n",
              "  </tbody>\n",
              "</table>\n",
              "</div>\n",
              "      <button class=\"colab-df-convert\" onclick=\"convertToInteractive('df-fc220922-1448-4ed8-96a6-5990781362a6')\"\n",
              "              title=\"Convert this dataframe to an interactive table.\"\n",
              "              style=\"display:none;\">\n",
              "        \n",
              "  <svg xmlns=\"http://www.w3.org/2000/svg\" height=\"24px\"viewBox=\"0 0 24 24\"\n",
              "       width=\"24px\">\n",
              "    <path d=\"M0 0h24v24H0V0z\" fill=\"none\"/>\n",
              "    <path d=\"M18.56 5.44l.94 2.06.94-2.06 2.06-.94-2.06-.94-.94-2.06-.94 2.06-2.06.94zm-11 1L8.5 8.5l.94-2.06 2.06-.94-2.06-.94L8.5 2.5l-.94 2.06-2.06.94zm10 10l.94 2.06.94-2.06 2.06-.94-2.06-.94-.94-2.06-.94 2.06-2.06.94z\"/><path d=\"M17.41 7.96l-1.37-1.37c-.4-.4-.92-.59-1.43-.59-.52 0-1.04.2-1.43.59L10.3 9.45l-7.72 7.72c-.78.78-.78 2.05 0 2.83L4 21.41c.39.39.9.59 1.41.59.51 0 1.02-.2 1.41-.59l7.78-7.78 2.81-2.81c.8-.78.8-2.07 0-2.86zM5.41 20L4 18.59l7.72-7.72 1.47 1.35L5.41 20z\"/>\n",
              "  </svg>\n",
              "      </button>\n",
              "      \n",
              "  <style>\n",
              "    .colab-df-container {\n",
              "      display:flex;\n",
              "      flex-wrap:wrap;\n",
              "      gap: 12px;\n",
              "    }\n",
              "\n",
              "    .colab-df-convert {\n",
              "      background-color: #E8F0FE;\n",
              "      border: none;\n",
              "      border-radius: 50%;\n",
              "      cursor: pointer;\n",
              "      display: none;\n",
              "      fill: #1967D2;\n",
              "      height: 32px;\n",
              "      padding: 0 0 0 0;\n",
              "      width: 32px;\n",
              "    }\n",
              "\n",
              "    .colab-df-convert:hover {\n",
              "      background-color: #E2EBFA;\n",
              "      box-shadow: 0px 1px 2px rgba(60, 64, 67, 0.3), 0px 1px 3px 1px rgba(60, 64, 67, 0.15);\n",
              "      fill: #174EA6;\n",
              "    }\n",
              "\n",
              "    [theme=dark] .colab-df-convert {\n",
              "      background-color: #3B4455;\n",
              "      fill: #D2E3FC;\n",
              "    }\n",
              "\n",
              "    [theme=dark] .colab-df-convert:hover {\n",
              "      background-color: #434B5C;\n",
              "      box-shadow: 0px 1px 3px 1px rgba(0, 0, 0, 0.15);\n",
              "      filter: drop-shadow(0px 1px 2px rgba(0, 0, 0, 0.3));\n",
              "      fill: #FFFFFF;\n",
              "    }\n",
              "  </style>\n",
              "\n",
              "      <script>\n",
              "        const buttonEl =\n",
              "          document.querySelector('#df-fc220922-1448-4ed8-96a6-5990781362a6 button.colab-df-convert');\n",
              "        buttonEl.style.display =\n",
              "          google.colab.kernel.accessAllowed ? 'block' : 'none';\n",
              "\n",
              "        async function convertToInteractive(key) {\n",
              "          const element = document.querySelector('#df-fc220922-1448-4ed8-96a6-5990781362a6');\n",
              "          const dataTable =\n",
              "            await google.colab.kernel.invokeFunction('convertToInteractive',\n",
              "                                                     [key], {});\n",
              "          if (!dataTable) return;\n",
              "\n",
              "          const docLinkHtml = 'Like what you see? Visit the ' +\n",
              "            '<a target=\"_blank\" href=https://colab.research.google.com/notebooks/data_table.ipynb>data table notebook</a>'\n",
              "            + ' to learn more about interactive tables.';\n",
              "          element.innerHTML = '';\n",
              "          dataTable['output_type'] = 'display_data';\n",
              "          await google.colab.output.renderOutput(dataTable, element);\n",
              "          const docLink = document.createElement('div');\n",
              "          docLink.innerHTML = docLinkHtml;\n",
              "          element.appendChild(docLink);\n",
              "        }\n",
              "      </script>\n",
              "    </div>\n",
              "  </div>\n",
              "  "
            ],
            "text/plain": [
              "            region          dis         catg   tarif_type  counter_number  \\\n",
              "count  3282.000000  3282.000000  3282.000000  3282.000000    3.282000e+03   \n",
              "mean    205.872334    63.858318    11.895186    17.660954    5.232466e+11   \n",
              "std     104.710998     3.442262     5.858952     6.995605    3.016017e+12   \n",
              "min     101.000000    60.000000    11.000000    10.000000    1.000000e+00   \n",
              "25%     103.000000    62.000000    11.000000    11.000000    2.927884e+05   \n",
              "50%     107.000000    63.000000    11.000000    13.000000    7.765529e+05   \n",
              "75%     307.000000    69.000000    11.000000    25.320988    3.553384e+06   \n",
              "max     399.000000    69.000000    51.000000    45.000000    2.718110e+13   \n",
              "\n",
              "       counter_statue  counter_code  reading_remarque  consommation_level_4  \\\n",
              "count     3282.000000   3282.000000       3282.000000           3282.000000   \n",
              "mean         0.059801    198.539753          7.418839             90.415649   \n",
              "std          0.219270     96.555122          0.789178            732.801937   \n",
              "min          0.000000      5.000000          6.000000              0.000000   \n",
              "25%          0.000000    112.516460          6.888889              0.000000   \n",
              "50%          0.000000    203.000000          7.309524              0.000000   \n",
              "75%          0.051892    207.000000          7.892184              0.000000   \n",
              "max          5.000000    565.000000          9.000000          31605.600000   \n",
              "\n",
              "           old_index      new_index  months_number  counter_coefficient  \\\n",
              "count    3282.000000    3282.000000    3282.000000          3282.000000   \n",
              "mean    16443.935904   17157.390083      51.400351             1.000642   \n",
              "std     28804.467742   29440.520712    2689.877828             0.034962   \n",
              "min         0.000000       0.000000       1.000000             1.000000   \n",
              "25%      4224.245718    4687.670261       4.000000             1.000000   \n",
              "50%     10034.922959   10603.454879       4.205128             1.000000   \n",
              "75%     19527.812964   20141.232143       4.628571             1.000000   \n",
              "max    596399.710145  600196.405797  154104.139535             3.000000   \n",
              "\n",
              "       consommation_level_1  consommation_level_2  consommation_level_3  \n",
              "count           3282.000000           3282.000000           3282.000000  \n",
              "mean             474.961518            135.656023             35.103504  \n",
              "std             1264.236000            604.400426            102.080581  \n",
              "min                0.000000              0.000000              0.000000  \n",
              "25%              240.441026              0.000000              0.000000  \n",
              "50%              371.438424             15.438339              0.000000  \n",
              "75%              559.652344             95.447465             17.094535  \n",
              "max            52790.000000          23717.333333           1333.333333  "
            ]
          },
          "execution_count": 12,
          "metadata": {},
          "output_type": "execute_result"
        }
      ],
      "source": [
        "#checking the data distribution of each column to check for outliers as well as the magnitude in each column\n",
        "reduced_X.describe()"
      ]
    },
    {
      "cell_type": "code",
      "execution_count": 12,
      "metadata": {
        "id": "SfyZ_7Zi8Yvp"
      },
      "outputs": [],
      "source": [
        "#Use standardization/MinMaxScaler as some cols have outliers such as the consumption_levels\n",
        "from sklearn.preprocessing import MinMaxScaler\n",
        "minmax_scaler = MinMaxScaler()\n",
        "X_train_scaled = minmax_scaler.fit_transform(reduced_X)\n",
        "X_test_scaled = minmax_scaler.transform(new_X_test)"
      ]
    },
    {
      "cell_type": "markdown",
      "metadata": {},
      "source": [
        "## Training and Testing of Models"
      ]
    },
    {
      "cell_type": "code",
      "execution_count": 20,
      "metadata": {
        "id": "jhKYNpdR8Yvh"
      },
      "outputs": [],
      "source": [
        "from sklearn.metrics import classification_report, confusion_matrix\n",
        "from sklearn.metrics import recall_score"
      ]
    },
    {
      "cell_type": "code",
      "execution_count": 14,
      "metadata": {
        "colab": {
          "base_uri": "https://localhost:8080/"
        },
        "id": "xj91vSEab6q3",
        "outputId": "944ed030-ed64-4737-b092-2c92ae70da3a"
      },
      "outputs": [
        {
          "name": "stdout",
          "output_type": "stream",
          "text": [
            "[[23793  4177]\n",
            " [  244   107]]\n",
            "              precision    recall  f1-score   support\n",
            "\n",
            "           0       0.99      0.85      0.91     27970\n",
            "           1       0.02      0.30      0.05       351\n",
            "\n",
            "    accuracy                           0.84     28321\n",
            "   macro avg       0.51      0.58      0.48     28321\n",
            "weighted avg       0.98      0.84      0.90     28321\n",
            "\n"
          ]
        }
      ],
      "source": [
        "from sklearn.neighbors import KNeighborsClassifier\n",
        "knn = KNeighborsClassifier(n_neighbors= 2) #num of neighbors = 2 since we only have fraud or non-fraud classes\n",
        "knn.fit(X_train_scaled,reduced_y)\n",
        "knn_pred = knn.predict(X_test_scaled)\n",
        "print(confusion_matrix(new_y_test, knn_pred))\n",
        "print(classification_report(new_y_test, knn_pred))"
      ]
    },
    {
      "cell_type": "code",
      "execution_count": 15,
      "metadata": {
        "colab": {
          "base_uri": "https://localhost:8080/"
        },
        "id": "3S2wwXbi8Yvk",
        "outputId": "89519760-23b4-4791-bee7-821c9c8a232e"
      },
      "outputs": [
        {
          "name": "stdout",
          "output_type": "stream",
          "text": [
            "[[22419  5551]\n",
            " [  243   108]]\n",
            "              precision    recall  f1-score   support\n",
            "\n",
            "           0       0.99      0.80      0.89     27970\n",
            "           1       0.02      0.31      0.04       351\n",
            "\n",
            "    accuracy                           0.80     28321\n",
            "   macro avg       0.50      0.55      0.46     28321\n",
            "weighted avg       0.98      0.80      0.88     28321\n",
            "\n"
          ]
        }
      ],
      "source": [
        "from sklearn.linear_model import LogisticRegression\n",
        "logr = LogisticRegression(max_iter = 300)\n",
        "logr.fit(X_train_scaled,reduced_y)\n",
        "logr_pred = logr.predict(X_test_scaled)\n",
        "print(confusion_matrix(new_y_test, logr_pred))\n",
        "print(classification_report(new_y_test, logr_pred))"
      ]
    },
    {
      "cell_type": "code",
      "execution_count": 16,
      "metadata": {
        "colab": {
          "base_uri": "https://localhost:8080/"
        },
        "id": "E7XcRamT8Yvk",
        "outputId": "14462857-08f5-465b-e9c5-356846edda7f"
      },
      "outputs": [
        {
          "name": "stdout",
          "output_type": "stream",
          "text": [
            "[[21015  6955]\n",
            " [  167   184]]\n",
            "              precision    recall  f1-score   support\n",
            "\n",
            "           0       0.99      0.75      0.86     27970\n",
            "           1       0.03      0.52      0.05       351\n",
            "\n",
            "    accuracy                           0.75     28321\n",
            "   macro avg       0.51      0.64      0.45     28321\n",
            "weighted avg       0.98      0.75      0.85     28321\n",
            "\n"
          ]
        }
      ],
      "source": [
        "from sklearn.svm import SVC\n",
        "svm = SVC()\n",
        "svm.fit(X_train_scaled,reduced_y)\n",
        "svm_pred = svm.predict(X_test_scaled)\n",
        "print(confusion_matrix(new_y_test, svm_pred))\n",
        "print(classification_report(new_y_test, svm_pred))"
      ]
    },
    {
      "cell_type": "code",
      "execution_count": 17,
      "metadata": {
        "colab": {
          "base_uri": "https://localhost:8080/"
        },
        "id": "j3rPkkzAb6q4",
        "outputId": "2134ec11-962f-4bce-e9f1-0add4b45f1c2"
      },
      "outputs": [
        {
          "name": "stdout",
          "output_type": "stream",
          "text": [
            "[[22284  5686]\n",
            " [  121   230]]\n",
            "              precision    recall  f1-score   support\n",
            "\n",
            "           0       0.99      0.80      0.88     27970\n",
            "           1       0.04      0.66      0.07       351\n",
            "\n",
            "    accuracy                           0.79     28321\n",
            "   macro avg       0.52      0.73      0.48     28321\n",
            "weighted avg       0.98      0.79      0.87     28321\n",
            "\n"
          ]
        }
      ],
      "source": [
        "from sklearn.ensemble import RandomForestClassifier\n",
        "rf = RandomForestClassifier(random_state=42)\n",
        "rf.fit(X_train_scaled,reduced_y)\n",
        "rf_pred = rf.predict(X_test_scaled)\n",
        "print(confusion_matrix(new_y_test, rf_pred))\n",
        "print(classification_report(new_y_test, rf_pred))"
      ]
    },
    {
      "cell_type": "code",
      "execution_count": 18,
      "metadata": {
        "id": "ZzspsmmOfZc3"
      },
      "outputs": [
        {
          "name": "stdout",
          "output_type": "stream",
          "text": [
            "[[22080  5890]\n",
            " [  115   236]]\n",
            "              precision    recall  f1-score   support\n",
            "\n",
            "           0       0.99      0.79      0.88     27970\n",
            "           1       0.04      0.67      0.07       351\n",
            "\n",
            "    accuracy                           0.79     28321\n",
            "   macro avg       0.52      0.73      0.48     28321\n",
            "weighted avg       0.98      0.79      0.87     28321\n",
            "\n"
          ]
        }
      ],
      "source": [
        "from sklearn.ensemble import HistGradientBoostingClassifier\n",
        "hgb = HistGradientBoostingClassifier(random_state=42)\n",
        "hgb.fit(X_train_scaled,reduced_y)\n",
        "hgb_pred = hgb.predict(X_test_scaled)\n",
        "print(confusion_matrix(new_y_test, hgb_pred))\n",
        "print(classification_report(new_y_test, hgb_pred))"
      ]
    },
    {
      "cell_type": "code",
      "execution_count": 55,
      "metadata": {
        "id": "-dOGXqgI8Yvl"
      },
      "outputs": [],
      "source": [
        "from tensorflow.keras.models import Sequential\n",
        "from tensorflow.keras.layers import Input, Dense, Dropout, Activation\n",
        "model = Sequential()\n",
        "model.add(Input(16))\n",
        "model.add(Dense(40,  activation='relu'))\n",
        "model.add(Dropout(0.1))\n",
        "\n",
        "model.add(Dense(40, activation='relu'))\n",
        "model.add(Dropout(0.1))\n",
        "\n",
        "model.add(Dense(20, activation='relu'))\n",
        "model.add(Dropout(0.1))\n",
        "\n",
        "model.add(Dense(units=1,activation='softmax'))"
      ]
    },
    {
      "cell_type": "code",
      "execution_count": 56,
      "metadata": {
        "colab": {
          "base_uri": "https://localhost:8080/"
        },
        "id": "t8ui3F5EfiB6",
        "outputId": "d4b9b606-e32f-47e7-bf63-3c708c3b573f"
      },
      "outputs": [
        {
          "name": "stdout",
          "output_type": "stream",
          "text": [
            "Model: \"sequential_6\"\n",
            "_________________________________________________________________\n",
            " Layer (type)                Output Shape              Param #   \n",
            "=================================================================\n",
            " dense_20 (Dense)            (None, 40)                680       \n",
            "                                                                 \n",
            " dropout_15 (Dropout)        (None, 40)                0         \n",
            "                                                                 \n",
            " dense_21 (Dense)            (None, 40)                1640      \n",
            "                                                                 \n",
            " dropout_16 (Dropout)        (None, 40)                0         \n",
            "                                                                 \n",
            " dense_22 (Dense)            (None, 20)                820       \n",
            "                                                                 \n",
            " dropout_17 (Dropout)        (None, 20)                0         \n",
            "                                                                 \n",
            " dense_23 (Dense)            (None, 1)                 21        \n",
            "                                                                 \n",
            "=================================================================\n",
            "Total params: 3,161\n",
            "Trainable params: 3,161\n",
            "Non-trainable params: 0\n",
            "_________________________________________________________________\n"
          ]
        }
      ],
      "source": [
        "model.summary()"
      ]
    },
    {
      "cell_type": "code",
      "execution_count": 57,
      "metadata": {
        "id": "P8RmFxtZgflX"
      },
      "outputs": [],
      "source": [
        "import keras.metrics\n",
        "model.compile(loss='binary_crossentropy', optimizer='adam', metrics=[keras.metrics.Recall()])"
      ]
    },
    {
      "cell_type": "code",
      "execution_count": 68,
      "metadata": {
        "colab": {
          "base_uri": "https://localhost:8080/"
        },
        "id": "NhtgTPnHgwOE",
        "outputId": "f8f93d3e-49df-4690-94ca-e00d5dae3d16"
      },
      "outputs": [
        {
          "name": "stdout",
          "output_type": "stream",
          "text": [
            "Epoch 1/25\n",
            "103/103 [==============================] - 0s 1ms/step - loss: 0.5812 - recall_2: 1.0000\n",
            "Epoch 2/25\n",
            "103/103 [==============================] - 0s 1ms/step - loss: 0.5828 - recall_2: 1.0000\n",
            "Epoch 3/25\n",
            "103/103 [==============================] - 0s 1ms/step - loss: 0.5784 - recall_2: 1.0000\n",
            "Epoch 4/25\n",
            "103/103 [==============================] - 0s 1ms/step - loss: 0.5822 - recall_2: 1.0000\n",
            "Epoch 5/25\n",
            "103/103 [==============================] - 0s 2ms/step - loss: 0.5791 - recall_2: 1.0000\n",
            "Epoch 6/25\n",
            "103/103 [==============================] - 0s 2ms/step - loss: 0.5759 - recall_2: 1.0000\n",
            "Epoch 7/25\n",
            "103/103 [==============================] - 0s 2ms/step - loss: 0.5749 - recall_2: 1.0000\n",
            "Epoch 8/25\n",
            "103/103 [==============================] - 0s 2ms/step - loss: 0.5748 - recall_2: 1.0000\n",
            "Epoch 9/25\n",
            "103/103 [==============================] - 0s 1ms/step - loss: 0.5686 - recall_2: 1.0000\n",
            "Epoch 10/25\n",
            "103/103 [==============================] - 0s 1ms/step - loss: 0.5707 - recall_2: 1.0000\n",
            "Epoch 11/25\n",
            "103/103 [==============================] - 0s 2ms/step - loss: 0.5706 - recall_2: 1.0000\n",
            "Epoch 12/25\n",
            "103/103 [==============================] - 0s 1ms/step - loss: 0.5679 - recall_2: 1.0000\n",
            "Epoch 13/25\n",
            "103/103 [==============================] - 0s 1ms/step - loss: 0.5678 - recall_2: 1.0000\n",
            "Epoch 14/25\n",
            "103/103 [==============================] - 0s 2ms/step - loss: 0.5687 - recall_2: 1.0000\n",
            "Epoch 15/25\n",
            "103/103 [==============================] - 0s 2ms/step - loss: 0.5676 - recall_2: 1.0000\n",
            "Epoch 16/25\n",
            "103/103 [==============================] - 0s 2ms/step - loss: 0.5623 - recall_2: 1.0000\n",
            "Epoch 17/25\n",
            "103/103 [==============================] - 0s 2ms/step - loss: 0.5654 - recall_2: 1.0000\n",
            "Epoch 18/25\n",
            "103/103 [==============================] - 0s 2ms/step - loss: 0.5646 - recall_2: 1.0000\n",
            "Epoch 19/25\n",
            "103/103 [==============================] - 0s 3ms/step - loss: 0.5666 - recall_2: 1.0000\n",
            "Epoch 20/25\n",
            "103/103 [==============================] - 0s 2ms/step - loss: 0.5647 - recall_2: 1.0000\n",
            "Epoch 21/25\n",
            "103/103 [==============================] - 0s 2ms/step - loss: 0.5579 - recall_2: 1.0000\n",
            "Epoch 22/25\n",
            "103/103 [==============================] - 0s 1ms/step - loss: 0.5610 - recall_2: 1.0000\n",
            "Epoch 23/25\n",
            "103/103 [==============================] - 0s 1ms/step - loss: 0.5623 - recall_2: 1.0000\n",
            "Epoch 24/25\n",
            "103/103 [==============================] - 0s 1ms/step - loss: 0.5585 - recall_2: 1.0000\n",
            "Epoch 25/25\n",
            "103/103 [==============================] - 0s 1ms/step - loss: 0.5600 - recall_2: 1.0000\n"
          ]
        }
      ],
      "source": [
        "history = None\n",
        "\n",
        "epochs = 10\n",
        "history = model.fit(X_train_scaled, reduced_y, epochs = 25)"
      ]
    },
    {
      "cell_type": "code",
      "execution_count": 69,
      "metadata": {
        "colab": {
          "base_uri": "https://localhost:8080/"
        },
        "id": "s-qYH_aD8Yvl",
        "outputId": "a3c1e615-09af-446a-f5d1-f48b27398b63"
      },
      "outputs": [
        {
          "name": "stdout",
          "output_type": "stream",
          "text": [
            "886/886 [==============================] - 1s 841us/step\n"
          ]
        }
      ],
      "source": [
        "NN_pred = model.predict(X_test_scaled)"
      ]
    },
    {
      "cell_type": "code",
      "execution_count": 70,
      "metadata": {
        "id": "3-EOJFoCkg3L"
      },
      "outputs": [],
      "source": [
        "nn_pred = (NN_pred < 0.5).astype(\"int\").flatten()"
      ]
    },
    {
      "cell_type": "code",
      "execution_count": 71,
      "metadata": {
        "colab": {
          "base_uri": "https://localhost:8080/"
        },
        "id": "G1Vkmk2ilOyb",
        "outputId": "c64cac96-c3c9-40ac-99f2-1fd31f40db6e"
      },
      "outputs": [
        {
          "name": "stdout",
          "output_type": "stream",
          "text": [
            "[[27970     0]\n",
            " [  351     0]]\n",
            "              precision    recall  f1-score   support\n",
            "\n",
            "           0       0.99      1.00      0.99     27970\n",
            "           1       0.00      0.00      0.00       351\n",
            "\n",
            "    accuracy                           0.99     28321\n",
            "   macro avg       0.49      0.50      0.50     28321\n",
            "weighted avg       0.98      0.99      0.98     28321\n",
            "\n"
          ]
        },
        {
          "name": "stderr",
          "output_type": "stream",
          "text": [
            "/usr/local/lib/python3.7/dist-packages/sklearn/metrics/_classification.py:1318: UndefinedMetricWarning: Precision and F-score are ill-defined and being set to 0.0 in labels with no predicted samples. Use `zero_division` parameter to control this behavior.\n",
            "  _warn_prf(average, modifier, msg_start, len(result))\n",
            "/usr/local/lib/python3.7/dist-packages/sklearn/metrics/_classification.py:1318: UndefinedMetricWarning: Precision and F-score are ill-defined and being set to 0.0 in labels with no predicted samples. Use `zero_division` parameter to control this behavior.\n",
            "  _warn_prf(average, modifier, msg_start, len(result))\n",
            "/usr/local/lib/python3.7/dist-packages/sklearn/metrics/_classification.py:1318: UndefinedMetricWarning: Precision and F-score are ill-defined and being set to 0.0 in labels with no predicted samples. Use `zero_division` parameter to control this behavior.\n",
            "  _warn_prf(average, modifier, msg_start, len(result))\n"
          ]
        }
      ],
      "source": [
        "print(confusion_matrix(new_y_test, nn_pred))\n",
        "print(classification_report(new_y_test, nn_pred))"
      ]
    },
    {
      "cell_type": "markdown",
      "metadata": {},
      "source": [
        "## Cross Validation"
      ]
    },
    {
      "cell_type": "code",
      "execution_count": 21,
      "metadata": {
        "id": "7rPdSurZlV2O"
      },
      "outputs": [],
      "source": [
        "\n",
        "svm_score = []\n",
        "rf_score = []\n",
        "hgb_score = []\n",
        "def manual_cv(n):\n",
        "    for i in range(n):\n",
        "        #same process of train test split, then undersampling\n",
        "        X_train, X_test, y_train, y_test = train_test_split(df.drop('target', axis=1),\n",
        "                                                            df['target'], test_size=0.2, random_state=101+i, stratify=df['target'])\n",
        "        removed_index = myrandom.sample(sorted(y_train[y_train==0].index), 22000)\n",
        "        removed_X = X_train.loc[removed_index]\n",
        "        reduced_X = X_train.drop(removed_index)\n",
        "        removed_y = y_train[removed_index]\n",
        "        reduced_y = y_train.drop(removed_index)\n",
        "        new_X_test = pd.concat([X_test,removed_X])\n",
        "        new_y_test = pd.concat([y_test,removed_y])\n",
        "\n",
        "        #Standardization of data\n",
        "        minmax_scaler = MinMaxScaler()\n",
        "        X_train_scaled = minmax_scaler.fit_transform(reduced_X)\n",
        "        X_test_scaled = minmax_scaler.transform(new_X_test)\n",
        "\n",
        "        svm = SVC()\n",
        "        svm.fit(X_train_scaled,reduced_y)\n",
        "        svm_pred = svm.predict(X_test_scaled)\n",
        "        svm_score.append(recall_score(new_y_test, svm_pred))\n",
        "\n",
        "        rf = RandomForestClassifier(random_state=42)\n",
        "        rf.fit(X_train_scaled,reduced_y)\n",
        "        rf_pred = rf.predict(X_test_scaled)\n",
        "        rf_score.append(recall_score(new_y_test, rf_pred))\n",
        "\n",
        "        hgb = HistGradientBoostingClassifier(random_state=42)\n",
        "        hgb.fit(X_train_scaled,reduced_y)\n",
        "        hgb_pred = hgb.predict(X_test_scaled)\n",
        "        hgb_score.append(recall_score(new_y_test, hgb_pred))"
      ]
    },
    {
      "cell_type": "code",
      "execution_count": 22,
      "metadata": {},
      "outputs": [],
      "source": [
        "manual_cv(5) #5-fold cross validation"
      ]
    },
    {
      "cell_type": "code",
      "execution_count": 53,
      "metadata": {},
      "outputs": [
        {
          "name": "stdout",
          "output_type": "stream",
          "text": [
            "[0.4415954415954416, 0.48148148148148145, 0.4586894586894587, 0.47863247863247865, 0.46438746438746437]\n",
            "[0.6495726495726496, 0.6068376068376068, 0.6153846153846154, 0.6381766381766382, 0.6239316239316239]\n",
            "[0.6666666666666666, 0.6353276353276354, 0.6866096866096866, 0.6666666666666666, 0.6381766381766382]\n"
          ]
        }
      ],
      "source": [
        "#scores of each model in each run\n",
        "print(svm_score)\n",
        "print(rf_score)\n",
        "print(hgb_score)"
      ]
    },
    {
      "cell_type": "markdown",
      "metadata": {},
      "source": [
        "## Hyperparameters tuning"
      ]
    },
    {
      "cell_type": "code",
      "execution_count": 101,
      "metadata": {
        "id": "zMJvd5nP8Yvk"
      },
      "outputs": [],
      "source": [
        "from sklearn.model_selection import GridSearchCV\n",
        "param_grid = {'learning_rate': [0.1,0.12,0.15], 'max_depth':[22,25], 'max_leaf_nodes':[32,35], 'min_samples_leaf':[47,50]}\n",
        "grid = GridSearchCV(HistGradientBoostingClassifier(), param_grid, verbose = 3, scoring='recall')"
      ]
    },
    {
      "cell_type": "code",
      "execution_count": 102,
      "metadata": {
        "colab": {
          "base_uri": "https://localhost:8080/"
        },
        "id": "y5paxPgk8Yvk",
        "outputId": "65858c86-cfd2-447c-c51d-bf6775cc30ef"
      },
      "outputs": [
        {
          "name": "stdout",
          "output_type": "stream",
          "text": [
            "Fitting 5 folds for each of 24 candidates, totalling 120 fits\n",
            "[CV 1/5] END learning_rate=0.1, max_depth=22, max_leaf_nodes=32, min_samples_leaf=47;, score=0.651 total time=   0.6s\n",
            "[CV 2/5] END learning_rate=0.1, max_depth=22, max_leaf_nodes=32, min_samples_leaf=47;, score=0.642 total time=   0.6s\n",
            "[CV 3/5] END learning_rate=0.1, max_depth=22, max_leaf_nodes=32, min_samples_leaf=47;, score=0.630 total time=   0.6s\n",
            "[CV 4/5] END learning_rate=0.1, max_depth=22, max_leaf_nodes=32, min_samples_leaf=47;, score=0.637 total time=   0.6s\n",
            "[CV 5/5] END learning_rate=0.1, max_depth=22, max_leaf_nodes=32, min_samples_leaf=47;, score=0.623 total time=   0.5s\n",
            "[CV 1/5] END learning_rate=0.1, max_depth=22, max_leaf_nodes=32, min_samples_leaf=50;, score=0.662 total time=   0.7s\n",
            "[CV 2/5] END learning_rate=0.1, max_depth=22, max_leaf_nodes=32, min_samples_leaf=50;, score=0.663 total time=   0.7s\n",
            "[CV 3/5] END learning_rate=0.1, max_depth=22, max_leaf_nodes=32, min_samples_leaf=50;, score=0.623 total time=   0.6s\n",
            "[CV 4/5] END learning_rate=0.1, max_depth=22, max_leaf_nodes=32, min_samples_leaf=50;, score=0.630 total time=   0.5s\n",
            "[CV 5/5] END learning_rate=0.1, max_depth=22, max_leaf_nodes=32, min_samples_leaf=50;, score=0.612 total time=   0.6s\n",
            "[CV 1/5] END learning_rate=0.1, max_depth=22, max_leaf_nodes=35, min_samples_leaf=47;, score=0.680 total time=   0.7s\n",
            "[CV 2/5] END learning_rate=0.1, max_depth=22, max_leaf_nodes=35, min_samples_leaf=47;, score=0.660 total time=   0.6s\n",
            "[CV 3/5] END learning_rate=0.1, max_depth=22, max_leaf_nodes=35, min_samples_leaf=47;, score=0.619 total time=   0.5s\n",
            "[CV 4/5] END learning_rate=0.1, max_depth=22, max_leaf_nodes=35, min_samples_leaf=47;, score=0.651 total time=   0.6s\n",
            "[CV 5/5] END learning_rate=0.1, max_depth=22, max_leaf_nodes=35, min_samples_leaf=47;, score=0.651 total time=   0.6s\n",
            "[CV 1/5] END learning_rate=0.1, max_depth=22, max_leaf_nodes=35, min_samples_leaf=50;, score=0.641 total time=   0.5s\n",
            "[CV 2/5] END learning_rate=0.1, max_depth=22, max_leaf_nodes=35, min_samples_leaf=50;, score=0.667 total time=   0.6s\n",
            "[CV 3/5] END learning_rate=0.1, max_depth=22, max_leaf_nodes=35, min_samples_leaf=50;, score=0.630 total time=   0.6s\n",
            "[CV 4/5] END learning_rate=0.1, max_depth=22, max_leaf_nodes=35, min_samples_leaf=50;, score=0.633 total time=   0.5s\n",
            "[CV 5/5] END learning_rate=0.1, max_depth=22, max_leaf_nodes=35, min_samples_leaf=50;, score=0.626 total time=   0.6s\n",
            "[CV 1/5] END learning_rate=0.1, max_depth=25, max_leaf_nodes=32, min_samples_leaf=47;, score=0.655 total time=   0.6s\n",
            "[CV 2/5] END learning_rate=0.1, max_depth=25, max_leaf_nodes=32, min_samples_leaf=47;, score=0.670 total time=   0.6s\n",
            "[CV 3/5] END learning_rate=0.1, max_depth=25, max_leaf_nodes=32, min_samples_leaf=47;, score=0.630 total time=   0.5s\n",
            "[CV 4/5] END learning_rate=0.1, max_depth=25, max_leaf_nodes=32, min_samples_leaf=47;, score=0.633 total time=   0.5s\n",
            "[CV 5/5] END learning_rate=0.1, max_depth=25, max_leaf_nodes=32, min_samples_leaf=47;, score=0.630 total time=   0.6s\n",
            "[CV 1/5] END learning_rate=0.1, max_depth=25, max_leaf_nodes=32, min_samples_leaf=50;, score=0.673 total time=   0.5s\n",
            "[CV 2/5] END learning_rate=0.1, max_depth=25, max_leaf_nodes=32, min_samples_leaf=50;, score=0.677 total time=   0.4s\n",
            "[CV 3/5] END learning_rate=0.1, max_depth=25, max_leaf_nodes=32, min_samples_leaf=50;, score=0.605 total time=   0.5s\n",
            "[CV 4/5] END learning_rate=0.1, max_depth=25, max_leaf_nodes=32, min_samples_leaf=50;, score=0.648 total time=   0.5s\n",
            "[CV 5/5] END learning_rate=0.1, max_depth=25, max_leaf_nodes=32, min_samples_leaf=50;, score=0.605 total time=   0.5s\n",
            "[CV 1/5] END learning_rate=0.1, max_depth=25, max_leaf_nodes=35, min_samples_leaf=47;, score=0.683 total time=   0.6s\n",
            "[CV 2/5] END learning_rate=0.1, max_depth=25, max_leaf_nodes=35, min_samples_leaf=47;, score=0.660 total time=   0.6s\n",
            "[CV 3/5] END learning_rate=0.1, max_depth=25, max_leaf_nodes=35, min_samples_leaf=47;, score=0.623 total time=   0.4s\n",
            "[CV 4/5] END learning_rate=0.1, max_depth=25, max_leaf_nodes=35, min_samples_leaf=47;, score=0.641 total time=   0.6s\n",
            "[CV 5/5] END learning_rate=0.1, max_depth=25, max_leaf_nodes=35, min_samples_leaf=47;, score=0.655 total time=   0.6s\n",
            "[CV 1/5] END learning_rate=0.1, max_depth=25, max_leaf_nodes=35, min_samples_leaf=50;, score=0.644 total time=   0.6s\n",
            "[CV 2/5] END learning_rate=0.1, max_depth=25, max_leaf_nodes=35, min_samples_leaf=50;, score=0.645 total time=   0.5s\n",
            "[CV 3/5] END learning_rate=0.1, max_depth=25, max_leaf_nodes=35, min_samples_leaf=50;, score=0.616 total time=   0.6s\n",
            "[CV 4/5] END learning_rate=0.1, max_depth=25, max_leaf_nodes=35, min_samples_leaf=50;, score=0.641 total time=   0.5s\n",
            "[CV 5/5] END learning_rate=0.1, max_depth=25, max_leaf_nodes=35, min_samples_leaf=50;, score=0.605 total time=   0.6s\n",
            "[CV 1/5] END learning_rate=0.12, max_depth=22, max_leaf_nodes=32, min_samples_leaf=47;, score=0.669 total time=   0.6s\n",
            "[CV 2/5] END learning_rate=0.12, max_depth=22, max_leaf_nodes=32, min_samples_leaf=47;, score=0.677 total time=   0.4s\n",
            "[CV 3/5] END learning_rate=0.12, max_depth=22, max_leaf_nodes=32, min_samples_leaf=47;, score=0.655 total time=   0.5s\n",
            "[CV 4/5] END learning_rate=0.12, max_depth=22, max_leaf_nodes=32, min_samples_leaf=47;, score=0.648 total time=   0.5s\n",
            "[CV 5/5] END learning_rate=0.12, max_depth=22, max_leaf_nodes=32, min_samples_leaf=47;, score=0.637 total time=   0.5s\n",
            "[CV 1/5] END learning_rate=0.12, max_depth=22, max_leaf_nodes=32, min_samples_leaf=50;, score=0.637 total time=   0.5s\n",
            "[CV 2/5] END learning_rate=0.12, max_depth=22, max_leaf_nodes=32, min_samples_leaf=50;, score=0.652 total time=   0.5s\n",
            "[CV 3/5] END learning_rate=0.12, max_depth=22, max_leaf_nodes=32, min_samples_leaf=50;, score=0.626 total time=   0.5s\n",
            "[CV 4/5] END learning_rate=0.12, max_depth=22, max_leaf_nodes=32, min_samples_leaf=50;, score=0.651 total time=   0.5s\n",
            "[CV 5/5] END learning_rate=0.12, max_depth=22, max_leaf_nodes=32, min_samples_leaf=50;, score=0.626 total time=   0.4s\n",
            "[CV 1/5] END learning_rate=0.12, max_depth=22, max_leaf_nodes=35, min_samples_leaf=47;, score=0.658 total time=   0.5s\n",
            "[CV 2/5] END learning_rate=0.12, max_depth=22, max_leaf_nodes=35, min_samples_leaf=47;, score=0.660 total time=   0.5s\n",
            "[CV 3/5] END learning_rate=0.12, max_depth=22, max_leaf_nodes=35, min_samples_leaf=47;, score=0.616 total time=   0.6s\n",
            "[CV 4/5] END learning_rate=0.12, max_depth=22, max_leaf_nodes=35, min_samples_leaf=47;, score=0.641 total time=   0.6s\n",
            "[CV 5/5] END learning_rate=0.12, max_depth=22, max_leaf_nodes=35, min_samples_leaf=47;, score=0.626 total time=   0.6s\n",
            "[CV 1/5] END learning_rate=0.12, max_depth=22, max_leaf_nodes=35, min_samples_leaf=50;, score=0.651 total time=   0.6s\n",
            "[CV 2/5] END learning_rate=0.12, max_depth=22, max_leaf_nodes=35, min_samples_leaf=50;, score=0.663 total time=   0.5s\n",
            "[CV 3/5] END learning_rate=0.12, max_depth=22, max_leaf_nodes=35, min_samples_leaf=50;, score=0.616 total time=   0.5s\n",
            "[CV 4/5] END learning_rate=0.12, max_depth=22, max_leaf_nodes=35, min_samples_leaf=50;, score=0.623 total time=   0.6s\n",
            "[CV 5/5] END learning_rate=0.12, max_depth=22, max_leaf_nodes=35, min_samples_leaf=50;, score=0.587 total time=   0.6s\n",
            "[CV 1/5] END learning_rate=0.12, max_depth=25, max_leaf_nodes=32, min_samples_leaf=47;, score=0.673 total time=   0.5s\n",
            "[CV 2/5] END learning_rate=0.12, max_depth=25, max_leaf_nodes=32, min_samples_leaf=47;, score=0.649 total time=   0.5s\n",
            "[CV 3/5] END learning_rate=0.12, max_depth=25, max_leaf_nodes=32, min_samples_leaf=47;, score=0.633 total time=   0.5s\n",
            "[CV 4/5] END learning_rate=0.12, max_depth=25, max_leaf_nodes=32, min_samples_leaf=47;, score=0.655 total time=   0.6s\n",
            "[CV 5/5] END learning_rate=0.12, max_depth=25, max_leaf_nodes=32, min_samples_leaf=47;, score=0.637 total time=   0.5s\n",
            "[CV 1/5] END learning_rate=0.12, max_depth=25, max_leaf_nodes=32, min_samples_leaf=50;, score=0.669 total time=   0.4s\n",
            "[CV 2/5] END learning_rate=0.12, max_depth=25, max_leaf_nodes=32, min_samples_leaf=50;, score=0.652 total time=   0.5s\n",
            "[CV 3/5] END learning_rate=0.12, max_depth=25, max_leaf_nodes=32, min_samples_leaf=50;, score=0.616 total time=   0.5s\n",
            "[CV 4/5] END learning_rate=0.12, max_depth=25, max_leaf_nodes=32, min_samples_leaf=50;, score=0.648 total time=   0.5s\n",
            "[CV 5/5] END learning_rate=0.12, max_depth=25, max_leaf_nodes=32, min_samples_leaf=50;, score=0.630 total time=   0.5s\n",
            "[CV 1/5] END learning_rate=0.12, max_depth=25, max_leaf_nodes=35, min_samples_leaf=47;, score=0.641 total time=   0.4s\n",
            "[CV 2/5] END learning_rate=0.12, max_depth=25, max_leaf_nodes=35, min_samples_leaf=47;, score=0.660 total time=   0.6s\n",
            "[CV 3/5] END learning_rate=0.12, max_depth=25, max_leaf_nodes=35, min_samples_leaf=47;, score=0.633 total time=   0.6s\n",
            "[CV 4/5] END learning_rate=0.12, max_depth=25, max_leaf_nodes=35, min_samples_leaf=47;, score=0.658 total time=   0.5s\n",
            "[CV 5/5] END learning_rate=0.12, max_depth=25, max_leaf_nodes=35, min_samples_leaf=47;, score=0.637 total time=   0.6s\n",
            "[CV 1/5] END learning_rate=0.12, max_depth=25, max_leaf_nodes=35, min_samples_leaf=50;, score=0.658 total time=   0.5s\n",
            "[CV 2/5] END learning_rate=0.12, max_depth=25, max_leaf_nodes=35, min_samples_leaf=50;, score=0.652 total time=   0.6s\n",
            "[CV 3/5] END learning_rate=0.12, max_depth=25, max_leaf_nodes=35, min_samples_leaf=50;, score=0.633 total time=   0.6s\n",
            "[CV 4/5] END learning_rate=0.12, max_depth=25, max_leaf_nodes=35, min_samples_leaf=50;, score=0.637 total time=   0.5s\n",
            "[CV 5/5] END learning_rate=0.12, max_depth=25, max_leaf_nodes=35, min_samples_leaf=50;, score=0.591 total time=   0.7s\n",
            "[CV 1/5] END learning_rate=0.15, max_depth=22, max_leaf_nodes=32, min_samples_leaf=47;, score=0.651 total time=   0.5s\n",
            "[CV 2/5] END learning_rate=0.15, max_depth=22, max_leaf_nodes=32, min_samples_leaf=47;, score=0.656 total time=   0.5s\n",
            "[CV 3/5] END learning_rate=0.15, max_depth=22, max_leaf_nodes=32, min_samples_leaf=47;, score=0.630 total time=   0.4s\n",
            "[CV 4/5] END learning_rate=0.15, max_depth=22, max_leaf_nodes=32, min_samples_leaf=47;, score=0.637 total time=   0.4s\n",
            "[CV 5/5] END learning_rate=0.15, max_depth=22, max_leaf_nodes=32, min_samples_leaf=47;, score=0.605 total time=   0.4s\n",
            "[CV 1/5] END learning_rate=0.15, max_depth=22, max_leaf_nodes=32, min_samples_leaf=50;, score=0.655 total time=   0.4s\n",
            "[CV 2/5] END learning_rate=0.15, max_depth=22, max_leaf_nodes=32, min_samples_leaf=50;, score=0.638 total time=   0.5s\n",
            "[CV 3/5] END learning_rate=0.15, max_depth=22, max_leaf_nodes=32, min_samples_leaf=50;, score=0.633 total time=   0.5s\n",
            "[CV 4/5] END learning_rate=0.15, max_depth=22, max_leaf_nodes=32, min_samples_leaf=50;, score=0.655 total time=   0.5s\n",
            "[CV 5/5] END learning_rate=0.15, max_depth=22, max_leaf_nodes=32, min_samples_leaf=50;, score=0.612 total time=   0.4s\n",
            "[CV 1/5] END learning_rate=0.15, max_depth=22, max_leaf_nodes=35, min_samples_leaf=47;, score=0.651 total time=   0.4s\n",
            "[CV 2/5] END learning_rate=0.15, max_depth=22, max_leaf_nodes=35, min_samples_leaf=47;, score=0.642 total time=   0.5s\n",
            "[CV 3/5] END learning_rate=0.15, max_depth=22, max_leaf_nodes=35, min_samples_leaf=47;, score=0.619 total time=   0.5s\n",
            "[CV 4/5] END learning_rate=0.15, max_depth=22, max_leaf_nodes=35, min_samples_leaf=47;, score=0.651 total time=   0.4s\n",
            "[CV 5/5] END learning_rate=0.15, max_depth=22, max_leaf_nodes=35, min_samples_leaf=47;, score=0.605 total time=   0.4s\n",
            "[CV 1/5] END learning_rate=0.15, max_depth=22, max_leaf_nodes=35, min_samples_leaf=50;, score=0.658 total time=   0.4s\n",
            "[CV 2/5] END learning_rate=0.15, max_depth=22, max_leaf_nodes=35, min_samples_leaf=50;, score=0.635 total time=   0.4s\n",
            "[CV 3/5] END learning_rate=0.15, max_depth=22, max_leaf_nodes=35, min_samples_leaf=50;, score=0.619 total time=   0.4s\n",
            "[CV 4/5] END learning_rate=0.15, max_depth=22, max_leaf_nodes=35, min_samples_leaf=50;, score=0.612 total time=   0.5s\n",
            "[CV 5/5] END learning_rate=0.15, max_depth=22, max_leaf_nodes=35, min_samples_leaf=50;, score=0.601 total time=   0.4s\n",
            "[CV 1/5] END learning_rate=0.15, max_depth=25, max_leaf_nodes=32, min_samples_leaf=47;, score=0.655 total time=   0.4s\n",
            "[CV 2/5] END learning_rate=0.15, max_depth=25, max_leaf_nodes=32, min_samples_leaf=47;, score=0.674 total time=   0.4s\n",
            "[CV 3/5] END learning_rate=0.15, max_depth=25, max_leaf_nodes=32, min_samples_leaf=47;, score=0.626 total time=   0.4s\n",
            "[CV 4/5] END learning_rate=0.15, max_depth=25, max_leaf_nodes=32, min_samples_leaf=47;, score=0.651 total time=   0.4s\n",
            "[CV 5/5] END learning_rate=0.15, max_depth=25, max_leaf_nodes=32, min_samples_leaf=47;, score=0.644 total time=   0.4s\n",
            "[CV 1/5] END learning_rate=0.15, max_depth=25, max_leaf_nodes=32, min_samples_leaf=50;, score=0.655 total time=   0.4s\n",
            "[CV 2/5] END learning_rate=0.15, max_depth=25, max_leaf_nodes=32, min_samples_leaf=50;, score=0.638 total time=   0.4s\n",
            "[CV 3/5] END learning_rate=0.15, max_depth=25, max_leaf_nodes=32, min_samples_leaf=50;, score=0.616 total time=   0.4s\n",
            "[CV 4/5] END learning_rate=0.15, max_depth=25, max_leaf_nodes=32, min_samples_leaf=50;, score=0.641 total time=   0.4s\n",
            "[CV 5/5] END learning_rate=0.15, max_depth=25, max_leaf_nodes=32, min_samples_leaf=50;, score=0.637 total time=   0.4s\n",
            "[CV 1/5] END learning_rate=0.15, max_depth=25, max_leaf_nodes=35, min_samples_leaf=47;, score=0.662 total time=   0.4s\n",
            "[CV 2/5] END learning_rate=0.15, max_depth=25, max_leaf_nodes=35, min_samples_leaf=47;, score=0.649 total time=   0.4s\n",
            "[CV 3/5] END learning_rate=0.15, max_depth=25, max_leaf_nodes=35, min_samples_leaf=47;, score=0.616 total time=   0.4s\n",
            "[CV 4/5] END learning_rate=0.15, max_depth=25, max_leaf_nodes=35, min_samples_leaf=47;, score=0.648 total time=   0.4s\n",
            "[CV 5/5] END learning_rate=0.15, max_depth=25, max_leaf_nodes=35, min_samples_leaf=47;, score=0.605 total time=   0.4s\n",
            "[CV 1/5] END learning_rate=0.15, max_depth=25, max_leaf_nodes=35, min_samples_leaf=50;, score=0.641 total time=   0.4s\n",
            "[CV 2/5] END learning_rate=0.15, max_depth=25, max_leaf_nodes=35, min_samples_leaf=50;, score=0.645 total time=   0.5s\n",
            "[CV 3/5] END learning_rate=0.15, max_depth=25, max_leaf_nodes=35, min_samples_leaf=50;, score=0.605 total time=   0.4s\n",
            "[CV 4/5] END learning_rate=0.15, max_depth=25, max_leaf_nodes=35, min_samples_leaf=50;, score=0.619 total time=   0.4s\n",
            "[CV 5/5] END learning_rate=0.15, max_depth=25, max_leaf_nodes=35, min_samples_leaf=50;, score=0.623 total time=   0.4s\n"
          ]
        },
        {
          "data": {
            "text/plain": [
              "GridSearchCV(estimator=HistGradientBoostingClassifier(),\n",
              "             param_grid={'learning_rate': [0.1, 0.12, 0.15],\n",
              "                         'max_depth': [22, 25], 'max_leaf_nodes': [32, 35],\n",
              "                         'min_samples_leaf': [47, 50]},\n",
              "             scoring='recall', verbose=3)"
            ]
          },
          "execution_count": 102,
          "metadata": {},
          "output_type": "execute_result"
        }
      ],
      "source": [
        "#grid.fit(reduced_X, reduced_y)\n",
        "grid.fit(X_train_scaled, reduced_y)"
      ]
    },
    {
      "cell_type": "code",
      "execution_count": 103,
      "metadata": {
        "colab": {
          "base_uri": "https://localhost:8080/"
        },
        "id": "VazVQkyL8Yvk",
        "outputId": "eb831cd5-b167-4042-acc9-8315b5bb390e"
      },
      "outputs": [
        {
          "data": {
            "text/plain": [
              "{'learning_rate': 0.12,\n",
              " 'max_depth': 22,\n",
              " 'max_leaf_nodes': 32,\n",
              " 'min_samples_leaf': 47}"
            ]
          },
          "execution_count": 103,
          "metadata": {},
          "output_type": "execute_result"
        }
      ],
      "source": [
        "grid.best_params_"
      ]
    },
    {
      "cell_type": "code",
      "execution_count": 100,
      "metadata": {
        "colab": {
          "base_uri": "https://localhost:8080/"
        },
        "id": "hen77MMkIVC7",
        "outputId": "5b0a9df5-aef8-44db-e90f-55ee281e899b"
      },
      "outputs": [
        {
          "name": "stdout",
          "output_type": "stream",
          "text": [
            "[[21854  6116]\n",
            " [  112   239]]\n",
            "              precision    recall  f1-score   support\n",
            "\n",
            "           0       0.99      0.78      0.88     27970\n",
            "           1       0.04      0.68      0.07       351\n",
            "\n",
            "    accuracy                           0.78     28321\n",
            "   macro avg       0.52      0.73      0.47     28321\n",
            "weighted avg       0.98      0.78      0.87     28321\n",
            "\n"
          ]
        }
      ],
      "source": [
        "hgb = HistGradientBoostingClassifier(random_state=101, learning_rate=0.12, max_depth=22, max_leaf_nodes = 32, min_samples_leaf = 47)\n",
        "hgb.fit(X_train_scaled,reduced_y)\n",
        "hgb_pred = hgb.predict(X_test_scaled)\n",
        "print(confusion_matrix(new_y_test, hgb_pred))\n",
        "print(classification_report(new_y_test, hgb_pred))"
      ]
    }
  ],
  "metadata": {
    "colab": {
      "collapsed_sections": [],
      "provenance": []
    },
    "kernelspec": {
      "display_name": "Python 3.9.13 64-bit",
      "language": "python",
      "name": "python3"
    },
    "language_info": {
      "codemirror_mode": {
        "name": "ipython",
        "version": 3
      },
      "file_extension": ".py",
      "mimetype": "text/x-python",
      "name": "python",
      "nbconvert_exporter": "python",
      "pygments_lexer": "ipython3",
      "version": "3.9.13"
    },
    "orig_nbformat": 4,
    "vscode": {
      "interpreter": {
        "hash": "aee8b7b246df8f9039afb4144a1f6fd8d2ca17a180786b69acc140d282b71a49"
      }
    }
  },
  "nbformat": 4,
  "nbformat_minor": 0
}
